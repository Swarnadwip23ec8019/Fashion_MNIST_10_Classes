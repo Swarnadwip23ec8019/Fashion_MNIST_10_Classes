{
 "cells": [
  {
   "cell_type": "markdown",
   "id": "585cb86b",
   "metadata": {},
   "source": [
    "# Fashion MNIST (10 Class)"
   ]
  },
  {
   "cell_type": "markdown",
   "id": "374bc674",
   "metadata": {},
   "source": [
    "## Importing Libraries"
   ]
  },
  {
   "cell_type": "code",
   "execution_count": 2,
   "id": "ac5bb7f7",
   "metadata": {},
   "outputs": [
    {
     "data": {
      "text/html": [
       "        <script type=\"text/javascript\">\n",
       "        window.PlotlyConfig = {MathJaxConfig: 'local'};\n",
       "        if (window.MathJax && window.MathJax.Hub && window.MathJax.Hub.Config) {window.MathJax.Hub.Config({SVG: {font: \"STIX-Web\"}});}\n",
       "        </script>\n",
       "        <script type=\"module\">import \"https://cdn.plot.ly/plotly-3.1.1.min\"</script>\n",
       "        "
      ]
     },
     "metadata": {},
     "output_type": "display_data"
    }
   ],
   "source": [
    "import numpy as np\n",
    "import pandas as pd\n",
    "from sklearn.model_selection import train_test_split\n",
    "from sklearn.metrics import classification_report\n",
    "from tensorflow import keras\n",
    "from tensorflow.keras.models import Sequential\n",
    "from tensorflow.keras.layers import Dense, Flatten, Conv2D, Dropout, MaxPooling2D\n",
    "from IPython.display import SVG\n",
    "from tensorflow.keras.utils import model_to_dot, plot_model\n",
    "import seaborn as sns\n",
    "import matplotlib.pyplot as plt\n",
    "%matplotlib inline \n",
    "import plotly.graph_objs as go\n",
    "import plotly.figure_factory as ff\n",
    "from plotly import tools\n",
    "from plotly.offline import download_plotlyjs, init_notebook_mode, plot, iplot\n",
    "init_notebook_mode(connected=True)"
   ]
  },
  {
   "cell_type": "markdown",
   "id": "c9a08f9c",
   "metadata": {},
   "source": [
    "# Parameters"
   ]
  },
  {
   "cell_type": "code",
   "execution_count": 3,
   "id": "6c05d312",
   "metadata": {},
   "outputs": [
    {
     "name": "stdout",
     "output_type": "stream",
     "text": [
      "['fashion-mnist_test.csv', 'fashion-mnist_train.csv', 't10k-images-idx3-ubyte', 't10k-labels-idx1-ubyte', 'train-images-idx3-ubyte', 'train-labels-idx1-ubyte']\n"
     ]
    }
   ],
   "source": [
    "IMG_ROWS = 28\n",
    "IMG_COLS = 28\n",
    "NUM_CLASSES = 10\n",
    "TEST_SIZE = 0.2\n",
    "RANDOM_STATE = 2018\n",
    "#Model\n",
    "NO_EPOCHS = 50\n",
    "BATCH_SIZE = 128\n",
    "\n",
    "IS_LOCAL = False\n",
    "\n",
    "import os\n",
    "\n",
    "IS_LOCAL = True   # or False depending on your setup\n",
    "\n",
    "if IS_LOCAL:\n",
    "    PATH = \"./fashionmnist/\"\n",
    "else:\n",
    "    PATH = \"/content/fashionmnist/\"\n",
    "\n",
    "print(os.listdir(PATH))\n"
   ]
  },
  {
   "cell_type": "markdown",
   "id": "8a89c5dc",
   "metadata": {},
   "source": [
    "## Reading the Data"
   ]
  },
  {
   "cell_type": "code",
   "execution_count": 4,
   "id": "cadd007e",
   "metadata": {},
   "outputs": [],
   "source": [
    "train_file = PATH+\"fashion-mnist_train.csv\"\n",
    "test_file  = PATH+\"fashion-mnist_test.csv\"\n",
    "\n",
    "train_data = pd.read_csv(train_file)\n",
    "test_data = pd.read_csv(test_file)"
   ]
  },
  {
   "cell_type": "markdown",
   "id": "bb1ffee6",
   "metadata": {},
   "source": [
    "## Data Exploration"
   ]
  },
  {
   "cell_type": "code",
   "execution_count": 5,
   "id": "fa2edadb",
   "metadata": {},
   "outputs": [
    {
     "name": "stdout",
     "output_type": "stream",
     "text": [
      "Fashion MNIST train -  rows: 60000  columns: 785\n",
      "Fashion MNIST test -  rows: 10000  columns: 785\n"
     ]
    }
   ],
   "source": [
    "print(\"Fashion MNIST train -  rows:\",train_data.shape[0],\" columns:\", train_data.shape[1])\n",
    "print(\"Fashion MNIST test -  rows:\",test_data.shape[0],\" columns:\", test_data.shape[1])"
   ]
  },
  {
   "cell_type": "markdown",
   "id": "e754e3c6",
   "metadata": {},
   "source": [
    "## Class Distribution"
   ]
  },
  {
   "cell_type": "markdown",
   "id": "eb0b7706",
   "metadata": {},
   "source": [
    "### Train Set Images Class Distribution"
   ]
  },
  {
   "cell_type": "code",
   "execution_count": 6,
   "id": "c49afe10",
   "metadata": {},
   "outputs": [
    {
     "name": "stdout",
     "output_type": "stream",
     "text": [
      "Pullover            :   6000 or 10.0%\n",
      "Ankle Boot          :   6000 or 10.0%\n",
      "Shirt               :   6000 or 10.0%\n",
      "T-shirt/top         :   6000 or 10.0%\n",
      "Dress               :   6000 or 10.0%\n",
      "Coat                :   6000 or 10.0%\n",
      "Sandal              :   6000 or 10.0%\n",
      "Bag                 :   6000 or 10.0%\n",
      "Sneaker             :   6000 or 10.0%\n",
      "Trouser             :   6000 or 10.0%\n"
     ]
    }
   ],
   "source": [
    "# Create a dictionary for each type of label \n",
    "labels = {0 : \"T-shirt/top\", 1: \"Trouser\", 2: \"Pullover\", 3: \"Dress\", 4: \"Coat\",\n",
    "          5: \"Sandal\", 6: \"Shirt\", 7: \"Sneaker\", 8: \"Bag\", 9: \"Ankle Boot\"}\n",
    "\n",
    "def get_classes_distribution(data):\n",
    "    # Get the count for each label\n",
    "    label_counts = data[\"label\"].value_counts()\n",
    "\n",
    "    # Get total number of samples\n",
    "    total_samples = len(data)\n",
    "\n",
    "\n",
    "    # Count the number of items in each class\n",
    "    for i in range(len(label_counts)):\n",
    "        label = labels[label_counts.index[i]]\n",
    "        count = label_counts.values[i]\n",
    "        percent = (count / total_samples) * 100\n",
    "        print(\"{:<20s}:   {} or {}%\".format(label, count, percent))\n",
    "\n",
    "get_classes_distribution(train_data)"
   ]
  },
  {
   "cell_type": "markdown",
   "id": "be5e8566",
   "metadata": {},
   "source": [
    "### Test Set Images Class Distribution"
   ]
  },
  {
   "cell_type": "code",
   "execution_count": 7,
   "id": "8bdd26f1",
   "metadata": {},
   "outputs": [
    {
     "data": {
      "image/png": "[encoded data removed]",
      "text/plain": [
       "<Figure size 1200x400 with 1 Axes>"
      ]
     },
     "metadata": {},
     "output_type": "display_data"
    }
   ],
   "source": [
    "def plot_label_per_class(data):\n",
    "    f, ax = plt.subplots(1,1, figsize=(12,4))\n",
    "    g = sns.countplot(data.label, order = data[\"label\"].value_counts().index)\n",
    "    g.set_title(\"Number of labels for each class\")\n",
    "\n",
    "    for p, label in zip(g.patches, data[\"label\"].value_counts().index):\n",
    "        g.annotate(labels[label], (p.get_x(), p.get_height()+0.1))\n",
    "    plt.show()  \n",
    "    \n",
    "plot_label_per_class(train_data)"
   ]
  },
  {
   "cell_type": "code",
   "execution_count": 8,
   "id": "edc8b8ee",
   "metadata": {},
   "outputs": [
    {
     "name": "stdout",
     "output_type": "stream",
     "text": [
      "T-shirt/top         :   1000 or 10.0%\n",
      "Trouser             :   1000 or 10.0%\n",
      "Pullover            :   1000 or 10.0%\n",
      "Dress               :   1000 or 10.0%\n",
      "Bag                 :   1000 or 10.0%\n",
      "Shirt               :   1000 or 10.0%\n",
      "Sandal              :   1000 or 10.0%\n",
      "Coat                :   1000 or 10.0%\n",
      "Sneaker             :   1000 or 10.0%\n",
      "Ankle Boot          :   1000 or 10.0%\n"
     ]
    }
   ],
   "source": [
    "get_classes_distribution(test_data)"
   ]
  },
  {
   "cell_type": "code",
   "execution_count": 9,
   "id": "ba20aa0e",
   "metadata": {},
   "outputs": [
    {
     "data": {
      "image/png": "[encoded data removed]",
      "text/plain": [
       "<Figure size 1200x400 with 1 Axes>"
      ]
     },
     "metadata": {},
     "output_type": "display_data"
    }
   ],
   "source": [
    "plot_label_per_class(test_data)"
   ]
  },
  {
   "cell_type": "markdown",
   "id": "c0ecc907",
   "metadata": {},
   "source": [
    "## Sample Images"
   ]
  },
  {
   "cell_type": "markdown",
   "id": "14282859",
   "metadata": {},
   "source": [
    "### Train Set Sample Images"
   ]
  },
  {
   "cell_type": "code",
   "execution_count": 10,
   "id": "25a243b6",
   "metadata": {},
   "outputs": [
    {
     "name": "stdout",
     "output_type": "stream",
     "text": [
      "Total number of sample images to plot:  40\n"
     ]
    }
   ],
   "source": [
    "def sample_images_data(data):\n",
    "    # An empty list to collect some samples\n",
    "    sample_images = []\n",
    "    sample_labels = []\n",
    "\n",
    "    # Iterate over the keys of the labels dictionary defined in the above cell\n",
    "    for k in labels.keys():\n",
    "        # Get four samples for each category\n",
    "        samples = data[data[\"label\"] == k].head(4)\n",
    "        # Append the samples to the samples list\n",
    "        for j, s in enumerate(samples.values):\n",
    "            # First column contain labels, hence index should start from 1\n",
    "            img = np.array(samples.iloc[j, 1:]).reshape(IMG_ROWS,IMG_COLS)\n",
    "            sample_images.append(img)\n",
    "            sample_labels.append(samples.iloc[j, 0])\n",
    "\n",
    "    print(\"Total number of sample images to plot: \", len(sample_images))\n",
    "    return sample_images, sample_labels\n",
    "\n",
    "train_sample_images, train_sample_labels = sample_images_data(train_data)"
   ]
  },
  {
   "cell_type": "markdown",
   "id": "318ad3e8",
   "metadata": {},
   "source": [
    "### Test Set Sample Images"
   ]
  },
  {
   "cell_type": "code",
   "execution_count": 11,
   "id": "974dcf5e",
   "metadata": {},
   "outputs": [
    {
     "data": {
      "image/png": "[encoded data removed]",
      "text/plain": [
       "<Figure size 1600x1000 with 40 Axes>"
      ]
     },
     "metadata": {},
     "output_type": "display_data"
    }
   ],
   "source": [
    "def plot_sample_images(data_sample_images,data_sample_labels,cmap=\"Blues\"):\n",
    "    # Plot the sample images now\n",
    "    f, ax = plt.subplots(5,8, figsize=(16,10))\n",
    "\n",
    "    for i, img in enumerate(data_sample_images):\n",
    "        ax[i//8, i%8].imshow(img, cmap=cmap)\n",
    "        ax[i//8, i%8].axis('off')\n",
    "        ax[i//8, i%8].set_title(labels[data_sample_labels[i]])\n",
    "    plt.show()    \n",
    "    \n",
    "plot_sample_images(train_sample_images,train_sample_labels, \"Greens\")"
   ]
  },
  {
   "cell_type": "code",
   "execution_count": 12,
   "id": "3ccac833",
   "metadata": {},
   "outputs": [
    {
     "name": "stdout",
     "output_type": "stream",
     "text": [
      "Total number of sample images to plot:  40\n"
     ]
    },
    {
     "data": {
      "image/png": "[encoded data removed]",
      "text/plain": [
       "<Figure size 1600x1000 with 40 Axes>"
      ]
     },
     "metadata": {},
     "output_type": "display_data"
    }
   ],
   "source": [
    "test_sample_images, test_sample_labels = sample_images_data(test_data)\n",
    "plot_sample_images(test_sample_images,test_sample_labels)"
   ]
  },
  {
   "cell_type": "markdown",
   "id": "1c8f5949",
   "metadata": {},
   "source": [
    "## Model"
   ]
  },
  {
   "cell_type": "markdown",
   "id": "82d1c6ce",
   "metadata": {},
   "source": [
    "### Data Preprocessing"
   ]
  },
  {
   "cell_type": "code",
   "execution_count": 13,
   "id": "ed8aab32",
   "metadata": {},
   "outputs": [],
   "source": [
    "# data preprocessing\n",
    "def data_preprocessing(raw):\n",
    "    out_y = keras.utils.to_categorical(raw.label, NUM_CLASSES)\n",
    "    num_images = raw.shape[0]\n",
    "    x_as_array = raw.values[:,1:]\n",
    "    x_shaped_array = x_as_array.reshape(num_images, IMG_ROWS, IMG_COLS, 1)\n",
    "    out_x = x_shaped_array / 255\n",
    "    return out_x, out_y"
   ]
  },
  {
   "cell_type": "markdown",
   "id": "852e6abf",
   "metadata": {},
   "source": [
    "### Preparing the Data"
   ]
  },
  {
   "cell_type": "code",
   "execution_count": 14,
   "id": "dff23857",
   "metadata": {},
   "outputs": [],
   "source": [
    "# prepare the data\n",
    "X, y = data_preprocessing(train_data)\n",
    "X_test, y_test = data_preprocessing(test_data)"
   ]
  },
  {
   "cell_type": "markdown",
   "id": "4259fffb",
   "metadata": {},
   "source": [
    "### Train and Test Data Splitting"
   ]
  },
  {
   "cell_type": "code",
   "execution_count": 15,
   "id": "96a30099",
   "metadata": {},
   "outputs": [],
   "source": [
    "X_train, X_val, y_train, y_val = train_test_split(X, y, test_size=TEST_SIZE, random_state=RANDOM_STATE)"
   ]
  },
  {
   "cell_type": "markdown",
   "id": "87e943ec",
   "metadata": {},
   "source": [
    "### Dimension of Train, Validation and Test sets"
   ]
  },
  {
   "cell_type": "code",
   "execution_count": 16,
   "id": "25fc7865",
   "metadata": {},
   "outputs": [
    {
     "name": "stdout",
     "output_type": "stream",
     "text": [
      "Fashion MNIST train -  rows: 48000  columns: (28, 28, 1)\n",
      "Fashion MNIST valid -  rows: 12000  columns: (28, 28, 1)\n",
      "Fashion MNIST test -  rows: 10000  columns: (28, 28, 1)\n"
     ]
    }
   ],
   "source": [
    "print(\"Fashion MNIST train -  rows:\",X_train.shape[0],\" columns:\", X_train.shape[1:4])\n",
    "print(\"Fashion MNIST valid -  rows:\",X_val.shape[0],\" columns:\", X_val.shape[1:4])\n",
    "print(\"Fashion MNIST test -  rows:\",X_test.shape[0],\" columns:\", X_test.shape[1:4])"
   ]
  },
  {
   "cell_type": "markdown",
   "id": "29eca14a",
   "metadata": {},
   "source": [
    "### Class Imbalance of training set"
   ]
  },
  {
   "cell_type": "code",
   "execution_count": 17,
   "id": "5f18cd82",
   "metadata": {},
   "outputs": [
    {
     "data": {
      "image/png": "[encoded data removed]",
      "text/plain": [
       "<Figure size 1200x400 with 1 Axes>"
      ]
     },
     "metadata": {},
     "output_type": "display_data"
    },
    {
     "name": "stdout",
     "output_type": "stream",
     "text": [
      "Dress               :   4891 or 10.189583333333333%\n",
      "Sandal              :   4855 or 10.114583333333334%\n",
      "Pullover            :   4836 or 10.075000000000001%\n",
      "Ankle Boot          :   4827 or 10.05625%\n",
      "Sneaker             :   4798 or 9.995833333333334%\n",
      "Coat                :   4796 or 9.991666666666667%\n",
      "Shirt               :   4779 or 9.95625%\n",
      "Bag                 :   4757 or 9.910416666666666%\n",
      "Trouser             :   4745 or 9.885416666666668%\n",
      "T-shirt/top         :   4716 or 9.825000000000001%\n"
     ]
    }
   ],
   "source": [
    "def plot_count_per_class(yd):\n",
    "    ydf = pd.DataFrame(yd)\n",
    "    f, ax = plt.subplots(1,1, figsize=(12,4))\n",
    "    g = sns.countplot(ydf[0], order = np.arange(0,10))\n",
    "    g.set_title(\"Number of items for each class\")\n",
    "    g.set_xlabel(\"Category\")\n",
    "    \n",
    "    for p, label in zip(g.patches, np.arange(0,10)):\n",
    "        g.annotate(labels[label], (p.get_x(), p.get_height()+0.1))\n",
    "        \n",
    "    plt.show()  \n",
    "\n",
    "def get_count_per_class(yd):\n",
    "    ydf = pd.DataFrame(yd)\n",
    "    # Get the count for each label\n",
    "    label_counts = ydf[0].value_counts()\n",
    "\n",
    "    # Get total number of samples\n",
    "    total_samples = len(yd)\n",
    "\n",
    "\n",
    "    # Count the number of items in each class\n",
    "    for i in range(len(label_counts)):\n",
    "        label = labels[label_counts.index[i]]\n",
    "        count = label_counts.values[i]\n",
    "        percent = (count / total_samples) * 100\n",
    "        print(\"{:<20s}:   {} or {}%\".format(label, count, percent))\n",
    "    \n",
    "plot_count_per_class(np.argmax(y_train,axis=1))\n",
    "get_count_per_class(np.argmax(y_train,axis=1))"
   ]
  },
  {
   "cell_type": "code",
   "execution_count": 18,
   "id": "d82b97b6",
   "metadata": {},
   "outputs": [
    {
     "data": {
      "image/png": "[encoded data removed]",
      "text/plain": [
       "<Figure size 1200x400 with 1 Axes>"
      ]
     },
     "metadata": {},
     "output_type": "display_data"
    },
    {
     "name": "stdout",
     "output_type": "stream",
     "text": [
      "T-shirt/top         :   1284 or 10.7%\n",
      "Trouser             :   1255 or 10.458333333333334%\n",
      "Bag                 :   1243 or 10.358333333333333%\n",
      "Shirt               :   1221 or 10.174999999999999%\n",
      "Coat                :   1204 or 10.033333333333333%\n",
      "Sneaker             :   1202 or 10.016666666666667%\n",
      "Ankle Boot          :   1173 or 9.775%\n",
      "Pullover            :   1164 or 9.700000000000001%\n",
      "Sandal              :   1145 or 9.541666666666666%\n",
      "Dress               :   1109 or 9.241666666666665%\n"
     ]
    }
   ],
   "source": [
    "plot_count_per_class(np.argmax(y_val,axis=1))\n",
    "get_count_per_class(np.argmax(y_val,axis=1))"
   ]
  },
  {
   "cell_type": "markdown",
   "id": "417a2d95",
   "metadata": {},
   "source": [
    "## Model Building"
   ]
  },
  {
   "cell_type": "markdown",
   "id": "4c903b87",
   "metadata": {},
   "source": [
    "### Adding hidden layers and compiling the Model"
   ]
  },
  {
   "cell_type": "code",
   "execution_count": 19,
   "id": "1d97f0cb",
   "metadata": {},
   "outputs": [
    {
     "name": "stderr",
     "output_type": "stream",
     "text": [
      "c:\\Users\\Swarnadwip_Sarkar\\anaconda3\\envs\\ML\\lib\\site-packages\\keras\\src\\layers\\convolutional\\base_conv.py:113: UserWarning:\n",
      "\n",
      "Do not pass an `input_shape`/`input_dim` argument to a layer. When using Sequential models, prefer using an `Input(shape)` object as the first layer in the model instead.\n",
      "\n"
     ]
    }
   ],
   "source": [
    "# Model\n",
    "model = Sequential()\n",
    "# Add convolution 2D\n",
    "model.add(Conv2D(32, kernel_size=(3, 3),\n",
    "                 activation='relu',\n",
    "                 kernel_initializer='he_normal',\n",
    "                 input_shape=(IMG_ROWS, IMG_COLS, 1)))\n",
    "model.add(MaxPooling2D((2, 2)))\n",
    "model.add(Conv2D(64, \n",
    "                 kernel_size=(3, 3), \n",
    "                 activation='relu'))\n",
    "model.add(MaxPooling2D(pool_size=(2, 2)))\n",
    "model.add(Conv2D(128, (3, 3), activation='relu'))\n",
    "model.add(Flatten())\n",
    "model.add(Dense(128, activation='relu'))\n",
    "model.add(Dense(NUM_CLASSES, activation='softmax'))\n",
    "\n",
    "\n",
    "model.compile(loss=keras.losses.categorical_crossentropy,\n",
    "              optimizer='adam',\n",
    "              metrics=['accuracy'])"
   ]
  },
  {
   "cell_type": "markdown",
   "id": "595c1863",
   "metadata": {},
   "source": [
    "### Summarize the model"
   ]
  },
  {
   "cell_type": "code",
   "execution_count": 20,
   "id": "d8e469ea",
   "metadata": {},
   "outputs": [
    {
     "data": {
      "text/html": [
       "<pre style=\"white-space:pre;overflow-x:auto;line-height:normal;font-family:Menlo,'DejaVu Sans Mono',consolas,'Courier New',monospace\"><span style=\"font-weight: bold\">Model: \"sequential\"</span>\n",
       "</pre>\n"
      ],
      "text/plain": [
       "\u001b[1mModel: \"sequential\"\u001b[0m\n"
      ]
     },
     "metadata": {},
     "output_type": "display_data"
    },
    {
     "data": {
      "text/html": [
       "<pre style=\"white-space:pre;overflow-x:auto;line-height:normal;font-family:Menlo,'DejaVu Sans Mono',consolas,'Courier New',monospace\">┏━━━━━━━━━━━━━━━━━━━━━━━━━━━━━━━━━┳━━━━━━━━━━━━━━━━━━━━━━━━┳━━━━━━━━━━━━━━━┓\n",
       "┃<span style=\"font-weight: bold\"> Layer (type)                    </span>┃<span style=\"font-weight: bold\"> Output Shape           </span>┃<span style=\"font-weight: bold\">       Param # </span>┃\n",
       "┡━━━━━━━━━━━━━━━━━━━━━━━━━━━━━━━━━╇━━━━━━━━━━━━━━━━━━━━━━━━╇━━━━━━━━━━━━━━━┩\n",
       "│ conv2d (<span style=\"color: #0087ff; text-decoration-color: #0087ff\">Conv2D</span>)                 │ (<span style=\"color: #00d7ff; text-decoration-color: #00d7ff\">None</span>, <span style=\"color: #00af00; text-decoration-color: #00af00\">26</span>, <span style=\"color: #00af00; text-decoration-color: #00af00\">26</span>, <span style=\"color: #00af00; text-decoration-color: #00af00\">32</span>)     │           <span style=\"color: #00af00; text-decoration-color: #00af00\">320</span> │\n",
       "├─────────────────────────────────┼────────────────────────┼───────────────┤\n",
       "│ max_pooling2d (<span style=\"color: #0087ff; text-decoration-color: #0087ff\">MaxPooling2D</span>)    │ (<span style=\"color: #00d7ff; text-decoration-color: #00d7ff\">None</span>, <span style=\"color: #00af00; text-decoration-color: #00af00\">13</span>, <span style=\"color: #00af00; text-decoration-color: #00af00\">13</span>, <span style=\"color: #00af00; text-decoration-color: #00af00\">32</span>)     │             <span style=\"color: #00af00; text-decoration-color: #00af00\">0</span> │\n",
       "├─────────────────────────────────┼────────────────────────┼───────────────┤\n",
       "│ conv2d_1 (<span style=\"color: #0087ff; text-decoration-color: #0087ff\">Conv2D</span>)               │ (<span style=\"color: #00d7ff; text-decoration-color: #00d7ff\">None</span>, <span style=\"color: #00af00; text-decoration-color: #00af00\">11</span>, <span style=\"color: #00af00; text-decoration-color: #00af00\">11</span>, <span style=\"color: #00af00; text-decoration-color: #00af00\">64</span>)     │        <span style=\"color: #00af00; text-decoration-color: #00af00\">18,496</span> │\n",
       "├─────────────────────────────────┼────────────────────────┼───────────────┤\n",
       "│ max_pooling2d_1 (<span style=\"color: #0087ff; text-decoration-color: #0087ff\">MaxPooling2D</span>)  │ (<span style=\"color: #00d7ff; text-decoration-color: #00d7ff\">None</span>, <span style=\"color: #00af00; text-decoration-color: #00af00\">5</span>, <span style=\"color: #00af00; text-decoration-color: #00af00\">5</span>, <span style=\"color: #00af00; text-decoration-color: #00af00\">64</span>)       │             <span style=\"color: #00af00; text-decoration-color: #00af00\">0</span> │\n",
       "├─────────────────────────────────┼────────────────────────┼───────────────┤\n",
       "│ conv2d_2 (<span style=\"color: #0087ff; text-decoration-color: #0087ff\">Conv2D</span>)               │ (<span style=\"color: #00d7ff; text-decoration-color: #00d7ff\">None</span>, <span style=\"color: #00af00; text-decoration-color: #00af00\">3</span>, <span style=\"color: #00af00; text-decoration-color: #00af00\">3</span>, <span style=\"color: #00af00; text-decoration-color: #00af00\">128</span>)      │        <span style=\"color: #00af00; text-decoration-color: #00af00\">73,856</span> │\n",
       "├─────────────────────────────────┼────────────────────────┼───────────────┤\n",
       "│ flatten (<span style=\"color: #0087ff; text-decoration-color: #0087ff\">Flatten</span>)               │ (<span style=\"color: #00d7ff; text-decoration-color: #00d7ff\">None</span>, <span style=\"color: #00af00; text-decoration-color: #00af00\">1152</span>)           │             <span style=\"color: #00af00; text-decoration-color: #00af00\">0</span> │\n",
       "├─────────────────────────────────┼────────────────────────┼───────────────┤\n",
       "│ dense (<span style=\"color: #0087ff; text-decoration-color: #0087ff\">Dense</span>)                   │ (<span style=\"color: #00d7ff; text-decoration-color: #00d7ff\">None</span>, <span style=\"color: #00af00; text-decoration-color: #00af00\">128</span>)            │       <span style=\"color: #00af00; text-decoration-color: #00af00\">147,584</span> │\n",
       "├─────────────────────────────────┼────────────────────────┼───────────────┤\n",
       "│ dense_1 (<span style=\"color: #0087ff; text-decoration-color: #0087ff\">Dense</span>)                 │ (<span style=\"color: #00d7ff; text-decoration-color: #00d7ff\">None</span>, <span style=\"color: #00af00; text-decoration-color: #00af00\">10</span>)             │         <span style=\"color: #00af00; text-decoration-color: #00af00\">1,290</span> │\n",
       "└─────────────────────────────────┴────────────────────────┴───────────────┘\n",
       "</pre>\n"
      ],
      "text/plain": [
       "┏━━━━━━━━━━━━━━━━━━━━━━━━━━━━━━━━━┳━━━━━━━━━━━━━━━━━━━━━━━━┳━━━━━━━━━━━━━━━┓\n",
       "┃\u001b[1m \u001b[0m\u001b[1mLayer (type)                   \u001b[0m\u001b[1m \u001b[0m┃\u001b[1m \u001b[0m\u001b[1mOutput Shape          \u001b[0m\u001b[1m \u001b[0m┃\u001b[1m \u001b[0m\u001b[1m      Param #\u001b[0m\u001b[1m \u001b[0m┃\n",
       "┡━━━━━━━━━━━━━━━━━━━━━━━━━━━━━━━━━╇━━━━━━━━━━━━━━━━━━━━━━━━╇━━━━━━━━━━━━━━━┩\n",
       "│ conv2d (\u001b[38;5;33mConv2D\u001b[0m)                 │ (\u001b[38;5;45mNone\u001b[0m, \u001b[38;5;34m26\u001b[0m, \u001b[38;5;34m26\u001b[0m, \u001b[38;5;34m32\u001b[0m)     │           \u001b[38;5;34m320\u001b[0m │\n",
       "├─────────────────────────────────┼────────────────────────┼───────────────┤\n",
       "│ max_pooling2d (\u001b[38;5;33mMaxPooling2D\u001b[0m)    │ (\u001b[38;5;45mNone\u001b[0m, \u001b[38;5;34m13\u001b[0m, \u001b[38;5;34m13\u001b[0m, \u001b[38;5;34m32\u001b[0m)     │             \u001b[38;5;34m0\u001b[0m │\n",
       "├─────────────────────────────────┼────────────────────────┼───────────────┤\n",
       "│ conv2d_1 (\u001b[38;5;33mConv2D\u001b[0m)               │ (\u001b[38;5;45mNone\u001b[0m, \u001b[38;5;34m11\u001b[0m, \u001b[38;5;34m11\u001b[0m, \u001b[38;5;34m64\u001b[0m)     │        \u001b[38;5;34m18,496\u001b[0m │\n",
       "├─────────────────────────────────┼────────────────────────┼───────────────┤\n",
       "│ max_pooling2d_1 (\u001b[38;5;33mMaxPooling2D\u001b[0m)  │ (\u001b[38;5;45mNone\u001b[0m, \u001b[38;5;34m5\u001b[0m, \u001b[38;5;34m5\u001b[0m, \u001b[38;5;34m64\u001b[0m)       │             \u001b[38;5;34m0\u001b[0m │\n",
       "├─────────────────────────────────┼────────────────────────┼───────────────┤\n",
       "│ conv2d_2 (\u001b[38;5;33mConv2D\u001b[0m)               │ (\u001b[38;5;45mNone\u001b[0m, \u001b[38;5;34m3\u001b[0m, \u001b[38;5;34m3\u001b[0m, \u001b[38;5;34m128\u001b[0m)      │        \u001b[38;5;34m73,856\u001b[0m │\n",
       "├─────────────────────────────────┼────────────────────────┼───────────────┤\n",
       "│ flatten (\u001b[38;5;33mFlatten\u001b[0m)               │ (\u001b[38;5;45mNone\u001b[0m, \u001b[38;5;34m1152\u001b[0m)           │             \u001b[38;5;34m0\u001b[0m │\n",
       "├─────────────────────────────────┼────────────────────────┼───────────────┤\n",
       "│ dense (\u001b[38;5;33mDense\u001b[0m)                   │ (\u001b[38;5;45mNone\u001b[0m, \u001b[38;5;34m128\u001b[0m)            │       \u001b[38;5;34m147,584\u001b[0m │\n",
       "├─────────────────────────────────┼────────────────────────┼───────────────┤\n",
       "│ dense_1 (\u001b[38;5;33mDense\u001b[0m)                 │ (\u001b[38;5;45mNone\u001b[0m, \u001b[38;5;34m10\u001b[0m)             │         \u001b[38;5;34m1,290\u001b[0m │\n",
       "└─────────────────────────────────┴────────────────────────┴───────────────┘\n"
      ]
     },
     "metadata": {},
     "output_type": "display_data"
    },
    {
     "data": {
      "text/html": [
       "<pre style=\"white-space:pre;overflow-x:auto;line-height:normal;font-family:Menlo,'DejaVu Sans Mono',consolas,'Courier New',monospace\"><span style=\"font-weight: bold\"> Total params: </span><span style=\"color: #00af00; text-decoration-color: #00af00\">241,546</span> (943.54 KB)\n",
       "</pre>\n"
      ],
      "text/plain": [
       "\u001b[1m Total params: \u001b[0m\u001b[38;5;34m241,546\u001b[0m (943.54 KB)\n"
      ]
     },
     "metadata": {},
     "output_type": "display_data"
    },
    {
     "data": {
      "text/html": [
       "<pre style=\"white-space:pre;overflow-x:auto;line-height:normal;font-family:Menlo,'DejaVu Sans Mono',consolas,'Courier New',monospace\"><span style=\"font-weight: bold\"> Trainable params: </span><span style=\"color: #00af00; text-decoration-color: #00af00\">241,546</span> (943.54 KB)\n",
       "</pre>\n"
      ],
      "text/plain": [
       "\u001b[1m Trainable params: \u001b[0m\u001b[38;5;34m241,546\u001b[0m (943.54 KB)\n"
      ]
     },
     "metadata": {},
     "output_type": "display_data"
    },
    {
     "data": {
      "text/html": [
       "<pre style=\"white-space:pre;overflow-x:auto;line-height:normal;font-family:Menlo,'DejaVu Sans Mono',consolas,'Courier New',monospace\"><span style=\"font-weight: bold\"> Non-trainable params: </span><span style=\"color: #00af00; text-decoration-color: #00af00\">0</span> (0.00 B)\n",
       "</pre>\n"
      ],
      "text/plain": [
       "\u001b[1m Non-trainable params: \u001b[0m\u001b[38;5;34m0\u001b[0m (0.00 B)\n"
      ]
     },
     "metadata": {},
     "output_type": "display_data"
    }
   ],
   "source": [
    "model.summary()"
   ]
  },
  {
   "cell_type": "code",
   "execution_count": 21,
   "id": "0c43cc07",
   "metadata": {},
   "outputs": [
    {
     "data": {
      "image/svg+xml": [
       "<svg xmlns=\"http://www.w3.org/2000/svg\" xmlns:xlink=\"http://www.w3.org/1999/xlink\" width=\"805pt\" height=\"1739pt\" viewBox=\"0.00 0.00 805.00 1739.00\">\n",
       "<g id=\"graph0\" class=\"graph\" transform=\"scale(2.77778 2.77778) rotate(0) translate(4 622)\">\n",
       "<title>G</title>\n",
       "<polygon fill=\"white\" stroke=\"none\" points=\"-4,4 -4,-622 285.75,-622 285.75,4 -4,4\"/>\n",
       "<!-- 1783062047680 -->\n",
       "<g id=\"node1\" class=\"node\">\n",
       "<title>1783062047680</title>\n",
       "<polygon fill=\"none\" stroke=\"black\" points=\"63.38,-572.75 63.38,-617.5 218.38,-617.5 218.38,-572.75 63.38,-572.75\"/>\n",
       "<polygon fill=\"black\" stroke=\"none\" points=\"63.38,-572.75 63.38,-617.5 218.38,-617.5 218.38,-572.75 63.38,-572.75\"/>\n",
       "<polygon fill=\"black\" stroke=\"none\" points=\"65.38,-574.75 65.38,-615.5 216.38,-615.5 216.38,-574.75 65.38,-574.75\"/>\n",
       "<polygon fill=\"none\" stroke=\"black\" points=\"65.38,-574.75 65.38,-615.5 216.38,-615.5 216.38,-574.75 65.38,-574.75\"/>\n",
       "<text xml:space=\"preserve\" text-anchor=\"start\" x=\"76.38\" y=\"-590.3\" font-family=\"Helvetica,sans-Serif\" font-weight=\"bold\" font-size=\"16.00\" fill=\"white\">conv2d</text>\n",
       "<text xml:space=\"preserve\" text-anchor=\"start\" x=\"132.62\" y=\"-590.3\" font-family=\"Helvetica,sans-Serif\" font-size=\"16.00\" fill=\"white\"> (Conv2D)</text>\n",
       "</g>\n",
       "<!-- 1783074083920 -->\n",
       "<g id=\"node2\" class=\"node\">\n",
       "<title>1783074083920</title>\n",
       "<polygon fill=\"none\" stroke=\"black\" points=\"9,-491 9,-535.75 272.75,-535.75 272.75,-491 9,-491\"/>\n",
       "<polygon fill=\"black\" stroke=\"none\" points=\"9,-491 9,-535.75 272.75,-535.75 272.75,-491 9,-491\"/>\n",
       "<polygon fill=\"black\" stroke=\"none\" points=\"11,-493 11,-533.75 270.75,-533.75 270.75,-493 11,-493\"/>\n",
       "<polygon fill=\"none\" stroke=\"black\" points=\"11,-493 11,-533.75 270.75,-533.75 270.75,-493 11,-493\"/>\n",
       "<text xml:space=\"preserve\" text-anchor=\"start\" x=\"22\" y=\"-508.55\" font-family=\"Helvetica,sans-Serif\" font-weight=\"bold\" font-size=\"16.00\" fill=\"white\">max_pooling2d</text>\n",
       "<text xml:space=\"preserve\" text-anchor=\"start\" x=\"139.75\" y=\"-508.55\" font-family=\"Helvetica,sans-Serif\" font-size=\"16.00\" fill=\"white\"> (MaxPooling2D)</text>\n",
       "</g>\n",
       "<!-- 1783062047680&#45;&gt;1783074083920 -->\n",
       "<g id=\"edge1\" class=\"edge\">\n",
       "<title>1783062047680-&gt;1783074083920</title>\n",
       "<path fill=\"none\" stroke=\"black\" stroke-width=\"2\" d=\"M140.88,-572.35C140.88,-572.35 140.88,-549.05 140.88,-549.05\"/>\n",
       "<polygon fill=\"black\" stroke=\"black\" stroke-width=\"2\" points=\"144.38,-549.05 140.88,-539.05 137.38,-549.05 144.38,-549.05\"/>\n",
       "</g>\n",
       "<!-- 1783074088864 -->\n",
       "<g id=\"node3\" class=\"node\">\n",
       "<title>1783074088864</title>\n",
       "<polygon fill=\"none\" stroke=\"black\" points=\"54.38,-409.25 54.38,-454 227.38,-454 227.38,-409.25 54.38,-409.25\"/>\n",
       "<polygon fill=\"black\" stroke=\"none\" points=\"54.38,-409.25 54.38,-454 227.38,-454 227.38,-409.25 54.38,-409.25\"/>\n",
       "<polygon fill=\"black\" stroke=\"none\" points=\"56.38,-411.25 56.38,-452 225.38,-452 225.38,-411.25 56.38,-411.25\"/>\n",
       "<polygon fill=\"none\" stroke=\"black\" points=\"56.38,-411.25 56.38,-452 225.38,-452 225.38,-411.25 56.38,-411.25\"/>\n",
       "<text xml:space=\"preserve\" text-anchor=\"start\" x=\"67.38\" y=\"-426.8\" font-family=\"Helvetica,sans-Serif\" font-weight=\"bold\" font-size=\"16.00\" fill=\"white\">conv2d_1</text>\n",
       "<text xml:space=\"preserve\" text-anchor=\"start\" x=\"141.62\" y=\"-426.8\" font-family=\"Helvetica,sans-Serif\" font-size=\"16.00\" fill=\"white\"> (Conv2D)</text>\n",
       "</g>\n",
       "<!-- 1783074083920&#45;&gt;1783074088864 -->\n",
       "<g id=\"edge2\" class=\"edge\">\n",
       "<title>1783074083920-&gt;1783074088864</title>\n",
       "<path fill=\"none\" stroke=\"black\" stroke-width=\"2\" d=\"M140.88,-490.6C140.88,-490.6 140.88,-467.3 140.88,-467.3\"/>\n",
       "<polygon fill=\"black\" stroke=\"black\" stroke-width=\"2\" points=\"144.38,-467.3 140.88,-457.3 137.38,-467.3 144.38,-467.3\"/>\n",
       "</g>\n",
       "<!-- 1783074089680 -->\n",
       "<g id=\"node4\" class=\"node\">\n",
       "<title>1783074089680</title>\n",
       "<polygon fill=\"none\" stroke=\"black\" points=\"0,-327.5 0,-372.25 281.75,-372.25 281.75,-327.5 0,-327.5\"/>\n",
       "<polygon fill=\"black\" stroke=\"none\" points=\"0,-327.5 0,-372.25 281.75,-372.25 281.75,-327.5 0,-327.5\"/>\n",
       "<polygon fill=\"black\" stroke=\"none\" points=\"2,-329.5 2,-370.25 279.75,-370.25 279.75,-329.5 2,-329.5\"/>\n",
       "<polygon fill=\"none\" stroke=\"black\" points=\"2,-329.5 2,-370.25 279.75,-370.25 279.75,-329.5 2,-329.5\"/>\n",
       "<text xml:space=\"preserve\" text-anchor=\"start\" x=\"13\" y=\"-345.05\" font-family=\"Helvetica,sans-Serif\" font-weight=\"bold\" font-size=\"16.00\" fill=\"white\">max_pooling2d_1</text>\n",
       "<text xml:space=\"preserve\" text-anchor=\"start\" x=\"148.75\" y=\"-345.05\" font-family=\"Helvetica,sans-Serif\" font-size=\"16.00\" fill=\"white\"> (MaxPooling2D)</text>\n",
       "</g>\n",
       "<!-- 1783074088864&#45;&gt;1783074089680 -->\n",
       "<g id=\"edge3\" class=\"edge\">\n",
       "<title>1783074088864-&gt;1783074089680</title>\n",
       "<path fill=\"none\" stroke=\"black\" stroke-width=\"2\" d=\"M140.88,-408.85C140.88,-408.85 140.88,-385.55 140.88,-385.55\"/>\n",
       "<polygon fill=\"black\" stroke=\"black\" stroke-width=\"2\" points=\"144.38,-385.55 140.88,-375.55 137.38,-385.55 144.38,-385.55\"/>\n",
       "</g>\n",
       "<!-- 1783075673552 -->\n",
       "<g id=\"node5\" class=\"node\">\n",
       "<title>1783075673552</title>\n",
       "<polygon fill=\"none\" stroke=\"black\" points=\"54.38,-245.75 54.38,-290.5 227.38,-290.5 227.38,-245.75 54.38,-245.75\"/>\n",
       "<polygon fill=\"black\" stroke=\"none\" points=\"54.38,-245.75 54.38,-290.5 227.38,-290.5 227.38,-245.75 54.38,-245.75\"/>\n",
       "<polygon fill=\"black\" stroke=\"none\" points=\"56.38,-247.75 56.38,-288.5 225.38,-288.5 225.38,-247.75 56.38,-247.75\"/>\n",
       "<polygon fill=\"none\" stroke=\"black\" points=\"56.38,-247.75 56.38,-288.5 225.38,-288.5 225.38,-247.75 56.38,-247.75\"/>\n",
       "<text xml:space=\"preserve\" text-anchor=\"start\" x=\"67.38\" y=\"-263.3\" font-family=\"Helvetica,sans-Serif\" font-weight=\"bold\" font-size=\"16.00\" fill=\"white\">conv2d_2</text>\n",
       "<text xml:space=\"preserve\" text-anchor=\"start\" x=\"141.62\" y=\"-263.3\" font-family=\"Helvetica,sans-Serif\" font-size=\"16.00\" fill=\"white\"> (Conv2D)</text>\n",
       "</g>\n",
       "<!-- 1783074089680&#45;&gt;1783075673552 -->\n",
       "<g id=\"edge4\" class=\"edge\">\n",
       "<title>1783074089680-&gt;1783075673552</title>\n",
       "<path fill=\"none\" stroke=\"black\" stroke-width=\"2\" d=\"M140.88,-327.1C140.88,-327.1 140.88,-303.8 140.88,-303.8\"/>\n",
       "<polygon fill=\"black\" stroke=\"black\" stroke-width=\"2\" points=\"144.38,-303.8 140.88,-293.8 137.38,-303.8 144.38,-303.8\"/>\n",
       "</g>\n",
       "<!-- 1783075674368 -->\n",
       "<g id=\"node6\" class=\"node\">\n",
       "<title>1783075674368</title>\n",
       "<polygon fill=\"none\" stroke=\"black\" points=\"71.62,-164 71.62,-208.75 210.12,-208.75 210.12,-164 71.62,-164\"/>\n",
       "<polygon fill=\"black\" stroke=\"none\" points=\"71.62,-164 71.62,-208.75 210.12,-208.75 210.12,-164 71.62,-164\"/>\n",
       "<polygon fill=\"black\" stroke=\"none\" points=\"73.62,-166 73.62,-206.75 208.12,-206.75 208.12,-166 73.62,-166\"/>\n",
       "<polygon fill=\"none\" stroke=\"black\" points=\"73.62,-166 73.62,-206.75 208.12,-206.75 208.12,-166 73.62,-166\"/>\n",
       "<text xml:space=\"preserve\" text-anchor=\"start\" x=\"84.62\" y=\"-181.55\" font-family=\"Helvetica,sans-Serif\" font-weight=\"bold\" font-size=\"16.00\" fill=\"white\">flatten</text>\n",
       "<text xml:space=\"preserve\" text-anchor=\"start\" x=\"132.62\" y=\"-181.55\" font-family=\"Helvetica,sans-Serif\" font-size=\"16.00\" fill=\"white\"> (Flatten)</text>\n",
       "</g>\n",
       "<!-- 1783075673552&#45;&gt;1783075674368 -->\n",
       "<g id=\"edge5\" class=\"edge\">\n",
       "<title>1783075673552-&gt;1783075674368</title>\n",
       "<path fill=\"none\" stroke=\"black\" stroke-width=\"2\" d=\"M140.88,-245.35C140.88,-245.35 140.88,-222.05 140.88,-222.05\"/>\n",
       "<polygon fill=\"black\" stroke=\"black\" stroke-width=\"2\" points=\"144.38,-222.05 140.88,-212.05 137.38,-222.05 144.38,-222.05\"/>\n",
       "</g>\n",
       "<!-- 1783075676624 -->\n",
       "<g id=\"node7\" class=\"node\">\n",
       "<title>1783075676624</title>\n",
       "<polygon fill=\"none\" stroke=\"black\" points=\"73.88,-82.25 73.88,-127 207.88,-127 207.88,-82.25 73.88,-82.25\"/>\n",
       "<polygon fill=\"black\" stroke=\"none\" points=\"73.88,-82.25 73.88,-127 207.88,-127 207.88,-82.25 73.88,-82.25\"/>\n",
       "<polygon fill=\"black\" stroke=\"none\" points=\"75.88,-84.25 75.88,-125 205.88,-125 205.88,-84.25 75.88,-84.25\"/>\n",
       "<polygon fill=\"none\" stroke=\"black\" points=\"75.88,-84.25 75.88,-125 205.88,-125 205.88,-84.25 75.88,-84.25\"/>\n",
       "<text xml:space=\"preserve\" text-anchor=\"start\" x=\"86.88\" y=\"-99.8\" font-family=\"Helvetica,sans-Serif\" font-weight=\"bold\" font-size=\"16.00\" fill=\"white\">dense</text>\n",
       "<text xml:space=\"preserve\" text-anchor=\"start\" x=\"133.38\" y=\"-99.8\" font-family=\"Helvetica,sans-Serif\" font-size=\"16.00\" fill=\"white\"> (Dense)</text>\n",
       "</g>\n",
       "<!-- 1783075674368&#45;&gt;1783075676624 -->\n",
       "<g id=\"edge6\" class=\"edge\">\n",
       "<title>1783075674368-&gt;1783075676624</title>\n",
       "<path fill=\"none\" stroke=\"black\" stroke-width=\"2\" d=\"M140.88,-163.6C140.88,-163.6 140.88,-140.3 140.88,-140.3\"/>\n",
       "<polygon fill=\"black\" stroke=\"black\" stroke-width=\"2\" points=\"144.38,-140.3 140.88,-130.3 137.38,-140.3 144.38,-140.3\"/>\n",
       "</g>\n",
       "<!-- 1783075818608 -->\n",
       "<g id=\"node8\" class=\"node\">\n",
       "<title>1783075818608</title>\n",
       "<polygon fill=\"none\" stroke=\"black\" points=\"64.88,-0.5 64.88,-45.25 216.88,-45.25 216.88,-0.5 64.88,-0.5\"/>\n",
       "<polygon fill=\"black\" stroke=\"none\" points=\"64.88,-0.5 64.88,-45.25 216.88,-45.25 216.88,-0.5 64.88,-0.5\"/>\n",
       "<polygon fill=\"black\" stroke=\"none\" points=\"66.88,-2.5 66.88,-43.25 214.88,-43.25 214.88,-2.5 66.88,-2.5\"/>\n",
       "<polygon fill=\"none\" stroke=\"black\" points=\"66.88,-2.5 66.88,-43.25 214.88,-43.25 214.88,-2.5 66.88,-2.5\"/>\n",
       "<text xml:space=\"preserve\" text-anchor=\"start\" x=\"77.88\" y=\"-18.05\" font-family=\"Helvetica,sans-Serif\" font-weight=\"bold\" font-size=\"16.00\" fill=\"white\">dense_1</text>\n",
       "<text xml:space=\"preserve\" text-anchor=\"start\" x=\"142.38\" y=\"-18.05\" font-family=\"Helvetica,sans-Serif\" font-size=\"16.00\" fill=\"white\"> (Dense)</text>\n",
       "</g>\n",
       "<!-- 1783075676624&#45;&gt;1783075818608 -->\n",
       "<g id=\"edge7\" class=\"edge\">\n",
       "<title>1783075676624-&gt;1783075818608</title>\n",
       "<path fill=\"none\" stroke=\"black\" stroke-width=\"2\" d=\"M140.88,-81.85C140.88,-81.85 140.88,-58.55 140.88,-58.55\"/>\n",
       "<polygon fill=\"black\" stroke=\"black\" stroke-width=\"2\" points=\"144.38,-58.55 140.88,-48.55 137.38,-58.55 144.38,-58.55\"/>\n",
       "</g>\n",
       "</g>\n",
       "</svg>"
      ],
      "text/plain": [
       "<IPython.core.display.SVG object>"
      ]
     },
     "execution_count": 21,
     "metadata": {},
     "output_type": "execute_result"
    }
   ],
   "source": [
    "plot_model(model, to_file='model.png')\n",
    "SVG(model_to_dot(model).create(prog='dot', format='svg'))"
   ]
  },
  {
   "cell_type": "markdown",
   "id": "87b30233",
   "metadata": {},
   "source": [
    "### Training the Model"
   ]
  },
  {
   "cell_type": "code",
   "execution_count": 22,
   "id": "b6aeea59",
   "metadata": {},
   "outputs": [
    {
     "name": "stdout",
     "output_type": "stream",
     "text": [
      "Epoch 1/50\n",
      "\u001b[1m375/375\u001b[0m \u001b[32m━━━━━━━━━━━━━━━━━━━━\u001b[0m\u001b[37m\u001b[0m \u001b[1m22s\u001b[0m 48ms/step - accuracy: 0.8040 - loss: 0.5391 - val_accuracy: 0.8499 - val_loss: 0.4140\n",
      "Epoch 2/50\n",
      "\u001b[1m375/375\u001b[0m \u001b[32m━━━━━━━━━━━━━━━━━━━━\u001b[0m\u001b[37m\u001b[0m \u001b[1m16s\u001b[0m 42ms/step - accuracy: 0.8741 - loss: 0.3474 - val_accuracy: 0.8824 - val_loss: 0.3308\n",
      "Epoch 3/50\n",
      "\u001b[1m375/375\u001b[0m \u001b[32m━━━━━━━━━━━━━━━━━━━━\u001b[0m\u001b[37m\u001b[0m \u001b[1m16s\u001b[0m 43ms/step - accuracy: 0.8903 - loss: 0.3013 - val_accuracy: 0.8954 - val_loss: 0.2979\n",
      "Epoch 4/50\n",
      "\u001b[1m375/375\u001b[0m \u001b[32m━━━━━━━━━━━━━━━━━━━━\u001b[0m\u001b[37m\u001b[0m \u001b[1m16s\u001b[0m 43ms/step - accuracy: 0.9017 - loss: 0.2676 - val_accuracy: 0.8976 - val_loss: 0.2892\n",
      "Epoch 5/50\n",
      "\u001b[1m375/375\u001b[0m \u001b[32m━━━━━━━━━━━━━━━━━━━━\u001b[0m\u001b[37m\u001b[0m \u001b[1m16s\u001b[0m 41ms/step - accuracy: 0.9104 - loss: 0.2435 - val_accuracy: 0.9020 - val_loss: 0.2789\n",
      "Epoch 6/50\n",
      "\u001b[1m375/375\u001b[0m \u001b[32m━━━━━━━━━━━━━━━━━━━━\u001b[0m\u001b[37m\u001b[0m \u001b[1m16s\u001b[0m 43ms/step - accuracy: 0.9186 - loss: 0.2178 - val_accuracy: 0.9055 - val_loss: 0.2708\n",
      "Epoch 7/50\n",
      "\u001b[1m375/375\u001b[0m \u001b[32m━━━━━━━━━━━━━━━━━━━━\u001b[0m\u001b[37m\u001b[0m \u001b[1m15s\u001b[0m 39ms/step - accuracy: 0.9248 - loss: 0.2011 - val_accuracy: 0.8993 - val_loss: 0.2843\n",
      "Epoch 8/50\n",
      "\u001b[1m375/375\u001b[0m \u001b[32m━━━━━━━━━━━━━━━━━━━━\u001b[0m\u001b[37m\u001b[0m \u001b[1m16s\u001b[0m 43ms/step - accuracy: 0.9314 - loss: 0.1859 - val_accuracy: 0.9087 - val_loss: 0.2710\n",
      "Epoch 9/50\n",
      "\u001b[1m375/375\u001b[0m \u001b[32m━━━━━━━━━━━━━━━━━━━━\u001b[0m\u001b[37m\u001b[0m \u001b[1m15s\u001b[0m 40ms/step - accuracy: 0.9385 - loss: 0.1650 - val_accuracy: 0.9045 - val_loss: 0.2919\n",
      "Epoch 10/50\n",
      "\u001b[1m375/375\u001b[0m \u001b[32m━━━━━━━━━━━━━━━━━━━━\u001b[0m\u001b[37m\u001b[0m \u001b[1m16s\u001b[0m 41ms/step - accuracy: 0.9446 - loss: 0.1477 - val_accuracy: 0.9107 - val_loss: 0.2745\n",
      "Epoch 11/50\n",
      "\u001b[1m375/375\u001b[0m \u001b[32m━━━━━━━━━━━━━━━━━━━━\u001b[0m\u001b[37m\u001b[0m \u001b[1m16s\u001b[0m 42ms/step - accuracy: 0.9504 - loss: 0.1333 - val_accuracy: 0.9047 - val_loss: 0.2824\n",
      "Epoch 12/50\n",
      "\u001b[1m375/375\u001b[0m \u001b[32m━━━━━━━━━━━━━━━━━━━━\u001b[0m\u001b[37m\u001b[0m \u001b[1m17s\u001b[0m 45ms/step - accuracy: 0.9551 - loss: 0.1185 - val_accuracy: 0.9068 - val_loss: 0.3198\n",
      "Epoch 13/50\n",
      "\u001b[1m375/375\u001b[0m \u001b[32m━━━━━━━━━━━━━━━━━━━━\u001b[0m\u001b[37m\u001b[0m \u001b[1m15s\u001b[0m 41ms/step - accuracy: 0.9609 - loss: 0.1049 - val_accuracy: 0.9090 - val_loss: 0.3132\n",
      "Epoch 14/50\n",
      "\u001b[1m375/375\u001b[0m \u001b[32m━━━━━━━━━━━━━━━━━━━━\u001b[0m\u001b[37m\u001b[0m \u001b[1m15s\u001b[0m 40ms/step - accuracy: 0.9650 - loss: 0.0933 - val_accuracy: 0.9117 - val_loss: 0.3097\n",
      "Epoch 15/50\n",
      "\u001b[1m375/375\u001b[0m \u001b[32m━━━━━━━━━━━━━━━━━━━━\u001b[0m\u001b[37m\u001b[0m \u001b[1m15s\u001b[0m 40ms/step - accuracy: 0.9694 - loss: 0.0827 - val_accuracy: 0.9087 - val_loss: 0.3341\n",
      "Epoch 16/50\n",
      "\u001b[1m375/375\u001b[0m \u001b[32m━━━━━━━━━━━━━━━━━━━━\u001b[0m\u001b[37m\u001b[0m \u001b[1m16s\u001b[0m 41ms/step - accuracy: 0.9720 - loss: 0.0741 - val_accuracy: 0.9115 - val_loss: 0.3635\n",
      "Epoch 17/50\n",
      "\u001b[1m375/375\u001b[0m \u001b[32m━━━━━━━━━━━━━━━━━━━━\u001b[0m\u001b[37m\u001b[0m \u001b[1m15s\u001b[0m 40ms/step - accuracy: 0.9744 - loss: 0.0689 - val_accuracy: 0.9066 - val_loss: 0.3581\n",
      "Epoch 18/50\n",
      "\u001b[1m375/375\u001b[0m \u001b[32m━━━━━━━━━━━━━━━━━━━━\u001b[0m\u001b[37m\u001b[0m \u001b[1m21s\u001b[0m 40ms/step - accuracy: 0.9788 - loss: 0.0573 - val_accuracy: 0.9098 - val_loss: 0.3948\n",
      "Epoch 19/50\n",
      "\u001b[1m375/375\u001b[0m \u001b[32m━━━━━━━━━━━━━━━━━━━━\u001b[0m\u001b[37m\u001b[0m \u001b[1m16s\u001b[0m 41ms/step - accuracy: 0.9805 - loss: 0.0523 - val_accuracy: 0.9043 - val_loss: 0.4228\n",
      "Epoch 20/50\n",
      "\u001b[1m375/375\u001b[0m \u001b[32m━━━━━━━━━━━━━━━━━━━━\u001b[0m\u001b[37m\u001b[0m \u001b[1m15s\u001b[0m 40ms/step - accuracy: 0.9792 - loss: 0.0560 - val_accuracy: 0.9074 - val_loss: 0.4081\n",
      "Epoch 21/50\n",
      "\u001b[1m375/375\u001b[0m \u001b[32m━━━━━━━━━━━━━━━━━━━━\u001b[0m\u001b[37m\u001b[0m \u001b[1m15s\u001b[0m 41ms/step - accuracy: 0.9837 - loss: 0.0438 - val_accuracy: 0.9121 - val_loss: 0.4577\n",
      "Epoch 22/50\n",
      "\u001b[1m375/375\u001b[0m \u001b[32m━━━━━━━━━━━━━━━━━━━━\u001b[0m\u001b[37m\u001b[0m \u001b[1m15s\u001b[0m 39ms/step - accuracy: 0.9850 - loss: 0.0418 - val_accuracy: 0.9047 - val_loss: 0.4719\n",
      "Epoch 23/50\n",
      "\u001b[1m375/375\u001b[0m \u001b[32m━━━━━━━━━━━━━━━━━━━━\u001b[0m\u001b[37m\u001b[0m \u001b[1m22s\u001b[0m 42ms/step - accuracy: 0.9859 - loss: 0.0384 - val_accuracy: 0.9101 - val_loss: 0.4798\n",
      "Epoch 24/50\n",
      "\u001b[1m375/375\u001b[0m \u001b[32m━━━━━━━━━━━━━━━━━━━━\u001b[0m\u001b[37m\u001b[0m \u001b[1m15s\u001b[0m 39ms/step - accuracy: 0.9880 - loss: 0.0333 - val_accuracy: 0.9093 - val_loss: 0.4779\n",
      "Epoch 25/50\n",
      "\u001b[1m375/375\u001b[0m \u001b[32m━━━━━━━━━━━━━━━━━━━━\u001b[0m\u001b[37m\u001b[0m \u001b[1m15s\u001b[0m 41ms/step - accuracy: 0.9876 - loss: 0.0348 - val_accuracy: 0.9009 - val_loss: 0.5194\n",
      "Epoch 26/50\n",
      "\u001b[1m375/375\u001b[0m \u001b[32m━━━━━━━━━━━━━━━━━━━━\u001b[0m\u001b[37m\u001b[0m \u001b[1m15s\u001b[0m 39ms/step - accuracy: 0.9870 - loss: 0.0352 - val_accuracy: 0.9074 - val_loss: 0.5422\n",
      "Epoch 27/50\n",
      "\u001b[1m375/375\u001b[0m \u001b[32m━━━━━━━━━━━━━━━━━━━━\u001b[0m\u001b[37m\u001b[0m \u001b[1m16s\u001b[0m 42ms/step - accuracy: 0.9904 - loss: 0.0267 - val_accuracy: 0.9099 - val_loss: 0.5505\n",
      "Epoch 28/50\n",
      "\u001b[1m375/375\u001b[0m \u001b[32m━━━━━━━━━━━━━━━━━━━━\u001b[0m\u001b[37m\u001b[0m \u001b[1m16s\u001b[0m 42ms/step - accuracy: 0.9914 - loss: 0.0230 - val_accuracy: 0.9081 - val_loss: 0.5622\n",
      "Epoch 29/50\n",
      "\u001b[1m375/375\u001b[0m \u001b[32m━━━━━━━━━━━━━━━━━━━━\u001b[0m\u001b[37m\u001b[0m \u001b[1m16s\u001b[0m 42ms/step - accuracy: 0.9899 - loss: 0.0272 - val_accuracy: 0.9073 - val_loss: 0.5591\n",
      "Epoch 30/50\n",
      "\u001b[1m375/375\u001b[0m \u001b[32m━━━━━━━━━━━━━━━━━━━━\u001b[0m\u001b[37m\u001b[0m \u001b[1m16s\u001b[0m 41ms/step - accuracy: 0.9919 - loss: 0.0225 - val_accuracy: 0.9089 - val_loss: 0.5623\n",
      "Epoch 31/50\n",
      "\u001b[1m375/375\u001b[0m \u001b[32m━━━━━━━━━━━━━━━━━━━━\u001b[0m\u001b[37m\u001b[0m \u001b[1m16s\u001b[0m 43ms/step - accuracy: 0.9905 - loss: 0.0262 - val_accuracy: 0.9063 - val_loss: 0.5911\n",
      "Epoch 32/50\n",
      "\u001b[1m375/375\u001b[0m \u001b[32m━━━━━━━━━━━━━━━━━━━━\u001b[0m\u001b[37m\u001b[0m \u001b[1m16s\u001b[0m 42ms/step - accuracy: 0.9910 - loss: 0.0254 - val_accuracy: 0.9090 - val_loss: 0.6238\n",
      "Epoch 33/50\n",
      "\u001b[1m375/375\u001b[0m \u001b[32m━━━━━━━━━━━━━━━━━━━━\u001b[0m\u001b[37m\u001b[0m \u001b[1m21s\u001b[0m 44ms/step - accuracy: 0.9905 - loss: 0.0264 - val_accuracy: 0.9071 - val_loss: 0.5840\n",
      "Epoch 34/50\n",
      "\u001b[1m375/375\u001b[0m \u001b[32m━━━━━━━━━━━━━━━━━━━━\u001b[0m\u001b[37m\u001b[0m \u001b[1m17s\u001b[0m 45ms/step - accuracy: 0.9919 - loss: 0.0223 - val_accuracy: 0.9069 - val_loss: 0.5643\n",
      "Epoch 35/50\n",
      "\u001b[1m375/375\u001b[0m \u001b[32m━━━━━━━━━━━━━━━━━━━━\u001b[0m\u001b[37m\u001b[0m \u001b[1m16s\u001b[0m 42ms/step - accuracy: 0.9933 - loss: 0.0189 - val_accuracy: 0.9101 - val_loss: 0.6228\n",
      "Epoch 36/50\n",
      "\u001b[1m375/375\u001b[0m \u001b[32m━━━━━━━━━━━━━━━━━━━━\u001b[0m\u001b[37m\u001b[0m \u001b[1m17s\u001b[0m 44ms/step - accuracy: 0.9935 - loss: 0.0183 - val_accuracy: 0.9093 - val_loss: 0.6472\n",
      "Epoch 37/50\n",
      "\u001b[1m375/375\u001b[0m \u001b[32m━━━━━━━━━━━━━━━━━━━━\u001b[0m\u001b[37m\u001b[0m \u001b[1m16s\u001b[0m 42ms/step - accuracy: 0.9941 - loss: 0.0167 - val_accuracy: 0.9064 - val_loss: 0.6865\n",
      "Epoch 38/50\n",
      "\u001b[1m375/375\u001b[0m \u001b[32m━━━━━━━━━━━━━━━━━━━━\u001b[0m\u001b[37m\u001b[0m \u001b[1m16s\u001b[0m 42ms/step - accuracy: 0.9913 - loss: 0.0257 - val_accuracy: 0.9072 - val_loss: 0.6341\n",
      "Epoch 39/50\n",
      "\u001b[1m375/375\u001b[0m \u001b[32m━━━━━━━━━━━━━━━━━━━━\u001b[0m\u001b[37m\u001b[0m \u001b[1m16s\u001b[0m 43ms/step - accuracy: 0.9934 - loss: 0.0194 - val_accuracy: 0.9050 - val_loss: 0.6960\n",
      "Epoch 40/50\n",
      "\u001b[1m375/375\u001b[0m \u001b[32m━━━━━━━━━━━━━━━━━━━━\u001b[0m\u001b[37m\u001b[0m \u001b[1m20s\u001b[0m 42ms/step - accuracy: 0.9918 - loss: 0.0233 - val_accuracy: 0.9086 - val_loss: 0.6899\n",
      "Epoch 41/50\n",
      "\u001b[1m375/375\u001b[0m \u001b[32m━━━━━━━━━━━━━━━━━━━━\u001b[0m\u001b[37m\u001b[0m \u001b[1m17s\u001b[0m 45ms/step - accuracy: 0.9952 - loss: 0.0140 - val_accuracy: 0.9074 - val_loss: 0.7231\n",
      "Epoch 42/50\n",
      "\u001b[1m375/375\u001b[0m \u001b[32m━━━━━━━━━━━━━━━━━━━━\u001b[0m\u001b[37m\u001b[0m \u001b[1m16s\u001b[0m 43ms/step - accuracy: 0.9935 - loss: 0.0192 - val_accuracy: 0.9062 - val_loss: 0.7004\n",
      "Epoch 43/50\n",
      "\u001b[1m375/375\u001b[0m \u001b[32m━━━━━━━━━━━━━━━━━━━━\u001b[0m\u001b[37m\u001b[0m \u001b[1m17s\u001b[0m 44ms/step - accuracy: 0.9953 - loss: 0.0143 - val_accuracy: 0.9080 - val_loss: 0.7386\n",
      "Epoch 44/50\n",
      "\u001b[1m375/375\u001b[0m \u001b[32m━━━━━━━━━━━━━━━━━━━━\u001b[0m\u001b[37m\u001b[0m \u001b[1m20s\u001b[0m 42ms/step - accuracy: 0.9918 - loss: 0.0245 - val_accuracy: 0.9072 - val_loss: 0.6941\n",
      "Epoch 45/50\n",
      "\u001b[1m375/375\u001b[0m \u001b[32m━━━━━━━━━━━━━━━━━━━━\u001b[0m\u001b[37m\u001b[0m \u001b[1m16s\u001b[0m 44ms/step - accuracy: 0.9936 - loss: 0.0186 - val_accuracy: 0.9076 - val_loss: 0.7175\n",
      "Epoch 46/50\n",
      "\u001b[1m375/375\u001b[0m \u001b[32m━━━━━━━━━━━━━━━━━━━━\u001b[0m\u001b[37m\u001b[0m \u001b[1m20s\u001b[0m 44ms/step - accuracy: 0.9941 - loss: 0.0175 - val_accuracy: 0.9061 - val_loss: 0.7712\n",
      "Epoch 47/50\n",
      "\u001b[1m375/375\u001b[0m \u001b[32m━━━━━━━━━━━━━━━━━━━━\u001b[0m\u001b[37m\u001b[0m \u001b[1m20s\u001b[0m 43ms/step - accuracy: 0.9938 - loss: 0.0183 - val_accuracy: 0.9030 - val_loss: 0.8025\n",
      "Epoch 48/50\n",
      "\u001b[1m375/375\u001b[0m \u001b[32m━━━━━━━━━━━━━━━━━━━━\u001b[0m\u001b[37m\u001b[0m \u001b[1m17s\u001b[0m 44ms/step - accuracy: 0.9935 - loss: 0.0188 - val_accuracy: 0.9082 - val_loss: 0.7647\n",
      "Epoch 49/50\n",
      "\u001b[1m375/375\u001b[0m \u001b[32m━━━━━━━━━━━━━━━━━━━━\u001b[0m\u001b[37m\u001b[0m \u001b[1m16s\u001b[0m 42ms/step - accuracy: 0.9944 - loss: 0.0164 - val_accuracy: 0.9038 - val_loss: 0.7112\n",
      "Epoch 50/50\n",
      "\u001b[1m375/375\u001b[0m \u001b[32m━━━━━━━━━━━━━━━━━━━━\u001b[0m\u001b[37m\u001b[0m \u001b[1m16s\u001b[0m 44ms/step - accuracy: 0.9969 - loss: 0.0097 - val_accuracy: 0.9066 - val_loss: 0.8034\n"
     ]
    }
   ],
   "source": [
    "train_model = model.fit(X_train, y_train,\n",
    "                  batch_size=BATCH_SIZE,\n",
    "                  epochs=NO_EPOCHS,\n",
    "                  verbose=1,\n",
    "                  validation_data=(X_val, y_val))"
   ]
  },
  {
   "cell_type": "markdown",
   "id": "8db7cdab",
   "metadata": {},
   "source": [
    "### Evaluating Test Loss and Accuracy"
   ]
  },
  {
   "cell_type": "code",
   "execution_count": 23,
   "id": "9846de14",
   "metadata": {},
   "outputs": [
    {
     "name": "stdout",
     "output_type": "stream",
     "text": [
      "Test loss: 0.7132218480110168\n",
      "Test accuracy: 0.9132999777793884\n"
     ]
    }
   ],
   "source": [
    "score = model.evaluate(X_test, y_test, verbose=0)\n",
    "print('Test loss:', score[0])\n",
    "print('Test accuracy:', score[1])"
   ]
  },
  {
   "cell_type": "markdown",
   "id": "f1267d50",
   "metadata": {},
   "source": [
    "### Validation Accuracy and Loss"
   ]
  },
  {
   "cell_type": "code",
   "execution_count": 24,
   "id": "1d39e3b3",
   "metadata": {},
   "outputs": [
    {
     "name": "stderr",
     "output_type": "stream",
     "text": [
      "c:\\Users\\Swarnadwip_Sarkar\\anaconda3\\envs\\ML\\lib\\site-packages\\plotly\\tools.py:453: DeprecationWarning:\n",
      "\n",
      "plotly.tools.make_subplots is deprecated, please use plotly.subplots.make_subplots instead\n",
      "\n"
     ]
    },
    {
     "data": {
      "application/vnd.plotly.v1+json": {
       "config": {
        "linkText": "Export to plot.ly",
        "plotlyServerURL": "https://plot.ly",
        "showLink": false
       },
       "data": [
        {
         "marker": {
          "color": "Green"
         },
         "mode": "markers+lines",
         "name": "Training accuracy",
         "text": [
          "1",
          "2",
          "3",
          "4",
          "5",
          "6",
          "7",
          "8",
          "9",
          "10",
          "11",
          "12",
          "13",
          "14",
          "15",
          "16",
          "17",
          "18",
          "19",
          "20",
          "21",
          "22",
          "23",
          "24",
          "25",
          "26",
          "27",
          "28",
          "29",
          "30",
          "31",
          "32",
          "33",
          "34",
          "35",
          "36",
          "37",
          "38",
          "39",
          "40",
          "41",
          "42",
          "43",
          "44",
          "45",
          "46",
          "47",
          "48",
          "49",
          "50"
         ],
         "type": "scatter",
         "x": [
          1,
          2,
          3,
          4,
          5,
          6,
          7,
          8,
          9,
          10,
          11,
          12,
          13,
          14,
          15,
          16,
          17,
          18,
          19,
          20,
          21,
          22,
          23,
          24,
          25,
          26,
          27,
          28,
          29,
          30,
          31,
          32,
          33,
          34,
          35,
          36,
          37,
          38,
          39,
          40,
          41,
          42,
          43,
          44,
          45,
          46,
          47,
          48,
          49,
          50
         ],
         "xaxis": "x",
         "y": [
          0.8040208220481873,
          0.8740833401679993,
          0.890291690826416,
          0.9017083048820496,
          0.9104166626930237,
          0.9185624718666077,
          0.9247708320617676,
          0.9313958287239075,
          0.9385208487510681,
          0.9446041584014893,
          0.9503958225250244,
          0.9550833106040955,
          0.9608749747276306,
          0.9649791717529297,
          0.9693541526794434,
          0.9720208048820496,
          0.9743958115577698,
          0.9787916541099548,
          0.9805416464805603,
          0.9792291522026062,
          0.9837083220481873,
          0.9850000143051147,
          0.9859166741371155,
          0.9880416393280029,
          0.9875624775886536,
          0.9870416522026062,
          0.9903958439826965,
          0.9914374947547913,
          0.9898750185966492,
          0.9918749928474426,
          0.9905208349227905,
          0.9909791946411133,
          0.9904999732971191,
          0.991895854473114,
          0.9932708144187927,
          0.9935416579246521,
          0.9941041469573975,
          0.9913333058357239,
          0.9933541417121887,
          0.9917500019073486,
          0.9951666593551636,
          0.9935208559036255,
          0.9953333139419556,
          0.991812527179718,
          0.9935833215713501,
          0.9940624833106995,
          0.9937708377838135,
          0.9934999942779541,
          0.9943541884422302,
          0.9968958497047424
         ],
         "yaxis": "y"
        },
        {
         "marker": {
          "color": "Red"
         },
         "mode": "markers+lines",
         "name": "Validation accuracy",
         "text": [
          "1",
          "2",
          "3",
          "4",
          "5",
          "6",
          "7",
          "8",
          "9",
          "10",
          "11",
          "12",
          "13",
          "14",
          "15",
          "16",
          "17",
          "18",
          "19",
          "20",
          "21",
          "22",
          "23",
          "24",
          "25",
          "26",
          "27",
          "28",
          "29",
          "30",
          "31",
          "32",
          "33",
          "34",
          "35",
          "36",
          "37",
          "38",
          "39",
          "40",
          "41",
          "42",
          "43",
          "44",
          "45",
          "46",
          "47",
          "48",
          "49",
          "50"
         ],
         "type": "scatter",
         "x": [
          1,
          2,
          3,
          4,
          5,
          6,
          7,
          8,
          9,
          10,
          11,
          12,
          13,
          14,
          15,
          16,
          17,
          18,
          19,
          20,
          21,
          22,
          23,
          24,
          25,
          26,
          27,
          28,
          29,
          30,
          31,
          32,
          33,
          34,
          35,
          36,
          37,
          38,
          39,
          40,
          41,
          42,
          43,
          44,
          45,
          46,
          47,
          48,
          49,
          50
         ],
         "xaxis": "x",
         "y": [
          0.8499166369438171,
          0.8824166655540466,
          0.8954166769981384,
          0.8975833058357239,
          0.9020000100135803,
          0.9054999947547913,
          0.8993333578109741,
          0.9086666703224182,
          0.9045000076293945,
          0.9107499718666077,
          0.9047499895095825,
          0.9068333506584167,
          0.9089999794960022,
          0.9116666913032532,
          0.9086666703224182,
          0.9114999771118164,
          0.906583309173584,
          0.9098333120346069,
          0.9043333530426025,
          0.9074166417121887,
          0.9120833277702332,
          0.9047499895095825,
          0.9100833535194397,
          0.909250020980835,
          0.9009166955947876,
          0.9074166417121887,
          0.9099166393280029,
          0.9080833196640015,
          0.9073333144187927,
          0.9089166522026062,
          0.906333327293396,
          0.9089999794960022,
          0.9070833325386047,
          0.9069166779518127,
          0.9100833535194397,
          0.909250020980835,
          0.906416654586792,
          0.9072499871253967,
          0.9049999713897705,
          0.9085833430290222,
          0.9074166417121887,
          0.906166672706604,
          0.9079999923706055,
          0.9072499871253967,
          0.9075833559036255,
          0.906083345413208,
          0.902999997138977,
          0.9081666469573975,
          0.9037500023841858,
          0.906583309173584
         ],
         "yaxis": "y"
        },
        {
         "marker": {
          "color": "Blue"
         },
         "mode": "markers+lines",
         "name": "Training loss",
         "text": [
          "1",
          "2",
          "3",
          "4",
          "5",
          "6",
          "7",
          "8",
          "9",
          "10",
          "11",
          "12",
          "13",
          "14",
          "15",
          "16",
          "17",
          "18",
          "19",
          "20",
          "21",
          "22",
          "23",
          "24",
          "25",
          "26",
          "27",
          "28",
          "29",
          "30",
          "31",
          "32",
          "33",
          "34",
          "35",
          "36",
          "37",
          "38",
          "39",
          "40",
          "41",
          "42",
          "43",
          "44",
          "45",
          "46",
          "47",
          "48",
          "49",
          "50"
         ],
         "type": "scatter",
         "x": [
          1,
          2,
          3,
          4,
          5,
          6,
          7,
          8,
          9,
          10,
          11,
          12,
          13,
          14,
          15,
          16,
          17,
          18,
          19,
          20,
          21,
          22,
          23,
          24,
          25,
          26,
          27,
          28,
          29,
          30,
          31,
          32,
          33,
          34,
          35,
          36,
          37,
          38,
          39,
          40,
          41,
          42,
          43,
          44,
          45,
          46,
          47,
          48,
          49,
          50
         ],
         "xaxis": "x2",
         "y": [
          0.5391156673431396,
          0.34742212295532227,
          0.30129748582839966,
          0.2675716280937195,
          0.2435094267129898,
          0.21783113479614258,
          0.20114284753799438,
          0.18591278791427612,
          0.16503000259399414,
          0.14771750569343567,
          0.13329510390758514,
          0.11845088005065918,
          0.10490524023771286,
          0.09334596991539001,
          0.0827193334698677,
          0.07411304861307144,
          0.06885981559753418,
          0.0572592169046402,
          0.05229710042476654,
          0.05604107305407524,
          0.043825000524520874,
          0.04179292172193527,
          0.03837933391332626,
          0.03332919627428055,
          0.034775640815496445,
          0.0352247953414917,
          0.026665883138775826,
          0.02298787236213684,
          0.02716170996427536,
          0.022475937381386757,
          0.02619462087750435,
          0.025371113792061806,
          0.026447230949997902,
          0.02232143096625805,
          0.018925515934824944,
          0.01828852668404579,
          0.016703108325600624,
          0.025695057585835457,
          0.019449464976787567,
          0.023332785815000534,
          0.01403217576444149,
          0.0191616490483284,
          0.01431945525109768,
          0.024511629715561867,
          0.018617255613207817,
          0.01754087395966053,
          0.01825505495071411,
          0.018757281824946404,
          0.016403647139668465,
          0.009650841355323792
         ],
         "yaxis": "y2"
        },
        {
         "marker": {
          "color": "Magenta"
         },
         "mode": "markers+lines",
         "name": "Validation loss",
         "text": [
          "1",
          "2",
          "3",
          "4",
          "5",
          "6",
          "7",
          "8",
          "9",
          "10",
          "11",
          "12",
          "13",
          "14",
          "15",
          "16",
          "17",
          "18",
          "19",
          "20",
          "21",
          "22",
          "23",
          "24",
          "25",
          "26",
          "27",
          "28",
          "29",
          "30",
          "31",
          "32",
          "33",
          "34",
          "35",
          "36",
          "37",
          "38",
          "39",
          "40",
          "41",
          "42",
          "43",
          "44",
          "45",
          "46",
          "47",
          "48",
          "49",
          "50"
         ],
         "type": "scatter",
         "x": [
          1,
          2,
          3,
          4,
          5,
          6,
          7,
          8,
          9,
          10,
          11,
          12,
          13,
          14,
          15,
          16,
          17,
          18,
          19,
          20,
          21,
          22,
          23,
          24,
          25,
          26,
          27,
          28,
          29,
          30,
          31,
          32,
          33,
          34,
          35,
          36,
          37,
          38,
          39,
          40,
          41,
          42,
          43,
          44,
          45,
          46,
          47,
          48,
          49,
          50
         ],
         "xaxis": "x2",
         "y": [
          0.41403645277023315,
          0.3307626247406006,
          0.2978547215461731,
          0.289188951253891,
          0.27894172072410583,
          0.27083513140678406,
          0.28427478671073914,
          0.2710268199443817,
          0.29192641377449036,
          0.27453839778900146,
          0.28242582082748413,
          0.3197605609893799,
          0.3131580054759979,
          0.3096766471862793,
          0.33412185311317444,
          0.3635483384132385,
          0.3581481873989105,
          0.39478710293769836,
          0.4227832555770874,
          0.40807318687438965,
          0.4577172100543976,
          0.47192415595054626,
          0.4798348844051361,
          0.4778873324394226,
          0.5194176435470581,
          0.5422465205192566,
          0.5505488514900208,
          0.5621576905250549,
          0.5591445565223694,
          0.5623084306716919,
          0.5911274552345276,
          0.6238464713096619,
          0.5839719772338867,
          0.5643087029457092,
          0.622843325138092,
          0.6471882462501526,
          0.6865147352218628,
          0.6341210603713989,
          0.6959835886955261,
          0.6898766160011292,
          0.7231184840202332,
          0.7004305720329285,
          0.738581120967865,
          0.694138765335083,
          0.7174510359764099,
          0.7712048292160034,
          0.8024757504463196,
          0.7646560072898865,
          0.7112495303153992,
          0.8033819794654846
         ],
         "yaxis": "y2"
        }
       ],
       "layout": {
        "annotations": [
         {
          "font": {
           "size": 16
          },
          "showarrow": false,
          "text": "Training and validation accuracy",
          "x": 0.225,
          "xanchor": "center",
          "xref": "paper",
          "y": 1,
          "yanchor": "bottom",
          "yref": "paper"
         },
         {
          "font": {
           "size": 16
          },
          "showarrow": false,
          "text": "Training and validation loss",
          "x": 0.775,
          "xanchor": "center",
          "xref": "paper",
          "y": 1,
          "yanchor": "bottom",
          "yref": "paper"
         }
        ],
        "template": {
         "data": {
          "bar": [
           {
            "error_x": {
             "color": "#2a3f5f"
            },
            "error_y": {
             "color": "#2a3f5f"
            },
            "marker": {
             "line": {
              "color": "#E5ECF6",
              "width": 0.5
             },
             "pattern": {
              "fillmode": "overlay",
              "size": 10,
              "solidity": 0.2
             }
            },
            "type": "bar"
           }
          ],
          "barpolar": [
           {
            "marker": {
             "line": {
              "color": "#E5ECF6",
              "width": 0.5
             },
             "pattern": {
              "fillmode": "overlay",
              "size": 10,
              "solidity": 0.2
             }
            },
            "type": "barpolar"
           }
          ],
          "carpet": [
           {
            "aaxis": {
             "endlinecolor": "#2a3f5f",
             "gridcolor": "white",
             "linecolor": "white",
             "minorgridcolor": "white",
             "startlinecolor": "#2a3f5f"
            },
            "baxis": {
             "endlinecolor": "#2a3f5f",
             "gridcolor": "white",
             "linecolor": "white",
             "minorgridcolor": "white",
             "startlinecolor": "#2a3f5f"
            },
            "type": "carpet"
           }
          ],
          "choropleth": [
           {
            "colorbar": {
             "outlinewidth": 0,
             "ticks": ""
            },
            "type": "choropleth"
           }
          ],
          "contour": [
           {
            "colorbar": {
             "outlinewidth": 0,
             "ticks": ""
            },
            "colorscale": [
             [
              0,
              "#0d0887"
             ],
             [
              0.1111111111111111,
              "#46039f"
             ],
             [
              0.2222222222222222,
              "#7201a8"
             ],
             [
              0.3333333333333333,
              "#9c179e"
             ],
             [
              0.4444444444444444,
              "#bd3786"
             ],
             [
              0.5555555555555556,
              "#d8576b"
             ],
             [
              0.6666666666666666,
              "#ed7953"
             ],
             [
              0.7777777777777778,
              "#fb9f3a"
             ],
             [
              0.8888888888888888,
              "#fdca26"
             ],
             [
              1,
              "#f0f921"
             ]
            ],
            "type": "contour"
           }
          ],
          "contourcarpet": [
           {
            "colorbar": {
             "outlinewidth": 0,
             "ticks": ""
            },
            "type": "contourcarpet"
           }
          ],
          "heatmap": [
           {
            "colorbar": {
             "outlinewidth": 0,
             "ticks": ""
            },
            "colorscale": [
             [
              0,
              "#0d0887"
             ],
             [
              0.1111111111111111,
              "#46039f"
             ],
             [
              0.2222222222222222,
              "#7201a8"
             ],
             [
              0.3333333333333333,
              "#9c179e"
             ],
             [
              0.4444444444444444,
              "#bd3786"
             ],
             [
              0.5555555555555556,
              "#d8576b"
             ],
             [
              0.6666666666666666,
              "#ed7953"
             ],
             [
              0.7777777777777778,
              "#fb9f3a"
             ],
             [
              0.8888888888888888,
              "#fdca26"
             ],
             [
              1,
              "#f0f921"
             ]
            ],
            "type": "heatmap"
           }
          ],
          "histogram": [
           {
            "marker": {
             "pattern": {
              "fillmode": "overlay",
              "size": 10,
              "solidity": 0.2
             }
            },
            "type": "histogram"
           }
          ],
          "histogram2d": [
           {
            "colorbar": {
             "outlinewidth": 0,
             "ticks": ""
            },
            "colorscale": [
             [
              0,
              "#0d0887"
             ],
             [
              0.1111111111111111,
              "#46039f"
             ],
             [
              0.2222222222222222,
              "#7201a8"
             ],
             [
              0.3333333333333333,
              "#9c179e"
             ],
             [
              0.4444444444444444,
              "#bd3786"
             ],
             [
              0.5555555555555556,
              "#d8576b"
             ],
             [
              0.6666666666666666,
              "#ed7953"
             ],
             [
              0.7777777777777778,
              "#fb9f3a"
             ],
             [
              0.8888888888888888,
              "#fdca26"
             ],
             [
              1,
              "#f0f921"
             ]
            ],
            "type": "histogram2d"
           }
          ],
          "histogram2dcontour": [
           {
            "colorbar": {
             "outlinewidth": 0,
             "ticks": ""
            },
            "colorscale": [
             [
              0,
              "#0d0887"
             ],
             [
              0.1111111111111111,
              "#46039f"
             ],
             [
              0.2222222222222222,
              "#7201a8"
             ],
             [
              0.3333333333333333,
              "#9c179e"
             ],
             [
              0.4444444444444444,
              "#bd3786"
             ],
             [
              0.5555555555555556,
              "#d8576b"
             ],
             [
              0.6666666666666666,
              "#ed7953"
             ],
             [
              0.7777777777777778,
              "#fb9f3a"
             ],
             [
              0.8888888888888888,
              "#fdca26"
             ],
             [
              1,
              "#f0f921"
             ]
            ],
            "type": "histogram2dcontour"
           }
          ],
          "mesh3d": [
           {
            "colorbar": {
             "outlinewidth": 0,
             "ticks": ""
            },
            "type": "mesh3d"
           }
          ],
          "parcoords": [
           {
            "line": {
             "colorbar": {
              "outlinewidth": 0,
              "ticks": ""
             }
            },
            "type": "parcoords"
           }
          ],
          "pie": [
           {
            "automargin": true,
            "type": "pie"
           }
          ],
          "scatter": [
           {
            "fillpattern": {
             "fillmode": "overlay",
             "size": 10,
             "solidity": 0.2
            },
            "type": "scatter"
           }
          ],
          "scatter3d": [
           {
            "line": {
             "colorbar": {
              "outlinewidth": 0,
              "ticks": ""
             }
            },
            "marker": {
             "colorbar": {
              "outlinewidth": 0,
              "ticks": ""
             }
            },
            "type": "scatter3d"
           }
          ],
          "scattercarpet": [
           {
            "marker": {
             "colorbar": {
              "outlinewidth": 0,
              "ticks": ""
             }
            },
            "type": "scattercarpet"
           }
          ],
          "scattergeo": [
           {
            "marker": {
             "colorbar": {
              "outlinewidth": 0,
              "ticks": ""
             }
            },
            "type": "scattergeo"
           }
          ],
          "scattergl": [
           {
            "marker": {
             "colorbar": {
              "outlinewidth": 0,
              "ticks": ""
             }
            },
            "type": "scattergl"
           }
          ],
          "scattermap": [
           {
            "marker": {
             "colorbar": {
              "outlinewidth": 0,
              "ticks": ""
             }
            },
            "type": "scattermap"
           }
          ],
          "scattermapbox": [
           {
            "marker": {
             "colorbar": {
              "outlinewidth": 0,
              "ticks": ""
             }
            },
            "type": "scattermapbox"
           }
          ],
          "scatterpolar": [
           {
            "marker": {
             "colorbar": {
              "outlinewidth": 0,
              "ticks": ""
             }
            },
            "type": "scatterpolar"
           }
          ],
          "scatterpolargl": [
           {
            "marker": {
             "colorbar": {
              "outlinewidth": 0,
              "ticks": ""
             }
            },
            "type": "scatterpolargl"
           }
          ],
          "scatterternary": [
           {
            "marker": {
             "colorbar": {
              "outlinewidth": 0,
              "ticks": ""
             }
            },
            "type": "scatterternary"
           }
          ],
          "surface": [
           {
            "colorbar": {
             "outlinewidth": 0,
             "ticks": ""
            },
            "colorscale": [
             [
              0,
              "#0d0887"
             ],
             [
              0.1111111111111111,
              "#46039f"
             ],
             [
              0.2222222222222222,
              "#7201a8"
             ],
             [
              0.3333333333333333,
              "#9c179e"
             ],
             [
              0.4444444444444444,
              "#bd3786"
             ],
             [
              0.5555555555555556,
              "#d8576b"
             ],
             [
              0.6666666666666666,
              "#ed7953"
             ],
             [
              0.7777777777777778,
              "#fb9f3a"
             ],
             [
              0.8888888888888888,
              "#fdca26"
             ],
             [
              1,
              "#f0f921"
             ]
            ],
            "type": "surface"
           }
          ],
          "table": [
           {
            "cells": {
             "fill": {
              "color": "#EBF0F8"
             },
             "line": {
              "color": "white"
             }
            },
            "header": {
             "fill": {
              "color": "#C8D4E3"
             },
             "line": {
              "color": "white"
             }
            },
            "type": "table"
           }
          ]
         },
         "layout": {
          "annotationdefaults": {
           "arrowcolor": "#2a3f5f",
           "arrowhead": 0,
           "arrowwidth": 1
          },
          "autotypenumbers": "strict",
          "coloraxis": {
           "colorbar": {
            "outlinewidth": 0,
            "ticks": ""
           }
          },
          "colorscale": {
           "diverging": [
            [
             0,
             "#8e0152"
            ],
            [
             0.1,
             "#c51b7d"
            ],
            [
             0.2,
             "#de77ae"
            ],
            [
             0.3,
             "#f1b6da"
            ],
            [
             0.4,
             "#fde0ef"
            ],
            [
             0.5,
             "#f7f7f7"
            ],
            [
             0.6,
             "#e6f5d0"
            ],
            [
             0.7,
             "#b8e186"
            ],
            [
             0.8,
             "#7fbc41"
            ],
            [
             0.9,
             "#4d9221"
            ],
            [
             1,
             "#276419"
            ]
           ],
           "sequential": [
            [
             0,
             "#0d0887"
            ],
            [
             0.1111111111111111,
             "#46039f"
            ],
            [
             0.2222222222222222,
             "#7201a8"
            ],
            [
             0.3333333333333333,
             "#9c179e"
            ],
            [
             0.4444444444444444,
             "#bd3786"
            ],
            [
             0.5555555555555556,
             "#d8576b"
            ],
            [
             0.6666666666666666,
             "#ed7953"
            ],
            [
             0.7777777777777778,
             "#fb9f3a"
            ],
            [
             0.8888888888888888,
             "#fdca26"
            ],
            [
             1,
             "#f0f921"
            ]
           ],
           "sequentialminus": [
            [
             0,
             "#0d0887"
            ],
            [
             0.1111111111111111,
             "#46039f"
            ],
            [
             0.2222222222222222,
             "#7201a8"
            ],
            [
             0.3333333333333333,
             "#9c179e"
            ],
            [
             0.4444444444444444,
             "#bd3786"
            ],
            [
             0.5555555555555556,
             "#d8576b"
            ],
            [
             0.6666666666666666,
             "#ed7953"
            ],
            [
             0.7777777777777778,
             "#fb9f3a"
            ],
            [
             0.8888888888888888,
             "#fdca26"
            ],
            [
             1,
             "#f0f921"
            ]
           ]
          },
          "colorway": [
           "#636efa",
           "#EF553B",
           "#00cc96",
           "#ab63fa",
           "#FFA15A",
           "#19d3f3",
           "#FF6692",
           "#B6E880",
           "#FF97FF",
           "#FECB52"
          ],
          "font": {
           "color": "#2a3f5f"
          },
          "geo": {
           "bgcolor": "white",
           "lakecolor": "white",
           "landcolor": "#E5ECF6",
           "showlakes": true,
           "showland": true,
           "subunitcolor": "white"
          },
          "hoverlabel": {
           "align": "left"
          },
          "hovermode": "closest",
          "mapbox": {
           "style": "light"
          },
          "paper_bgcolor": "white",
          "plot_bgcolor": "#E5ECF6",
          "polar": {
           "angularaxis": {
            "gridcolor": "white",
            "linecolor": "white",
            "ticks": ""
           },
           "bgcolor": "#E5ECF6",
           "radialaxis": {
            "gridcolor": "white",
            "linecolor": "white",
            "ticks": ""
           }
          },
          "scene": {
           "xaxis": {
            "backgroundcolor": "#E5ECF6",
            "gridcolor": "white",
            "gridwidth": 2,
            "linecolor": "white",
            "showbackground": true,
            "ticks": "",
            "zerolinecolor": "white"
           },
           "yaxis": {
            "backgroundcolor": "#E5ECF6",
            "gridcolor": "white",
            "gridwidth": 2,
            "linecolor": "white",
            "showbackground": true,
            "ticks": "",
            "zerolinecolor": "white"
           },
           "zaxis": {
            "backgroundcolor": "#E5ECF6",
            "gridcolor": "white",
            "gridwidth": 2,
            "linecolor": "white",
            "showbackground": true,
            "ticks": "",
            "zerolinecolor": "white"
           }
          },
          "shapedefaults": {
           "line": {
            "color": "#2a3f5f"
           }
          },
          "ternary": {
           "aaxis": {
            "gridcolor": "white",
            "linecolor": "white",
            "ticks": ""
           },
           "baxis": {
            "gridcolor": "white",
            "linecolor": "white",
            "ticks": ""
           },
           "bgcolor": "#E5ECF6",
           "caxis": {
            "gridcolor": "white",
            "linecolor": "white",
            "ticks": ""
           }
          },
          "title": {
           "x": 0.05
          },
          "xaxis": {
           "automargin": true,
           "gridcolor": "white",
           "linecolor": "white",
           "ticks": "",
           "title": {
            "standoff": 15
           },
           "zerolinecolor": "white",
           "zerolinewidth": 2
          },
          "yaxis": {
           "automargin": true,
           "gridcolor": "white",
           "linecolor": "white",
           "ticks": "",
           "title": {
            "standoff": 15
           },
           "zerolinecolor": "white",
           "zerolinewidth": 2
          }
         }
        },
        "xaxis": {
         "anchor": "y",
         "domain": [
          0,
          0.45
         ],
         "title": {
          "text": "Epoch"
         }
        },
        "xaxis2": {
         "anchor": "y2",
         "domain": [
          0.55,
          1
         ],
         "title": {
          "text": "Epoch"
         }
        },
        "yaxis": {
         "anchor": "x",
         "domain": [
          0,
          1
         ],
         "range": [
          0,
          1
         ],
         "title": {
          "text": "Accuracy"
         }
        },
        "yaxis2": {
         "anchor": "x2",
         "domain": [
          0,
          1
         ],
         "range": [
          0,
          1
         ],
         "title": {
          "text": "Loss"
         }
        }
       }
      },
      "text/html": [
       "<div>            <script src=\"https://cdnjs.cloudflare.com/ajax/libs/mathjax/2.7.5/MathJax.js?config=TeX-AMS-MML_SVG\"></script><script type=\"text/javascript\">if (window.MathJax && window.MathJax.Hub && window.MathJax.Hub.Config) {window.MathJax.Hub.Config({SVG: {font: \"STIX-Web\"}});}</script>                <script type=\"text/javascript\">window.PlotlyConfig = {MathJaxConfig: 'local'};</script>\n",
       "        <script charset=\"utf-8\" src=\"https://cdn.plot.ly/plotly-3.1.1.min.js\" integrity=\"sha256-HUEFyfiTnZJxCxur99FjbKYTvKSzwDaD3/x5TqHpFu4=\" crossorigin=\"anonymous\"></script>                <div id=\"d17dd625-cd74-4ca7-8764-3e342528f0b7\" class=\"plotly-graph-div\" style=\"height:525px; width:100%;\"></div>            <script type=\"text/javascript\">                window.PLOTLYENV=window.PLOTLYENV || {};                                if (document.getElementById(\"d17dd625-cd74-4ca7-8764-3e342528f0b7\")) {                    Plotly.newPlot(                        \"d17dd625-cd74-4ca7-8764-3e342528f0b7\",                        [{\"marker\":{\"color\":\"Green\"},\"mode\":\"markers+lines\",\"name\":\"Training accuracy\",\"text\":[\"1\",\"2\",\"3\",\"4\",\"5\",\"6\",\"7\",\"8\",\"9\",\"10\",\"11\",\"12\",\"13\",\"14\",\"15\",\"16\",\"17\",\"18\",\"19\",\"20\",\"21\",\"22\",\"23\",\"24\",\"25\",\"26\",\"27\",\"28\",\"29\",\"30\",\"31\",\"32\",\"33\",\"34\",\"35\",\"36\",\"37\",\"38\",\"39\",\"40\",\"41\",\"42\",\"43\",\"44\",\"45\",\"46\",\"47\",\"48\",\"49\",\"50\"],\"x\":[1,2,3,4,5,6,7,8,9,10,11,12,13,14,15,16,17,18,19,20,21,22,23,24,25,26,27,28,29,30,31,32,33,34,35,36,37,38,39,40,41,42,43,44,45,46,47,48,49,50],\"xaxis\":\"x\",\"y\":[0.8040208220481873,0.8740833401679993,0.890291690826416,0.9017083048820496,0.9104166626930237,0.9185624718666077,0.9247708320617676,0.9313958287239075,0.9385208487510681,0.9446041584014893,0.9503958225250244,0.9550833106040955,0.9608749747276306,0.9649791717529297,0.9693541526794434,0.9720208048820496,0.9743958115577698,0.9787916541099548,0.9805416464805603,0.9792291522026062,0.9837083220481873,0.9850000143051147,0.9859166741371155,0.9880416393280029,0.9875624775886536,0.9870416522026062,0.9903958439826965,0.9914374947547913,0.9898750185966492,0.9918749928474426,0.9905208349227905,0.9909791946411133,0.9904999732971191,0.991895854473114,0.9932708144187927,0.9935416579246521,0.9941041469573975,0.9913333058357239,0.9933541417121887,0.9917500019073486,0.9951666593551636,0.9935208559036255,0.9953333139419556,0.991812527179718,0.9935833215713501,0.9940624833106995,0.9937708377838135,0.9934999942779541,0.9943541884422302,0.9968958497047424],\"yaxis\":\"y\",\"type\":\"scatter\"},{\"marker\":{\"color\":\"Red\"},\"mode\":\"markers+lines\",\"name\":\"Validation accuracy\",\"text\":[\"1\",\"2\",\"3\",\"4\",\"5\",\"6\",\"7\",\"8\",\"9\",\"10\",\"11\",\"12\",\"13\",\"14\",\"15\",\"16\",\"17\",\"18\",\"19\",\"20\",\"21\",\"22\",\"23\",\"24\",\"25\",\"26\",\"27\",\"28\",\"29\",\"30\",\"31\",\"32\",\"33\",\"34\",\"35\",\"36\",\"37\",\"38\",\"39\",\"40\",\"41\",\"42\",\"43\",\"44\",\"45\",\"46\",\"47\",\"48\",\"49\",\"50\"],\"x\":[1,2,3,4,5,6,7,8,9,10,11,12,13,14,15,16,17,18,19,20,21,22,23,24,25,26,27,28,29,30,31,32,33,34,35,36,37,38,39,40,41,42,43,44,45,46,47,48,49,50],\"xaxis\":\"x\",\"y\":[0.8499166369438171,0.8824166655540466,0.8954166769981384,0.8975833058357239,0.9020000100135803,0.9054999947547913,0.8993333578109741,0.9086666703224182,0.9045000076293945,0.9107499718666077,0.9047499895095825,0.9068333506584167,0.9089999794960022,0.9116666913032532,0.9086666703224182,0.9114999771118164,0.906583309173584,0.9098333120346069,0.9043333530426025,0.9074166417121887,0.9120833277702332,0.9047499895095825,0.9100833535194397,0.909250020980835,0.9009166955947876,0.9074166417121887,0.9099166393280029,0.9080833196640015,0.9073333144187927,0.9089166522026062,0.906333327293396,0.9089999794960022,0.9070833325386047,0.9069166779518127,0.9100833535194397,0.909250020980835,0.906416654586792,0.9072499871253967,0.9049999713897705,0.9085833430290222,0.9074166417121887,0.906166672706604,0.9079999923706055,0.9072499871253967,0.9075833559036255,0.906083345413208,0.902999997138977,0.9081666469573975,0.9037500023841858,0.906583309173584],\"yaxis\":\"y\",\"type\":\"scatter\"},{\"marker\":{\"color\":\"Blue\"},\"mode\":\"markers+lines\",\"name\":\"Training loss\",\"text\":[\"1\",\"2\",\"3\",\"4\",\"5\",\"6\",\"7\",\"8\",\"9\",\"10\",\"11\",\"12\",\"13\",\"14\",\"15\",\"16\",\"17\",\"18\",\"19\",\"20\",\"21\",\"22\",\"23\",\"24\",\"25\",\"26\",\"27\",\"28\",\"29\",\"30\",\"31\",\"32\",\"33\",\"34\",\"35\",\"36\",\"37\",\"38\",\"39\",\"40\",\"41\",\"42\",\"43\",\"44\",\"45\",\"46\",\"47\",\"48\",\"49\",\"50\"],\"x\":[1,2,3,4,5,6,7,8,9,10,11,12,13,14,15,16,17,18,19,20,21,22,23,24,25,26,27,28,29,30,31,32,33,34,35,36,37,38,39,40,41,42,43,44,45,46,47,48,49,50],\"xaxis\":\"x2\",\"y\":[0.5391156673431396,0.34742212295532227,0.30129748582839966,0.2675716280937195,0.2435094267129898,0.21783113479614258,0.20114284753799438,0.18591278791427612,0.16503000259399414,0.14771750569343567,0.13329510390758514,0.11845088005065918,0.10490524023771286,0.09334596991539001,0.0827193334698677,0.07411304861307144,0.06885981559753418,0.0572592169046402,0.05229710042476654,0.05604107305407524,0.043825000524520874,0.04179292172193527,0.03837933391332626,0.03332919627428055,0.034775640815496445,0.0352247953414917,0.026665883138775826,0.02298787236213684,0.02716170996427536,0.022475937381386757,0.02619462087750435,0.025371113792061806,0.026447230949997902,0.02232143096625805,0.018925515934824944,0.01828852668404579,0.016703108325600624,0.025695057585835457,0.019449464976787567,0.023332785815000534,0.01403217576444149,0.0191616490483284,0.01431945525109768,0.024511629715561867,0.018617255613207817,0.01754087395966053,0.01825505495071411,0.018757281824946404,0.016403647139668465,0.009650841355323792],\"yaxis\":\"y2\",\"type\":\"scatter\"},{\"marker\":{\"color\":\"Magenta\"},\"mode\":\"markers+lines\",\"name\":\"Validation loss\",\"text\":[\"1\",\"2\",\"3\",\"4\",\"5\",\"6\",\"7\",\"8\",\"9\",\"10\",\"11\",\"12\",\"13\",\"14\",\"15\",\"16\",\"17\",\"18\",\"19\",\"20\",\"21\",\"22\",\"23\",\"24\",\"25\",\"26\",\"27\",\"28\",\"29\",\"30\",\"31\",\"32\",\"33\",\"34\",\"35\",\"36\",\"37\",\"38\",\"39\",\"40\",\"41\",\"42\",\"43\",\"44\",\"45\",\"46\",\"47\",\"48\",\"49\",\"50\"],\"x\":[1,2,3,4,5,6,7,8,9,10,11,12,13,14,15,16,17,18,19,20,21,22,23,24,25,26,27,28,29,30,31,32,33,34,35,36,37,38,39,40,41,42,43,44,45,46,47,48,49,50],\"xaxis\":\"x2\",\"y\":[0.41403645277023315,0.3307626247406006,0.2978547215461731,0.289188951253891,0.27894172072410583,0.27083513140678406,0.28427478671073914,0.2710268199443817,0.29192641377449036,0.27453839778900146,0.28242582082748413,0.3197605609893799,0.3131580054759979,0.3096766471862793,0.33412185311317444,0.3635483384132385,0.3581481873989105,0.39478710293769836,0.4227832555770874,0.40807318687438965,0.4577172100543976,0.47192415595054626,0.4798348844051361,0.4778873324394226,0.5194176435470581,0.5422465205192566,0.5505488514900208,0.5621576905250549,0.5591445565223694,0.5623084306716919,0.5911274552345276,0.6238464713096619,0.5839719772338867,0.5643087029457092,0.622843325138092,0.6471882462501526,0.6865147352218628,0.6341210603713989,0.6959835886955261,0.6898766160011292,0.7231184840202332,0.7004305720329285,0.738581120967865,0.694138765335083,0.7174510359764099,0.7712048292160034,0.8024757504463196,0.7646560072898865,0.7112495303153992,0.8033819794654846],\"yaxis\":\"y2\",\"type\":\"scatter\"}],                        {\"annotations\":[{\"font\":{\"size\":16},\"showarrow\":false,\"text\":\"Training and validation accuracy\",\"x\":0.225,\"xanchor\":\"center\",\"xref\":\"paper\",\"y\":1.0,\"yanchor\":\"bottom\",\"yref\":\"paper\"},{\"font\":{\"size\":16},\"showarrow\":false,\"text\":\"Training and validation loss\",\"x\":0.775,\"xanchor\":\"center\",\"xref\":\"paper\",\"y\":1.0,\"yanchor\":\"bottom\",\"yref\":\"paper\"}],\"template\":{\"data\":{\"barpolar\":[{\"marker\":{\"line\":{\"color\":\"#E5ECF6\",\"width\":0.5},\"pattern\":{\"fillmode\":\"overlay\",\"size\":10,\"solidity\":0.2}},\"type\":\"barpolar\"}],\"bar\":[{\"error_x\":{\"color\":\"#2a3f5f\"},\"error_y\":{\"color\":\"#2a3f5f\"},\"marker\":{\"line\":{\"color\":\"#E5ECF6\",\"width\":0.5},\"pattern\":{\"fillmode\":\"overlay\",\"size\":10,\"solidity\":0.2}},\"type\":\"bar\"}],\"carpet\":[{\"aaxis\":{\"endlinecolor\":\"#2a3f5f\",\"gridcolor\":\"white\",\"linecolor\":\"white\",\"minorgridcolor\":\"white\",\"startlinecolor\":\"#2a3f5f\"},\"baxis\":{\"endlinecolor\":\"#2a3f5f\",\"gridcolor\":\"white\",\"linecolor\":\"white\",\"minorgridcolor\":\"white\",\"startlinecolor\":\"#2a3f5f\"},\"type\":\"carpet\"}],\"choropleth\":[{\"colorbar\":{\"outlinewidth\":0,\"ticks\":\"\"},\"type\":\"choropleth\"}],\"contourcarpet\":[{\"colorbar\":{\"outlinewidth\":0,\"ticks\":\"\"},\"type\":\"contourcarpet\"}],\"contour\":[{\"colorbar\":{\"outlinewidth\":0,\"ticks\":\"\"},\"colorscale\":[[0.0,\"#0d0887\"],[0.1111111111111111,\"#46039f\"],[0.2222222222222222,\"#7201a8\"],[0.3333333333333333,\"#9c179e\"],[0.4444444444444444,\"#bd3786\"],[0.5555555555555556,\"#d8576b\"],[0.6666666666666666,\"#ed7953\"],[0.7777777777777778,\"#fb9f3a\"],[0.8888888888888888,\"#fdca26\"],[1.0,\"#f0f921\"]],\"type\":\"contour\"}],\"heatmap\":[{\"colorbar\":{\"outlinewidth\":0,\"ticks\":\"\"},\"colorscale\":[[0.0,\"#0d0887\"],[0.1111111111111111,\"#46039f\"],[0.2222222222222222,\"#7201a8\"],[0.3333333333333333,\"#9c179e\"],[0.4444444444444444,\"#bd3786\"],[0.5555555555555556,\"#d8576b\"],[0.6666666666666666,\"#ed7953\"],[0.7777777777777778,\"#fb9f3a\"],[0.8888888888888888,\"#fdca26\"],[1.0,\"#f0f921\"]],\"type\":\"heatmap\"}],\"histogram2dcontour\":[{\"colorbar\":{\"outlinewidth\":0,\"ticks\":\"\"},\"colorscale\":[[0.0,\"#0d0887\"],[0.1111111111111111,\"#46039f\"],[0.2222222222222222,\"#7201a8\"],[0.3333333333333333,\"#9c179e\"],[0.4444444444444444,\"#bd3786\"],[0.5555555555555556,\"#d8576b\"],[0.6666666666666666,\"#ed7953\"],[0.7777777777777778,\"#fb9f3a\"],[0.8888888888888888,\"#fdca26\"],[1.0,\"#f0f921\"]],\"type\":\"histogram2dcontour\"}],\"histogram2d\":[{\"colorbar\":{\"outlinewidth\":0,\"ticks\":\"\"},\"colorscale\":[[0.0,\"#0d0887\"],[0.1111111111111111,\"#46039f\"],[0.2222222222222222,\"#7201a8\"],[0.3333333333333333,\"#9c179e\"],[0.4444444444444444,\"#bd3786\"],[0.5555555555555556,\"#d8576b\"],[0.6666666666666666,\"#ed7953\"],[0.7777777777777778,\"#fb9f3a\"],[0.8888888888888888,\"#fdca26\"],[1.0,\"#f0f921\"]],\"type\":\"histogram2d\"}],\"histogram\":[{\"marker\":{\"pattern\":{\"fillmode\":\"overlay\",\"size\":10,\"solidity\":0.2}},\"type\":\"histogram\"}],\"mesh3d\":[{\"colorbar\":{\"outlinewidth\":0,\"ticks\":\"\"},\"type\":\"mesh3d\"}],\"parcoords\":[{\"line\":{\"colorbar\":{\"outlinewidth\":0,\"ticks\":\"\"}},\"type\":\"parcoords\"}],\"pie\":[{\"automargin\":true,\"type\":\"pie\"}],\"scatter3d\":[{\"line\":{\"colorbar\":{\"outlinewidth\":0,\"ticks\":\"\"}},\"marker\":{\"colorbar\":{\"outlinewidth\":0,\"ticks\":\"\"}},\"type\":\"scatter3d\"}],\"scattercarpet\":[{\"marker\":{\"colorbar\":{\"outlinewidth\":0,\"ticks\":\"\"}},\"type\":\"scattercarpet\"}],\"scattergeo\":[{\"marker\":{\"colorbar\":{\"outlinewidth\":0,\"ticks\":\"\"}},\"type\":\"scattergeo\"}],\"scattergl\":[{\"marker\":{\"colorbar\":{\"outlinewidth\":0,\"ticks\":\"\"}},\"type\":\"scattergl\"}],\"scattermapbox\":[{\"marker\":{\"colorbar\":{\"outlinewidth\":0,\"ticks\":\"\"}},\"type\":\"scattermapbox\"}],\"scattermap\":[{\"marker\":{\"colorbar\":{\"outlinewidth\":0,\"ticks\":\"\"}},\"type\":\"scattermap\"}],\"scatterpolargl\":[{\"marker\":{\"colorbar\":{\"outlinewidth\":0,\"ticks\":\"\"}},\"type\":\"scatterpolargl\"}],\"scatterpolar\":[{\"marker\":{\"colorbar\":{\"outlinewidth\":0,\"ticks\":\"\"}},\"type\":\"scatterpolar\"}],\"scatter\":[{\"fillpattern\":{\"fillmode\":\"overlay\",\"size\":10,\"solidity\":0.2},\"type\":\"scatter\"}],\"scatterternary\":[{\"marker\":{\"colorbar\":{\"outlinewidth\":0,\"ticks\":\"\"}},\"type\":\"scatterternary\"}],\"surface\":[{\"colorbar\":{\"outlinewidth\":0,\"ticks\":\"\"},\"colorscale\":[[0.0,\"#0d0887\"],[0.1111111111111111,\"#46039f\"],[0.2222222222222222,\"#7201a8\"],[0.3333333333333333,\"#9c179e\"],[0.4444444444444444,\"#bd3786\"],[0.5555555555555556,\"#d8576b\"],[0.6666666666666666,\"#ed7953\"],[0.7777777777777778,\"#fb9f3a\"],[0.8888888888888888,\"#fdca26\"],[1.0,\"#f0f921\"]],\"type\":\"surface\"}],\"table\":[{\"cells\":{\"fill\":{\"color\":\"#EBF0F8\"},\"line\":{\"color\":\"white\"}},\"header\":{\"fill\":{\"color\":\"#C8D4E3\"},\"line\":{\"color\":\"white\"}},\"type\":\"table\"}]},\"layout\":{\"annotationdefaults\":{\"arrowcolor\":\"#2a3f5f\",\"arrowhead\":0,\"arrowwidth\":1},\"autotypenumbers\":\"strict\",\"coloraxis\":{\"colorbar\":{\"outlinewidth\":0,\"ticks\":\"\"}},\"colorscale\":{\"diverging\":[[0,\"#8e0152\"],[0.1,\"#c51b7d\"],[0.2,\"#de77ae\"],[0.3,\"#f1b6da\"],[0.4,\"#fde0ef\"],[0.5,\"#f7f7f7\"],[0.6,\"#e6f5d0\"],[0.7,\"#b8e186\"],[0.8,\"#7fbc41\"],[0.9,\"#4d9221\"],[1,\"#276419\"]],\"sequential\":[[0.0,\"#0d0887\"],[0.1111111111111111,\"#46039f\"],[0.2222222222222222,\"#7201a8\"],[0.3333333333333333,\"#9c179e\"],[0.4444444444444444,\"#bd3786\"],[0.5555555555555556,\"#d8576b\"],[0.6666666666666666,\"#ed7953\"],[0.7777777777777778,\"#fb9f3a\"],[0.8888888888888888,\"#fdca26\"],[1.0,\"#f0f921\"]],\"sequentialminus\":[[0.0,\"#0d0887\"],[0.1111111111111111,\"#46039f\"],[0.2222222222222222,\"#7201a8\"],[0.3333333333333333,\"#9c179e\"],[0.4444444444444444,\"#bd3786\"],[0.5555555555555556,\"#d8576b\"],[0.6666666666666666,\"#ed7953\"],[0.7777777777777778,\"#fb9f3a\"],[0.8888888888888888,\"#fdca26\"],[1.0,\"#f0f921\"]]},\"colorway\":[\"#636efa\",\"#EF553B\",\"#00cc96\",\"#ab63fa\",\"#FFA15A\",\"#19d3f3\",\"#FF6692\",\"#B6E880\",\"#FF97FF\",\"#FECB52\"],\"font\":{\"color\":\"#2a3f5f\"},\"geo\":{\"bgcolor\":\"white\",\"lakecolor\":\"white\",\"landcolor\":\"#E5ECF6\",\"showlakes\":true,\"showland\":true,\"subunitcolor\":\"white\"},\"hoverlabel\":{\"align\":\"left\"},\"hovermode\":\"closest\",\"mapbox\":{\"style\":\"light\"},\"paper_bgcolor\":\"white\",\"plot_bgcolor\":\"#E5ECF6\",\"polar\":{\"angularaxis\":{\"gridcolor\":\"white\",\"linecolor\":\"white\",\"ticks\":\"\"},\"bgcolor\":\"#E5ECF6\",\"radialaxis\":{\"gridcolor\":\"white\",\"linecolor\":\"white\",\"ticks\":\"\"}},\"scene\":{\"xaxis\":{\"backgroundcolor\":\"#E5ECF6\",\"gridcolor\":\"white\",\"gridwidth\":2,\"linecolor\":\"white\",\"showbackground\":true,\"ticks\":\"\",\"zerolinecolor\":\"white\"},\"yaxis\":{\"backgroundcolor\":\"#E5ECF6\",\"gridcolor\":\"white\",\"gridwidth\":2,\"linecolor\":\"white\",\"showbackground\":true,\"ticks\":\"\",\"zerolinecolor\":\"white\"},\"zaxis\":{\"backgroundcolor\":\"#E5ECF6\",\"gridcolor\":\"white\",\"gridwidth\":2,\"linecolor\":\"white\",\"showbackground\":true,\"ticks\":\"\",\"zerolinecolor\":\"white\"}},\"shapedefaults\":{\"line\":{\"color\":\"#2a3f5f\"}},\"ternary\":{\"aaxis\":{\"gridcolor\":\"white\",\"linecolor\":\"white\",\"ticks\":\"\"},\"baxis\":{\"gridcolor\":\"white\",\"linecolor\":\"white\",\"ticks\":\"\"},\"bgcolor\":\"#E5ECF6\",\"caxis\":{\"gridcolor\":\"white\",\"linecolor\":\"white\",\"ticks\":\"\"}},\"title\":{\"x\":0.05},\"xaxis\":{\"automargin\":true,\"gridcolor\":\"white\",\"linecolor\":\"white\",\"ticks\":\"\",\"title\":{\"standoff\":15},\"zerolinecolor\":\"white\",\"zerolinewidth\":2},\"yaxis\":{\"automargin\":true,\"gridcolor\":\"white\",\"linecolor\":\"white\",\"ticks\":\"\",\"title\":{\"standoff\":15},\"zerolinecolor\":\"white\",\"zerolinewidth\":2}}},\"xaxis\":{\"anchor\":\"y\",\"domain\":[0.0,0.45],\"title\":{\"text\":\"Epoch\"}},\"yaxis\":{\"anchor\":\"x\",\"domain\":[0.0,1.0],\"range\":[0,1],\"title\":{\"text\":\"Accuracy\"}},\"xaxis2\":{\"anchor\":\"y2\",\"domain\":[0.55,1.0],\"title\":{\"text\":\"Epoch\"}},\"yaxis2\":{\"anchor\":\"x2\",\"domain\":[0.0,1.0],\"range\":[0,1],\"title\":{\"text\":\"Loss\"}}},                        {\"responsive\": true}                    ).then(function(){\n",
       "                            \n",
       "var gd = document.getElementById('d17dd625-cd74-4ca7-8764-3e342528f0b7');\n",
       "var x = new MutationObserver(function (mutations, observer) {{\n",
       "        var display = window.getComputedStyle(gd).display;\n",
       "        if (!display || display === 'none') {{\n",
       "            console.log([gd, 'removed!']);\n",
       "            Plotly.purge(gd);\n",
       "            observer.disconnect();\n",
       "        }}\n",
       "}});\n",
       "\n",
       "// Listen for the removal of the full notebook cells\n",
       "var notebookContainer = gd.closest('#notebook-container');\n",
       "if (notebookContainer) {{\n",
       "    x.observe(notebookContainer, {childList: true});\n",
       "}}\n",
       "\n",
       "// Listen for the clearing of the current output cell\n",
       "var outputEl = gd.closest('.output');\n",
       "if (outputEl) {{\n",
       "    x.observe(outputEl, {childList: true});\n",
       "}}\n",
       "\n",
       "                        })                };            </script>        </div>"
      ]
     },
     "metadata": {},
     "output_type": "display_data"
    }
   ],
   "source": [
    "def create_trace(x,y,ylabel,color):\n",
    "        trace = go.Scatter(\n",
    "            x = x,y = y,\n",
    "            name=ylabel,\n",
    "            marker=dict(color=color),\n",
    "            mode = \"markers+lines\",\n",
    "            text=x\n",
    "        )\n",
    "        return trace\n",
    "\n",
    "def plot_accuracy_and_loss(train_model):\n",
    "    hist = train_model.history\n",
    "    acc = hist['accuracy']         # updated key\n",
    "    val_acc = hist['val_accuracy'] # updated key\n",
    "    loss = hist['loss']\n",
    "    val_loss = hist['val_loss']\n",
    "    epochs = list(range(1,len(acc)+1))\n",
    "    \n",
    "    trace_ta = create_trace(epochs, acc, \"Training accuracy\", \"Green\")\n",
    "    trace_va = create_trace(epochs, val_acc, \"Validation accuracy\", \"Red\")\n",
    "    trace_tl = create_trace(epochs, loss, \"Training loss\", \"Blue\")\n",
    "    trace_vl = create_trace(epochs, val_loss, \"Validation loss\", \"Magenta\")\n",
    "   \n",
    "    fig = tools.make_subplots(rows=1, cols=2, subplot_titles=('Training and validation accuracy',\n",
    "                                                              'Training and validation loss'))\n",
    "    fig.append_trace(trace_ta, 1, 1)\n",
    "    fig.append_trace(trace_va, 1, 1)\n",
    "    fig.append_trace(trace_tl, 1, 2)\n",
    "    fig.append_trace(trace_vl, 1, 2)\n",
    "    \n",
    "    fig['layout']['xaxis'].update(title='Epoch')\n",
    "    fig['layout']['xaxis2'].update(title='Epoch')\n",
    "    fig['layout']['yaxis'].update(title='Accuracy', range=[0,1])\n",
    "    fig['layout']['yaxis2'].update(title='Loss', range=[0,1])\n",
    "\n",
    "    iplot(fig, filename='accuracy-loss')\n",
    "\n",
    "\n",
    "plot_accuracy_and_loss(train_model)"
   ]
  },
  {
   "cell_type": "markdown",
   "id": "0de59926",
   "metadata": {},
   "source": [
    "### Adding Dropout Layers to the Model"
   ]
  },
  {
   "cell_type": "code",
   "execution_count": 25,
   "id": "63894738",
   "metadata": {},
   "outputs": [
    {
     "name": "stderr",
     "output_type": "stream",
     "text": [
      "c:\\Users\\Swarnadwip_Sarkar\\anaconda3\\envs\\ML\\lib\\site-packages\\keras\\src\\layers\\convolutional\\base_conv.py:113: UserWarning:\n",
      "\n",
      "Do not pass an `input_shape`/`input_dim` argument to a layer. When using Sequential models, prefer using an `Input(shape)` object as the first layer in the model instead.\n",
      "\n"
     ]
    }
   ],
   "source": [
    "# Model\n",
    "model = Sequential()\n",
    "# Add convolution 2D\n",
    "model.add(Conv2D(32, kernel_size=(3, 3),\n",
    "                 activation='relu',\n",
    "                 kernel_initializer='he_normal',\n",
    "                 input_shape=(IMG_ROWS, IMG_COLS, 1)))\n",
    "model.add(MaxPooling2D((2, 2)))\n",
    "# Add dropouts to the model\n",
    "model.add(Dropout(0.25))\n",
    "model.add(Conv2D(64, \n",
    "                 kernel_size=(3, 3), \n",
    "                 activation='relu'))\n",
    "model.add(MaxPooling2D(pool_size=(2, 2)))\n",
    "# Add dropouts to the model\n",
    "model.add(Dropout(0.25))\n",
    "model.add(Conv2D(128, (3, 3), activation='relu'))\n",
    "# Add dropouts to the model\n",
    "model.add(Dropout(0.4))\n",
    "model.add(Flatten())\n",
    "model.add(Dense(128, activation='relu'))\n",
    "# Add dropouts to the model\n",
    "model.add(Dropout(0.3))\n",
    "model.add(Dense(NUM_CLASSES, activation='softmax'))\n",
    "\n",
    "\n",
    "model.compile(loss=keras.losses.categorical_crossentropy,\n",
    "              optimizer='adam',\n",
    "              metrics=['accuracy'])"
   ]
  },
  {
   "cell_type": "markdown",
   "id": "b0332a99",
   "metadata": {},
   "source": [
    "### Optimized Summarize Model"
   ]
  },
  {
   "cell_type": "code",
   "execution_count": 26,
   "id": "da6ea544",
   "metadata": {},
   "outputs": [
    {
     "data": {
      "text/html": [
       "<pre style=\"white-space:pre;overflow-x:auto;line-height:normal;font-family:Menlo,'DejaVu Sans Mono',consolas,'Courier New',monospace\"><span style=\"font-weight: bold\">Model: \"sequential_1\"</span>\n",
       "</pre>\n"
      ],
      "text/plain": [
       "\u001b[1mModel: \"sequential_1\"\u001b[0m\n"
      ]
     },
     "metadata": {},
     "output_type": "display_data"
    },
    {
     "data": {
      "text/html": [
       "<pre style=\"white-space:pre;overflow-x:auto;line-height:normal;font-family:Menlo,'DejaVu Sans Mono',consolas,'Courier New',monospace\">┏━━━━━━━━━━━━━━━━━━━━━━━━━━━━━━━━━┳━━━━━━━━━━━━━━━━━━━━━━━━┳━━━━━━━━━━━━━━━┓\n",
       "┃<span style=\"font-weight: bold\"> Layer (type)                    </span>┃<span style=\"font-weight: bold\"> Output Shape           </span>┃<span style=\"font-weight: bold\">       Param # </span>┃\n",
       "┡━━━━━━━━━━━━━━━━━━━━━━━━━━━━━━━━━╇━━━━━━━━━━━━━━━━━━━━━━━━╇━━━━━━━━━━━━━━━┩\n",
       "│ conv2d_3 (<span style=\"color: #0087ff; text-decoration-color: #0087ff\">Conv2D</span>)               │ (<span style=\"color: #00d7ff; text-decoration-color: #00d7ff\">None</span>, <span style=\"color: #00af00; text-decoration-color: #00af00\">26</span>, <span style=\"color: #00af00; text-decoration-color: #00af00\">26</span>, <span style=\"color: #00af00; text-decoration-color: #00af00\">32</span>)     │           <span style=\"color: #00af00; text-decoration-color: #00af00\">320</span> │\n",
       "├─────────────────────────────────┼────────────────────────┼───────────────┤\n",
       "│ max_pooling2d_2 (<span style=\"color: #0087ff; text-decoration-color: #0087ff\">MaxPooling2D</span>)  │ (<span style=\"color: #00d7ff; text-decoration-color: #00d7ff\">None</span>, <span style=\"color: #00af00; text-decoration-color: #00af00\">13</span>, <span style=\"color: #00af00; text-decoration-color: #00af00\">13</span>, <span style=\"color: #00af00; text-decoration-color: #00af00\">32</span>)     │             <span style=\"color: #00af00; text-decoration-color: #00af00\">0</span> │\n",
       "├─────────────────────────────────┼────────────────────────┼───────────────┤\n",
       "│ dropout (<span style=\"color: #0087ff; text-decoration-color: #0087ff\">Dropout</span>)               │ (<span style=\"color: #00d7ff; text-decoration-color: #00d7ff\">None</span>, <span style=\"color: #00af00; text-decoration-color: #00af00\">13</span>, <span style=\"color: #00af00; text-decoration-color: #00af00\">13</span>, <span style=\"color: #00af00; text-decoration-color: #00af00\">32</span>)     │             <span style=\"color: #00af00; text-decoration-color: #00af00\">0</span> │\n",
       "├─────────────────────────────────┼────────────────────────┼───────────────┤\n",
       "│ conv2d_4 (<span style=\"color: #0087ff; text-decoration-color: #0087ff\">Conv2D</span>)               │ (<span style=\"color: #00d7ff; text-decoration-color: #00d7ff\">None</span>, <span style=\"color: #00af00; text-decoration-color: #00af00\">11</span>, <span style=\"color: #00af00; text-decoration-color: #00af00\">11</span>, <span style=\"color: #00af00; text-decoration-color: #00af00\">64</span>)     │        <span style=\"color: #00af00; text-decoration-color: #00af00\">18,496</span> │\n",
       "├─────────────────────────────────┼────────────────────────┼───────────────┤\n",
       "│ max_pooling2d_3 (<span style=\"color: #0087ff; text-decoration-color: #0087ff\">MaxPooling2D</span>)  │ (<span style=\"color: #00d7ff; text-decoration-color: #00d7ff\">None</span>, <span style=\"color: #00af00; text-decoration-color: #00af00\">5</span>, <span style=\"color: #00af00; text-decoration-color: #00af00\">5</span>, <span style=\"color: #00af00; text-decoration-color: #00af00\">64</span>)       │             <span style=\"color: #00af00; text-decoration-color: #00af00\">0</span> │\n",
       "├─────────────────────────────────┼────────────────────────┼───────────────┤\n",
       "│ dropout_1 (<span style=\"color: #0087ff; text-decoration-color: #0087ff\">Dropout</span>)             │ (<span style=\"color: #00d7ff; text-decoration-color: #00d7ff\">None</span>, <span style=\"color: #00af00; text-decoration-color: #00af00\">5</span>, <span style=\"color: #00af00; text-decoration-color: #00af00\">5</span>, <span style=\"color: #00af00; text-decoration-color: #00af00\">64</span>)       │             <span style=\"color: #00af00; text-decoration-color: #00af00\">0</span> │\n",
       "├─────────────────────────────────┼────────────────────────┼───────────────┤\n",
       "│ conv2d_5 (<span style=\"color: #0087ff; text-decoration-color: #0087ff\">Conv2D</span>)               │ (<span style=\"color: #00d7ff; text-decoration-color: #00d7ff\">None</span>, <span style=\"color: #00af00; text-decoration-color: #00af00\">3</span>, <span style=\"color: #00af00; text-decoration-color: #00af00\">3</span>, <span style=\"color: #00af00; text-decoration-color: #00af00\">128</span>)      │        <span style=\"color: #00af00; text-decoration-color: #00af00\">73,856</span> │\n",
       "├─────────────────────────────────┼────────────────────────┼───────────────┤\n",
       "│ dropout_2 (<span style=\"color: #0087ff; text-decoration-color: #0087ff\">Dropout</span>)             │ (<span style=\"color: #00d7ff; text-decoration-color: #00d7ff\">None</span>, <span style=\"color: #00af00; text-decoration-color: #00af00\">3</span>, <span style=\"color: #00af00; text-decoration-color: #00af00\">3</span>, <span style=\"color: #00af00; text-decoration-color: #00af00\">128</span>)      │             <span style=\"color: #00af00; text-decoration-color: #00af00\">0</span> │\n",
       "├─────────────────────────────────┼────────────────────────┼───────────────┤\n",
       "│ flatten_1 (<span style=\"color: #0087ff; text-decoration-color: #0087ff\">Flatten</span>)             │ (<span style=\"color: #00d7ff; text-decoration-color: #00d7ff\">None</span>, <span style=\"color: #00af00; text-decoration-color: #00af00\">1152</span>)           │             <span style=\"color: #00af00; text-decoration-color: #00af00\">0</span> │\n",
       "├─────────────────────────────────┼────────────────────────┼───────────────┤\n",
       "│ dense_2 (<span style=\"color: #0087ff; text-decoration-color: #0087ff\">Dense</span>)                 │ (<span style=\"color: #00d7ff; text-decoration-color: #00d7ff\">None</span>, <span style=\"color: #00af00; text-decoration-color: #00af00\">128</span>)            │       <span style=\"color: #00af00; text-decoration-color: #00af00\">147,584</span> │\n",
       "├─────────────────────────────────┼────────────────────────┼───────────────┤\n",
       "│ dropout_3 (<span style=\"color: #0087ff; text-decoration-color: #0087ff\">Dropout</span>)             │ (<span style=\"color: #00d7ff; text-decoration-color: #00d7ff\">None</span>, <span style=\"color: #00af00; text-decoration-color: #00af00\">128</span>)            │             <span style=\"color: #00af00; text-decoration-color: #00af00\">0</span> │\n",
       "├─────────────────────────────────┼────────────────────────┼───────────────┤\n",
       "│ dense_3 (<span style=\"color: #0087ff; text-decoration-color: #0087ff\">Dense</span>)                 │ (<span style=\"color: #00d7ff; text-decoration-color: #00d7ff\">None</span>, <span style=\"color: #00af00; text-decoration-color: #00af00\">10</span>)             │         <span style=\"color: #00af00; text-decoration-color: #00af00\">1,290</span> │\n",
       "└─────────────────────────────────┴────────────────────────┴───────────────┘\n",
       "</pre>\n"
      ],
      "text/plain": [
       "┏━━━━━━━━━━━━━━━━━━━━━━━━━━━━━━━━━┳━━━━━━━━━━━━━━━━━━━━━━━━┳━━━━━━━━━━━━━━━┓\n",
       "┃\u001b[1m \u001b[0m\u001b[1mLayer (type)                   \u001b[0m\u001b[1m \u001b[0m┃\u001b[1m \u001b[0m\u001b[1mOutput Shape          \u001b[0m\u001b[1m \u001b[0m┃\u001b[1m \u001b[0m\u001b[1m      Param #\u001b[0m\u001b[1m \u001b[0m┃\n",
       "┡━━━━━━━━━━━━━━━━━━━━━━━━━━━━━━━━━╇━━━━━━━━━━━━━━━━━━━━━━━━╇━━━━━━━━━━━━━━━┩\n",
       "│ conv2d_3 (\u001b[38;5;33mConv2D\u001b[0m)               │ (\u001b[38;5;45mNone\u001b[0m, \u001b[38;5;34m26\u001b[0m, \u001b[38;5;34m26\u001b[0m, \u001b[38;5;34m32\u001b[0m)     │           \u001b[38;5;34m320\u001b[0m │\n",
       "├─────────────────────────────────┼────────────────────────┼───────────────┤\n",
       "│ max_pooling2d_2 (\u001b[38;5;33mMaxPooling2D\u001b[0m)  │ (\u001b[38;5;45mNone\u001b[0m, \u001b[38;5;34m13\u001b[0m, \u001b[38;5;34m13\u001b[0m, \u001b[38;5;34m32\u001b[0m)     │             \u001b[38;5;34m0\u001b[0m │\n",
       "├─────────────────────────────────┼────────────────────────┼───────────────┤\n",
       "│ dropout (\u001b[38;5;33mDropout\u001b[0m)               │ (\u001b[38;5;45mNone\u001b[0m, \u001b[38;5;34m13\u001b[0m, \u001b[38;5;34m13\u001b[0m, \u001b[38;5;34m32\u001b[0m)     │             \u001b[38;5;34m0\u001b[0m │\n",
       "├─────────────────────────────────┼────────────────────────┼───────────────┤\n",
       "│ conv2d_4 (\u001b[38;5;33mConv2D\u001b[0m)               │ (\u001b[38;5;45mNone\u001b[0m, \u001b[38;5;34m11\u001b[0m, \u001b[38;5;34m11\u001b[0m, \u001b[38;5;34m64\u001b[0m)     │        \u001b[38;5;34m18,496\u001b[0m │\n",
       "├─────────────────────────────────┼────────────────────────┼───────────────┤\n",
       "│ max_pooling2d_3 (\u001b[38;5;33mMaxPooling2D\u001b[0m)  │ (\u001b[38;5;45mNone\u001b[0m, \u001b[38;5;34m5\u001b[0m, \u001b[38;5;34m5\u001b[0m, \u001b[38;5;34m64\u001b[0m)       │             \u001b[38;5;34m0\u001b[0m │\n",
       "├─────────────────────────────────┼────────────────────────┼───────────────┤\n",
       "│ dropout_1 (\u001b[38;5;33mDropout\u001b[0m)             │ (\u001b[38;5;45mNone\u001b[0m, \u001b[38;5;34m5\u001b[0m, \u001b[38;5;34m5\u001b[0m, \u001b[38;5;34m64\u001b[0m)       │             \u001b[38;5;34m0\u001b[0m │\n",
       "├─────────────────────────────────┼────────────────────────┼───────────────┤\n",
       "│ conv2d_5 (\u001b[38;5;33mConv2D\u001b[0m)               │ (\u001b[38;5;45mNone\u001b[0m, \u001b[38;5;34m3\u001b[0m, \u001b[38;5;34m3\u001b[0m, \u001b[38;5;34m128\u001b[0m)      │        \u001b[38;5;34m73,856\u001b[0m │\n",
       "├─────────────────────────────────┼────────────────────────┼───────────────┤\n",
       "│ dropout_2 (\u001b[38;5;33mDropout\u001b[0m)             │ (\u001b[38;5;45mNone\u001b[0m, \u001b[38;5;34m3\u001b[0m, \u001b[38;5;34m3\u001b[0m, \u001b[38;5;34m128\u001b[0m)      │             \u001b[38;5;34m0\u001b[0m │\n",
       "├─────────────────────────────────┼────────────────────────┼───────────────┤\n",
       "│ flatten_1 (\u001b[38;5;33mFlatten\u001b[0m)             │ (\u001b[38;5;45mNone\u001b[0m, \u001b[38;5;34m1152\u001b[0m)           │             \u001b[38;5;34m0\u001b[0m │\n",
       "├─────────────────────────────────┼────────────────────────┼───────────────┤\n",
       "│ dense_2 (\u001b[38;5;33mDense\u001b[0m)                 │ (\u001b[38;5;45mNone\u001b[0m, \u001b[38;5;34m128\u001b[0m)            │       \u001b[38;5;34m147,584\u001b[0m │\n",
       "├─────────────────────────────────┼────────────────────────┼───────────────┤\n",
       "│ dropout_3 (\u001b[38;5;33mDropout\u001b[0m)             │ (\u001b[38;5;45mNone\u001b[0m, \u001b[38;5;34m128\u001b[0m)            │             \u001b[38;5;34m0\u001b[0m │\n",
       "├─────────────────────────────────┼────────────────────────┼───────────────┤\n",
       "│ dense_3 (\u001b[38;5;33mDense\u001b[0m)                 │ (\u001b[38;5;45mNone\u001b[0m, \u001b[38;5;34m10\u001b[0m)             │         \u001b[38;5;34m1,290\u001b[0m │\n",
       "└─────────────────────────────────┴────────────────────────┴───────────────┘\n"
      ]
     },
     "metadata": {},
     "output_type": "display_data"
    },
    {
     "data": {
      "text/html": [
       "<pre style=\"white-space:pre;overflow-x:auto;line-height:normal;font-family:Menlo,'DejaVu Sans Mono',consolas,'Courier New',monospace\"><span style=\"font-weight: bold\"> Total params: </span><span style=\"color: #00af00; text-decoration-color: #00af00\">241,546</span> (943.54 KB)\n",
       "</pre>\n"
      ],
      "text/plain": [
       "\u001b[1m Total params: \u001b[0m\u001b[38;5;34m241,546\u001b[0m (943.54 KB)\n"
      ]
     },
     "metadata": {},
     "output_type": "display_data"
    },
    {
     "data": {
      "text/html": [
       "<pre style=\"white-space:pre;overflow-x:auto;line-height:normal;font-family:Menlo,'DejaVu Sans Mono',consolas,'Courier New',monospace\"><span style=\"font-weight: bold\"> Trainable params: </span><span style=\"color: #00af00; text-decoration-color: #00af00\">241,546</span> (943.54 KB)\n",
       "</pre>\n"
      ],
      "text/plain": [
       "\u001b[1m Trainable params: \u001b[0m\u001b[38;5;34m241,546\u001b[0m (943.54 KB)\n"
      ]
     },
     "metadata": {},
     "output_type": "display_data"
    },
    {
     "data": {
      "text/html": [
       "<pre style=\"white-space:pre;overflow-x:auto;line-height:normal;font-family:Menlo,'DejaVu Sans Mono',consolas,'Courier New',monospace\"><span style=\"font-weight: bold\"> Non-trainable params: </span><span style=\"color: #00af00; text-decoration-color: #00af00\">0</span> (0.00 B)\n",
       "</pre>\n"
      ],
      "text/plain": [
       "\u001b[1m Non-trainable params: \u001b[0m\u001b[38;5;34m0\u001b[0m (0.00 B)\n"
      ]
     },
     "metadata": {},
     "output_type": "display_data"
    }
   ],
   "source": [
    "model.summary()"
   ]
  },
  {
   "cell_type": "code",
   "execution_count": 27,
   "id": "22455ae9",
   "metadata": {},
   "outputs": [
    {
     "data": {
      "image/svg+xml": [
       "<svg xmlns=\"http://www.w3.org/2000/svg\" xmlns:xlink=\"http://www.w3.org/1999/xlink\" width=\"805pt\" height=\"2647pt\" viewBox=\"0.00 0.00 805.00 2647.00\">\n",
       "<g id=\"graph0\" class=\"graph\" transform=\"scale(2.77778 2.77778) rotate(0) translate(4 949)\">\n",
       "<title>G</title>\n",
       "<polygon fill=\"white\" stroke=\"none\" points=\"-4,4 -4,-949 285.75,-949 285.75,4 -4,4\"/>\n",
       "<!-- 1783064745184 -->\n",
       "<g id=\"node1\" class=\"node\">\n",
       "<title>1783064745184</title>\n",
       "<polygon fill=\"none\" stroke=\"black\" points=\"54.38,-899.75 54.38,-944.5 227.38,-944.5 227.38,-899.75 54.38,-899.75\"/>\n",
       "<polygon fill=\"black\" stroke=\"none\" points=\"54.38,-899.75 54.38,-944.5 227.38,-944.5 227.38,-899.75 54.38,-899.75\"/>\n",
       "<polygon fill=\"black\" stroke=\"none\" points=\"56.38,-901.75 56.38,-942.5 225.38,-942.5 225.38,-901.75 56.38,-901.75\"/>\n",
       "<polygon fill=\"none\" stroke=\"black\" points=\"56.38,-901.75 56.38,-942.5 225.38,-942.5 225.38,-901.75 56.38,-901.75\"/>\n",
       "<text xml:space=\"preserve\" text-anchor=\"start\" x=\"67.38\" y=\"-917.3\" font-family=\"Helvetica,sans-Serif\" font-weight=\"bold\" font-size=\"16.00\" fill=\"white\">conv2d_3</text>\n",
       "<text xml:space=\"preserve\" text-anchor=\"start\" x=\"141.62\" y=\"-917.3\" font-family=\"Helvetica,sans-Serif\" font-size=\"16.00\" fill=\"white\"> (Conv2D)</text>\n",
       "</g>\n",
       "<!-- 1783064460592 -->\n",
       "<g id=\"node2\" class=\"node\">\n",
       "<title>1783064460592</title>\n",
       "<polygon fill=\"none\" stroke=\"black\" points=\"0,-818 0,-862.75 281.75,-862.75 281.75,-818 0,-818\"/>\n",
       "<polygon fill=\"black\" stroke=\"none\" points=\"0,-818 0,-862.75 281.75,-862.75 281.75,-818 0,-818\"/>\n",
       "<polygon fill=\"black\" stroke=\"none\" points=\"2,-820 2,-860.75 279.75,-860.75 279.75,-820 2,-820\"/>\n",
       "<polygon fill=\"none\" stroke=\"black\" points=\"2,-820 2,-860.75 279.75,-860.75 279.75,-820 2,-820\"/>\n",
       "<text xml:space=\"preserve\" text-anchor=\"start\" x=\"13\" y=\"-835.55\" font-family=\"Helvetica,sans-Serif\" font-weight=\"bold\" font-size=\"16.00\" fill=\"white\">max_pooling2d_2</text>\n",
       "<text xml:space=\"preserve\" text-anchor=\"start\" x=\"148.75\" y=\"-835.55\" font-family=\"Helvetica,sans-Serif\" font-size=\"16.00\" fill=\"white\"> (MaxPooling2D)</text>\n",
       "</g>\n",
       "<!-- 1783064745184&#45;&gt;1783064460592 -->\n",
       "<g id=\"edge1\" class=\"edge\">\n",
       "<title>1783064745184-&gt;1783064460592</title>\n",
       "<path fill=\"none\" stroke=\"black\" stroke-width=\"2\" d=\"M140.88,-899.35C140.88,-899.35 140.88,-876.05 140.88,-876.05\"/>\n",
       "<polygon fill=\"black\" stroke=\"black\" stroke-width=\"2\" points=\"144.38,-876.05 140.88,-866.05 137.38,-876.05 144.38,-876.05\"/>\n",
       "</g>\n",
       "<!-- 1783064457616 -->\n",
       "<g id=\"node3\" class=\"node\">\n",
       "<title>1783064457616</title>\n",
       "<polygon fill=\"none\" stroke=\"black\" points=\"61.88,-736.25 61.88,-781 219.88,-781 219.88,-736.25 61.88,-736.25\"/>\n",
       "<polygon fill=\"black\" stroke=\"none\" points=\"61.88,-736.25 61.88,-781 219.88,-781 219.88,-736.25 61.88,-736.25\"/>\n",
       "<polygon fill=\"black\" stroke=\"none\" points=\"63.88,-738.25 63.88,-779 217.88,-779 217.88,-738.25 63.88,-738.25\"/>\n",
       "<polygon fill=\"none\" stroke=\"black\" points=\"63.88,-738.25 63.88,-779 217.88,-779 217.88,-738.25 63.88,-738.25\"/>\n",
       "<text xml:space=\"preserve\" text-anchor=\"start\" x=\"74.88\" y=\"-753.8\" font-family=\"Helvetica,sans-Serif\" font-weight=\"bold\" font-size=\"16.00\" fill=\"white\">dropout</text>\n",
       "<text xml:space=\"preserve\" text-anchor=\"start\" x=\"134.88\" y=\"-753.8\" font-family=\"Helvetica,sans-Serif\" font-size=\"16.00\" fill=\"white\"> (Dropout)</text>\n",
       "</g>\n",
       "<!-- 1783064460592&#45;&gt;1783064457616 -->\n",
       "<g id=\"edge2\" class=\"edge\">\n",
       "<title>1783064460592-&gt;1783064457616</title>\n",
       "<path fill=\"none\" stroke=\"black\" stroke-width=\"2\" d=\"M140.88,-817.6C140.88,-817.6 140.88,-794.3 140.88,-794.3\"/>\n",
       "<polygon fill=\"black\" stroke=\"black\" stroke-width=\"2\" points=\"144.38,-794.3 140.88,-784.3 137.38,-794.3 144.38,-794.3\"/>\n",
       "</g>\n",
       "<!-- 1783048067328 -->\n",
       "<g id=\"node4\" class=\"node\">\n",
       "<title>1783048067328</title>\n",
       "<polygon fill=\"none\" stroke=\"black\" points=\"54.38,-654.5 54.38,-699.25 227.38,-699.25 227.38,-654.5 54.38,-654.5\"/>\n",
       "<polygon fill=\"black\" stroke=\"none\" points=\"54.38,-654.5 54.38,-699.25 227.38,-699.25 227.38,-654.5 54.38,-654.5\"/>\n",
       "<polygon fill=\"black\" stroke=\"none\" points=\"56.38,-656.5 56.38,-697.25 225.38,-697.25 225.38,-656.5 56.38,-656.5\"/>\n",
       "<polygon fill=\"none\" stroke=\"black\" points=\"56.38,-656.5 56.38,-697.25 225.38,-697.25 225.38,-656.5 56.38,-656.5\"/>\n",
       "<text xml:space=\"preserve\" text-anchor=\"start\" x=\"67.38\" y=\"-672.05\" font-family=\"Helvetica,sans-Serif\" font-weight=\"bold\" font-size=\"16.00\" fill=\"white\">conv2d_4</text>\n",
       "<text xml:space=\"preserve\" text-anchor=\"start\" x=\"141.62\" y=\"-672.05\" font-family=\"Helvetica,sans-Serif\" font-size=\"16.00\" fill=\"white\"> (Conv2D)</text>\n",
       "</g>\n",
       "<!-- 1783064457616&#45;&gt;1783048067328 -->\n",
       "<g id=\"edge3\" class=\"edge\">\n",
       "<title>1783064457616-&gt;1783048067328</title>\n",
       "<path fill=\"none\" stroke=\"black\" stroke-width=\"2\" d=\"M140.88,-735.85C140.88,-735.85 140.88,-712.55 140.88,-712.55\"/>\n",
       "<polygon fill=\"black\" stroke=\"black\" stroke-width=\"2\" points=\"144.38,-712.55 140.88,-702.55 137.38,-712.55 144.38,-712.55\"/>\n",
       "</g>\n",
       "<!-- 1783048067376 -->\n",
       "<g id=\"node5\" class=\"node\">\n",
       "<title>1783048067376</title>\n",
       "<polygon fill=\"none\" stroke=\"black\" points=\"0,-572.75 0,-617.5 281.75,-617.5 281.75,-572.75 0,-572.75\"/>\n",
       "<polygon fill=\"black\" stroke=\"none\" points=\"0,-572.75 0,-617.5 281.75,-617.5 281.75,-572.75 0,-572.75\"/>\n",
       "<polygon fill=\"black\" stroke=\"none\" points=\"2,-574.75 2,-615.5 279.75,-615.5 279.75,-574.75 2,-574.75\"/>\n",
       "<polygon fill=\"none\" stroke=\"black\" points=\"2,-574.75 2,-615.5 279.75,-615.5 279.75,-574.75 2,-574.75\"/>\n",
       "<text xml:space=\"preserve\" text-anchor=\"start\" x=\"13\" y=\"-590.3\" font-family=\"Helvetica,sans-Serif\" font-weight=\"bold\" font-size=\"16.00\" fill=\"white\">max_pooling2d_3</text>\n",
       "<text xml:space=\"preserve\" text-anchor=\"start\" x=\"148.75\" y=\"-590.3\" font-family=\"Helvetica,sans-Serif\" font-size=\"16.00\" fill=\"white\"> (MaxPooling2D)</text>\n",
       "</g>\n",
       "<!-- 1783048067328&#45;&gt;1783048067376 -->\n",
       "<g id=\"edge4\" class=\"edge\">\n",
       "<title>1783048067328-&gt;1783048067376</title>\n",
       "<path fill=\"none\" stroke=\"black\" stroke-width=\"2\" d=\"M140.88,-654.1C140.88,-654.1 140.88,-630.8 140.88,-630.8\"/>\n",
       "<polygon fill=\"black\" stroke=\"black\" stroke-width=\"2\" points=\"144.38,-630.8 140.88,-620.8 137.38,-630.8 144.38,-630.8\"/>\n",
       "</g>\n",
       "<!-- 1783048071648 -->\n",
       "<g id=\"node6\" class=\"node\">\n",
       "<title>1783048071648</title>\n",
       "<polygon fill=\"none\" stroke=\"black\" points=\"52.88,-491 52.88,-535.75 228.88,-535.75 228.88,-491 52.88,-491\"/>\n",
       "<polygon fill=\"black\" stroke=\"none\" points=\"52.88,-491 52.88,-535.75 228.88,-535.75 228.88,-491 52.88,-491\"/>\n",
       "<polygon fill=\"black\" stroke=\"none\" points=\"54.88,-493 54.88,-533.75 226.88,-533.75 226.88,-493 54.88,-493\"/>\n",
       "<polygon fill=\"none\" stroke=\"black\" points=\"54.88,-493 54.88,-533.75 226.88,-533.75 226.88,-493 54.88,-493\"/>\n",
       "<text xml:space=\"preserve\" text-anchor=\"start\" x=\"65.88\" y=\"-508.55\" font-family=\"Helvetica,sans-Serif\" font-weight=\"bold\" font-size=\"16.00\" fill=\"white\">dropout_1</text>\n",
       "<text xml:space=\"preserve\" text-anchor=\"start\" x=\"143.88\" y=\"-508.55\" font-family=\"Helvetica,sans-Serif\" font-size=\"16.00\" fill=\"white\"> (Dropout)</text>\n",
       "</g>\n",
       "<!-- 1783048067376&#45;&gt;1783048071648 -->\n",
       "<g id=\"edge5\" class=\"edge\">\n",
       "<title>1783048067376-&gt;1783048071648</title>\n",
       "<path fill=\"none\" stroke=\"black\" stroke-width=\"2\" d=\"M140.88,-572.35C140.88,-572.35 140.88,-549.05 140.88,-549.05\"/>\n",
       "<polygon fill=\"black\" stroke=\"black\" stroke-width=\"2\" points=\"144.38,-549.05 140.88,-539.05 137.38,-549.05 144.38,-549.05\"/>\n",
       "</g>\n",
       "<!-- 1783064339760 -->\n",
       "<g id=\"node7\" class=\"node\">\n",
       "<title>1783064339760</title>\n",
       "<polygon fill=\"none\" stroke=\"black\" points=\"54.38,-409.25 54.38,-454 227.38,-454 227.38,-409.25 54.38,-409.25\"/>\n",
       "<polygon fill=\"black\" stroke=\"none\" points=\"54.38,-409.25 54.38,-454 227.38,-454 227.38,-409.25 54.38,-409.25\"/>\n",
       "<polygon fill=\"black\" stroke=\"none\" points=\"56.38,-411.25 56.38,-452 225.38,-452 225.38,-411.25 56.38,-411.25\"/>\n",
       "<polygon fill=\"none\" stroke=\"black\" points=\"56.38,-411.25 56.38,-452 225.38,-452 225.38,-411.25 56.38,-411.25\"/>\n",
       "<text xml:space=\"preserve\" text-anchor=\"start\" x=\"67.38\" y=\"-426.8\" font-family=\"Helvetica,sans-Serif\" font-weight=\"bold\" font-size=\"16.00\" fill=\"white\">conv2d_5</text>\n",
       "<text xml:space=\"preserve\" text-anchor=\"start\" x=\"141.62\" y=\"-426.8\" font-family=\"Helvetica,sans-Serif\" font-size=\"16.00\" fill=\"white\"> (Conv2D)</text>\n",
       "</g>\n",
       "<!-- 1783048071648&#45;&gt;1783064339760 -->\n",
       "<g id=\"edge6\" class=\"edge\">\n",
       "<title>1783048071648-&gt;1783064339760</title>\n",
       "<path fill=\"none\" stroke=\"black\" stroke-width=\"2\" d=\"M140.88,-490.6C140.88,-490.6 140.88,-467.3 140.88,-467.3\"/>\n",
       "<polygon fill=\"black\" stroke=\"black\" stroke-width=\"2\" points=\"144.38,-467.3 140.88,-457.3 137.38,-467.3 144.38,-467.3\"/>\n",
       "</g>\n",
       "<!-- 1783064338992 -->\n",
       "<g id=\"node8\" class=\"node\">\n",
       "<title>1783064338992</title>\n",
       "<polygon fill=\"none\" stroke=\"black\" points=\"52.88,-327.5 52.88,-372.25 228.88,-372.25 228.88,-327.5 52.88,-327.5\"/>\n",
       "<polygon fill=\"black\" stroke=\"none\" points=\"52.88,-327.5 52.88,-372.25 228.88,-372.25 228.88,-327.5 52.88,-327.5\"/>\n",
       "<polygon fill=\"black\" stroke=\"none\" points=\"54.88,-329.5 54.88,-370.25 226.88,-370.25 226.88,-329.5 54.88,-329.5\"/>\n",
       "<polygon fill=\"none\" stroke=\"black\" points=\"54.88,-329.5 54.88,-370.25 226.88,-370.25 226.88,-329.5 54.88,-329.5\"/>\n",
       "<text xml:space=\"preserve\" text-anchor=\"start\" x=\"65.88\" y=\"-345.05\" font-family=\"Helvetica,sans-Serif\" font-weight=\"bold\" font-size=\"16.00\" fill=\"white\">dropout_2</text>\n",
       "<text xml:space=\"preserve\" text-anchor=\"start\" x=\"143.88\" y=\"-345.05\" font-family=\"Helvetica,sans-Serif\" font-size=\"16.00\" fill=\"white\"> (Dropout)</text>\n",
       "</g>\n",
       "<!-- 1783064339760&#45;&gt;1783064338992 -->\n",
       "<g id=\"edge7\" class=\"edge\">\n",
       "<title>1783064339760-&gt;1783064338992</title>\n",
       "<path fill=\"none\" stroke=\"black\" stroke-width=\"2\" d=\"M140.88,-408.85C140.88,-408.85 140.88,-385.55 140.88,-385.55\"/>\n",
       "<polygon fill=\"black\" stroke=\"black\" stroke-width=\"2\" points=\"144.38,-385.55 140.88,-375.55 137.38,-385.55 144.38,-385.55\"/>\n",
       "</g>\n",
       "<!-- 1783064164768 -->\n",
       "<g id=\"node9\" class=\"node\">\n",
       "<title>1783064164768</title>\n",
       "<polygon fill=\"none\" stroke=\"black\" points=\"62.62,-245.75 62.62,-290.5 219.12,-290.5 219.12,-245.75 62.62,-245.75\"/>\n",
       "<polygon fill=\"black\" stroke=\"none\" points=\"62.62,-245.75 62.62,-290.5 219.12,-290.5 219.12,-245.75 62.62,-245.75\"/>\n",
       "<polygon fill=\"black\" stroke=\"none\" points=\"64.62,-247.75 64.62,-288.5 217.12,-288.5 217.12,-247.75 64.62,-247.75\"/>\n",
       "<polygon fill=\"none\" stroke=\"black\" points=\"64.62,-247.75 64.62,-288.5 217.12,-288.5 217.12,-247.75 64.62,-247.75\"/>\n",
       "<text xml:space=\"preserve\" text-anchor=\"start\" x=\"75.62\" y=\"-263.3\" font-family=\"Helvetica,sans-Serif\" font-weight=\"bold\" font-size=\"16.00\" fill=\"white\">flatten_1</text>\n",
       "<text xml:space=\"preserve\" text-anchor=\"start\" x=\"141.62\" y=\"-263.3\" font-family=\"Helvetica,sans-Serif\" font-size=\"16.00\" fill=\"white\"> (Flatten)</text>\n",
       "</g>\n",
       "<!-- 1783064338992&#45;&gt;1783064164768 -->\n",
       "<g id=\"edge8\" class=\"edge\">\n",
       "<title>1783064338992-&gt;1783064164768</title>\n",
       "<path fill=\"none\" stroke=\"black\" stroke-width=\"2\" d=\"M140.88,-327.1C140.88,-327.1 140.88,-303.8 140.88,-303.8\"/>\n",
       "<polygon fill=\"black\" stroke=\"black\" stroke-width=\"2\" points=\"144.38,-303.8 140.88,-293.8 137.38,-303.8 144.38,-303.8\"/>\n",
       "</g>\n",
       "<!-- 1783064159296 -->\n",
       "<g id=\"node10\" class=\"node\">\n",
       "<title>1783064159296</title>\n",
       "<polygon fill=\"none\" stroke=\"black\" points=\"64.88,-164 64.88,-208.75 216.88,-208.75 216.88,-164 64.88,-164\"/>\n",
       "<polygon fill=\"black\" stroke=\"none\" points=\"64.88,-164 64.88,-208.75 216.88,-208.75 216.88,-164 64.88,-164\"/>\n",
       "<polygon fill=\"black\" stroke=\"none\" points=\"66.88,-166 66.88,-206.75 214.88,-206.75 214.88,-166 66.88,-166\"/>\n",
       "<polygon fill=\"none\" stroke=\"black\" points=\"66.88,-166 66.88,-206.75 214.88,-206.75 214.88,-166 66.88,-166\"/>\n",
       "<text xml:space=\"preserve\" text-anchor=\"start\" x=\"77.88\" y=\"-181.55\" font-family=\"Helvetica,sans-Serif\" font-weight=\"bold\" font-size=\"16.00\" fill=\"white\">dense_2</text>\n",
       "<text xml:space=\"preserve\" text-anchor=\"start\" x=\"142.38\" y=\"-181.55\" font-family=\"Helvetica,sans-Serif\" font-size=\"16.00\" fill=\"white\"> (Dense)</text>\n",
       "</g>\n",
       "<!-- 1783064164768&#45;&gt;1783064159296 -->\n",
       "<g id=\"edge9\" class=\"edge\">\n",
       "<title>1783064164768-&gt;1783064159296</title>\n",
       "<path fill=\"none\" stroke=\"black\" stroke-width=\"2\" d=\"M140.88,-245.35C140.88,-245.35 140.88,-222.05 140.88,-222.05\"/>\n",
       "<polygon fill=\"black\" stroke=\"black\" stroke-width=\"2\" points=\"144.38,-222.05 140.88,-212.05 137.38,-222.05 144.38,-222.05\"/>\n",
       "</g>\n",
       "<!-- 1783064096016 -->\n",
       "<g id=\"node11\" class=\"node\">\n",
       "<title>1783064096016</title>\n",
       "<polygon fill=\"none\" stroke=\"black\" points=\"52.88,-82.25 52.88,-127 228.88,-127 228.88,-82.25 52.88,-82.25\"/>\n",
       "<polygon fill=\"black\" stroke=\"none\" points=\"52.88,-82.25 52.88,-127 228.88,-127 228.88,-82.25 52.88,-82.25\"/>\n",
       "<polygon fill=\"black\" stroke=\"none\" points=\"54.88,-84.25 54.88,-125 226.88,-125 226.88,-84.25 54.88,-84.25\"/>\n",
       "<polygon fill=\"none\" stroke=\"black\" points=\"54.88,-84.25 54.88,-125 226.88,-125 226.88,-84.25 54.88,-84.25\"/>\n",
       "<text xml:space=\"preserve\" text-anchor=\"start\" x=\"65.88\" y=\"-99.8\" font-family=\"Helvetica,sans-Serif\" font-weight=\"bold\" font-size=\"16.00\" fill=\"white\">dropout_3</text>\n",
       "<text xml:space=\"preserve\" text-anchor=\"start\" x=\"143.88\" y=\"-99.8\" font-family=\"Helvetica,sans-Serif\" font-size=\"16.00\" fill=\"white\"> (Dropout)</text>\n",
       "</g>\n",
       "<!-- 1783064159296&#45;&gt;1783064096016 -->\n",
       "<g id=\"edge10\" class=\"edge\">\n",
       "<title>1783064159296-&gt;1783064096016</title>\n",
       "<path fill=\"none\" stroke=\"black\" stroke-width=\"2\" d=\"M140.88,-163.6C140.88,-163.6 140.88,-140.3 140.88,-140.3\"/>\n",
       "<polygon fill=\"black\" stroke=\"black\" stroke-width=\"2\" points=\"144.38,-140.3 140.88,-130.3 137.38,-140.3 144.38,-140.3\"/>\n",
       "</g>\n",
       "<!-- 1783063983392 -->\n",
       "<g id=\"node12\" class=\"node\">\n",
       "<title>1783063983392</title>\n",
       "<polygon fill=\"none\" stroke=\"black\" points=\"64.88,-0.5 64.88,-45.25 216.88,-45.25 216.88,-0.5 64.88,-0.5\"/>\n",
       "<polygon fill=\"black\" stroke=\"none\" points=\"64.88,-0.5 64.88,-45.25 216.88,-45.25 216.88,-0.5 64.88,-0.5\"/>\n",
       "<polygon fill=\"black\" stroke=\"none\" points=\"66.88,-2.5 66.88,-43.25 214.88,-43.25 214.88,-2.5 66.88,-2.5\"/>\n",
       "<polygon fill=\"none\" stroke=\"black\" points=\"66.88,-2.5 66.88,-43.25 214.88,-43.25 214.88,-2.5 66.88,-2.5\"/>\n",
       "<text xml:space=\"preserve\" text-anchor=\"start\" x=\"77.88\" y=\"-18.05\" font-family=\"Helvetica,sans-Serif\" font-weight=\"bold\" font-size=\"16.00\" fill=\"white\">dense_3</text>\n",
       "<text xml:space=\"preserve\" text-anchor=\"start\" x=\"142.38\" y=\"-18.05\" font-family=\"Helvetica,sans-Serif\" font-size=\"16.00\" fill=\"white\"> (Dense)</text>\n",
       "</g>\n",
       "<!-- 1783064096016&#45;&gt;1783063983392 -->\n",
       "<g id=\"edge11\" class=\"edge\">\n",
       "<title>1783064096016-&gt;1783063983392</title>\n",
       "<path fill=\"none\" stroke=\"black\" stroke-width=\"2\" d=\"M140.88,-81.85C140.88,-81.85 140.88,-58.55 140.88,-58.55\"/>\n",
       "<polygon fill=\"black\" stroke=\"black\" stroke-width=\"2\" points=\"144.38,-58.55 140.88,-48.55 137.38,-58.55 144.38,-58.55\"/>\n",
       "</g>\n",
       "</g>\n",
       "</svg>"
      ],
      "text/plain": [
       "<IPython.core.display.SVG object>"
      ]
     },
     "execution_count": 27,
     "metadata": {},
     "output_type": "execute_result"
    }
   ],
   "source": [
    "plot_model(model, to_file='model.png')\n",
    "SVG(model_to_dot(model).create(prog='dot', format='svg'))"
   ]
  },
  {
   "cell_type": "markdown",
   "id": "ab9b73fc",
   "metadata": {},
   "source": [
    "### Optimized Training the Model"
   ]
  },
  {
   "cell_type": "code",
   "execution_count": 28,
   "id": "3f0433b5",
   "metadata": {},
   "outputs": [
    {
     "name": "stdout",
     "output_type": "stream",
     "text": [
      "Epoch 1/50\n",
      "\u001b[1m375/375\u001b[0m \u001b[32m━━━━━━━━━━━━━━━━━━━━\u001b[0m\u001b[37m\u001b[0m \u001b[1m21s\u001b[0m 48ms/step - accuracy: 0.7280 - loss: 0.7302 - val_accuracy: 0.8360 - val_loss: 0.4466\n",
      "Epoch 2/50\n",
      "\u001b[1m375/375\u001b[0m \u001b[32m━━━━━━━━━━━━━━━━━━━━\u001b[0m\u001b[37m\u001b[0m \u001b[1m17s\u001b[0m 46ms/step - accuracy: 0.8276 - loss: 0.4670 - val_accuracy: 0.8673 - val_loss: 0.3557\n",
      "Epoch 3/50\n",
      "\u001b[1m375/375\u001b[0m \u001b[32m━━━━━━━━━━━━━━━━━━━━\u001b[0m\u001b[37m\u001b[0m \u001b[1m17s\u001b[0m 46ms/step - accuracy: 0.8515 - loss: 0.4042 - val_accuracy: 0.8864 - val_loss: 0.3172\n",
      "Epoch 4/50\n",
      "\u001b[1m375/375\u001b[0m \u001b[32m━━━━━━━━━━━━━━━━━━━━\u001b[0m\u001b[37m\u001b[0m \u001b[1m18s\u001b[0m 47ms/step - accuracy: 0.8665 - loss: 0.3651 - val_accuracy: 0.8923 - val_loss: 0.3067\n",
      "Epoch 5/50\n",
      "\u001b[1m375/375\u001b[0m \u001b[32m━━━━━━━━━━━━━━━━━━━━\u001b[0m\u001b[37m\u001b[0m \u001b[1m17s\u001b[0m 44ms/step - accuracy: 0.8746 - loss: 0.3394 - val_accuracy: 0.8928 - val_loss: 0.2908\n",
      "Epoch 6/50\n",
      "\u001b[1m375/375\u001b[0m \u001b[32m━━━━━━━━━━━━━━━━━━━━\u001b[0m\u001b[37m\u001b[0m \u001b[1m18s\u001b[0m 47ms/step - accuracy: 0.8820 - loss: 0.3226 - val_accuracy: 0.9004 - val_loss: 0.2686\n",
      "Epoch 7/50\n",
      "\u001b[1m375/375\u001b[0m \u001b[32m━━━━━━━━━━━━━━━━━━━━\u001b[0m\u001b[37m\u001b[0m \u001b[1m17s\u001b[0m 46ms/step - accuracy: 0.8882 - loss: 0.3083 - val_accuracy: 0.9049 - val_loss: 0.2632\n",
      "Epoch 8/50\n",
      "\u001b[1m375/375\u001b[0m \u001b[32m━━━━━━━━━━━━━━━━━━━━\u001b[0m\u001b[37m\u001b[0m \u001b[1m20s\u001b[0m 45ms/step - accuracy: 0.8924 - loss: 0.2965 - val_accuracy: 0.9067 - val_loss: 0.2595\n",
      "Epoch 9/50\n",
      "\u001b[1m375/375\u001b[0m \u001b[32m━━━━━━━━━━━━━━━━━━━━\u001b[0m\u001b[37m\u001b[0m \u001b[1m17s\u001b[0m 46ms/step - accuracy: 0.8932 - loss: 0.2897 - val_accuracy: 0.9100 - val_loss: 0.2500\n",
      "Epoch 10/50\n",
      "\u001b[1m375/375\u001b[0m \u001b[32m━━━━━━━━━━━━━━━━━━━━\u001b[0m\u001b[37m\u001b[0m \u001b[1m17s\u001b[0m 44ms/step - accuracy: 0.8958 - loss: 0.2808 - val_accuracy: 0.9086 - val_loss: 0.2555\n",
      "Epoch 11/50\n",
      "\u001b[1m375/375\u001b[0m \u001b[32m━━━━━━━━━━━━━━━━━━━━\u001b[0m\u001b[37m\u001b[0m \u001b[1m18s\u001b[0m 47ms/step - accuracy: 0.8991 - loss: 0.2729 - val_accuracy: 0.9118 - val_loss: 0.2460\n",
      "Epoch 12/50\n",
      "\u001b[1m375/375\u001b[0m \u001b[32m━━━━━━━━━━━━━━━━━━━━\u001b[0m\u001b[37m\u001b[0m \u001b[1m17s\u001b[0m 45ms/step - accuracy: 0.9006 - loss: 0.2694 - val_accuracy: 0.9140 - val_loss: 0.2431\n",
      "Epoch 13/50\n",
      "\u001b[1m375/375\u001b[0m \u001b[32m━━━━━━━━━━━━━━━━━━━━\u001b[0m\u001b[37m\u001b[0m \u001b[1m17s\u001b[0m 46ms/step - accuracy: 0.9030 - loss: 0.2633 - val_accuracy: 0.9096 - val_loss: 0.2454\n",
      "Epoch 14/50\n",
      "\u001b[1m375/375\u001b[0m \u001b[32m━━━━━━━━━━━━━━━━━━━━\u001b[0m\u001b[37m\u001b[0m \u001b[1m17s\u001b[0m 46ms/step - accuracy: 0.9040 - loss: 0.2577 - val_accuracy: 0.9134 - val_loss: 0.2388\n",
      "Epoch 15/50\n",
      "\u001b[1m375/375\u001b[0m \u001b[32m━━━━━━━━━━━━━━━━━━━━\u001b[0m\u001b[37m\u001b[0m \u001b[1m17s\u001b[0m 46ms/step - accuracy: 0.9065 - loss: 0.2512 - val_accuracy: 0.9136 - val_loss: 0.2366\n",
      "Epoch 16/50\n",
      "\u001b[1m375/375\u001b[0m \u001b[32m━━━━━━━━━━━━━━━━━━━━\u001b[0m\u001b[37m\u001b[0m \u001b[1m18s\u001b[0m 47ms/step - accuracy: 0.9052 - loss: 0.2505 - val_accuracy: 0.9159 - val_loss: 0.2357\n",
      "Epoch 17/50\n",
      "\u001b[1m375/375\u001b[0m \u001b[32m━━━━━━━━━━━━━━━━━━━━\u001b[0m\u001b[37m\u001b[0m \u001b[1m17s\u001b[0m 45ms/step - accuracy: 0.9090 - loss: 0.2431 - val_accuracy: 0.9156 - val_loss: 0.2326\n",
      "Epoch 18/50\n",
      "\u001b[1m375/375\u001b[0m \u001b[32m━━━━━━━━━━━━━━━━━━━━\u001b[0m\u001b[37m\u001b[0m \u001b[1m17s\u001b[0m 46ms/step - accuracy: 0.9102 - loss: 0.2396 - val_accuracy: 0.9137 - val_loss: 0.2349\n",
      "Epoch 19/50\n",
      "\u001b[1m375/375\u001b[0m \u001b[32m━━━━━━━━━━━━━━━━━━━━\u001b[0m\u001b[37m\u001b[0m \u001b[1m17s\u001b[0m 45ms/step - accuracy: 0.9102 - loss: 0.2381 - val_accuracy: 0.9166 - val_loss: 0.2301\n",
      "Epoch 20/50\n",
      "\u001b[1m375/375\u001b[0m \u001b[32m━━━━━━━━━━━━━━━━━━━━\u001b[0m\u001b[37m\u001b[0m \u001b[1m17s\u001b[0m 46ms/step - accuracy: 0.9124 - loss: 0.2343 - val_accuracy: 0.9183 - val_loss: 0.2295\n",
      "Epoch 21/50\n",
      "\u001b[1m375/375\u001b[0m \u001b[32m━━━━━━━━━━━━━━━━━━━━\u001b[0m\u001b[37m\u001b[0m \u001b[1m17s\u001b[0m 46ms/step - accuracy: 0.9138 - loss: 0.2323 - val_accuracy: 0.9187 - val_loss: 0.2319\n",
      "Epoch 22/50\n",
      "\u001b[1m375/375\u001b[0m \u001b[32m━━━━━━━━━━━━━━━━━━━━\u001b[0m\u001b[37m\u001b[0m \u001b[1m17s\u001b[0m 45ms/step - accuracy: 0.9138 - loss: 0.2275 - val_accuracy: 0.9197 - val_loss: 0.2284\n",
      "Epoch 23/50\n",
      "\u001b[1m375/375\u001b[0m \u001b[32m━━━━━━━━━━━━━━━━━━━━\u001b[0m\u001b[37m\u001b[0m \u001b[1m18s\u001b[0m 47ms/step - accuracy: 0.9159 - loss: 0.2228 - val_accuracy: 0.9194 - val_loss: 0.2248\n",
      "Epoch 24/50\n",
      "\u001b[1m375/375\u001b[0m \u001b[32m━━━━━━━━━━━━━━━━━━━━\u001b[0m\u001b[37m\u001b[0m \u001b[1m17s\u001b[0m 45ms/step - accuracy: 0.9161 - loss: 0.2231 - val_accuracy: 0.9187 - val_loss: 0.2258\n",
      "Epoch 25/50\n",
      "\u001b[1m375/375\u001b[0m \u001b[32m━━━━━━━━━━━━━━━━━━━━\u001b[0m\u001b[37m\u001b[0m \u001b[1m17s\u001b[0m 46ms/step - accuracy: 0.9167 - loss: 0.2253 - val_accuracy: 0.9218 - val_loss: 0.2229\n",
      "Epoch 26/50\n",
      "\u001b[1m375/375\u001b[0m \u001b[32m━━━━━━━━━━━━━━━━━━━━\u001b[0m\u001b[37m\u001b[0m \u001b[1m17s\u001b[0m 45ms/step - accuracy: 0.9167 - loss: 0.2178 - val_accuracy: 0.9189 - val_loss: 0.2271\n",
      "Epoch 27/50\n",
      "\u001b[1m375/375\u001b[0m \u001b[32m━━━━━━━━━━━━━━━━━━━━\u001b[0m\u001b[37m\u001b[0m \u001b[1m17s\u001b[0m 46ms/step - accuracy: 0.9164 - loss: 0.2176 - val_accuracy: 0.9172 - val_loss: 0.2288\n",
      "Epoch 28/50\n",
      "\u001b[1m375/375\u001b[0m \u001b[32m━━━━━━━━━━━━━━━━━━━━\u001b[0m\u001b[37m\u001b[0m \u001b[1m18s\u001b[0m 47ms/step - accuracy: 0.9171 - loss: 0.2170 - val_accuracy: 0.9212 - val_loss: 0.2198\n",
      "Epoch 29/50\n",
      "\u001b[1m375/375\u001b[0m \u001b[32m━━━━━━━━━━━━━━━━━━━━\u001b[0m\u001b[37m\u001b[0m \u001b[1m17s\u001b[0m 45ms/step - accuracy: 0.9174 - loss: 0.2156 - val_accuracy: 0.9212 - val_loss: 0.2195\n",
      "Epoch 30/50\n",
      "\u001b[1m375/375\u001b[0m \u001b[32m━━━━━━━━━━━━━━━━━━━━\u001b[0m\u001b[37m\u001b[0m \u001b[1m17s\u001b[0m 46ms/step - accuracy: 0.9209 - loss: 0.2084 - val_accuracy: 0.9176 - val_loss: 0.2298\n",
      "Epoch 31/50\n",
      "\u001b[1m375/375\u001b[0m \u001b[32m━━━━━━━━━━━━━━━━━━━━\u001b[0m\u001b[37m\u001b[0m \u001b[1m17s\u001b[0m 45ms/step - accuracy: 0.9205 - loss: 0.2111 - val_accuracy: 0.9197 - val_loss: 0.2250\n",
      "Epoch 32/50\n",
      "\u001b[1m375/375\u001b[0m \u001b[32m━━━━━━━━━━━━━━━━━━━━\u001b[0m\u001b[37m\u001b[0m \u001b[1m18s\u001b[0m 47ms/step - accuracy: 0.9212 - loss: 0.2097 - val_accuracy: 0.9209 - val_loss: 0.2236\n",
      "Epoch 33/50\n",
      "\u001b[1m375/375\u001b[0m \u001b[32m━━━━━━━━━━━━━━━━━━━━\u001b[0m\u001b[37m\u001b[0m \u001b[1m17s\u001b[0m 46ms/step - accuracy: 0.9221 - loss: 0.2078 - val_accuracy: 0.9233 - val_loss: 0.2194\n",
      "Epoch 34/50\n",
      "\u001b[1m375/375\u001b[0m \u001b[32m━━━━━━━━━━━━━━━━━━━━\u001b[0m\u001b[37m\u001b[0m \u001b[1m18s\u001b[0m 47ms/step - accuracy: 0.9220 - loss: 0.2059 - val_accuracy: 0.9205 - val_loss: 0.2263\n",
      "Epoch 35/50\n",
      "\u001b[1m375/375\u001b[0m \u001b[32m━━━━━━━━━━━━━━━━━━━━\u001b[0m\u001b[37m\u001b[0m \u001b[1m18s\u001b[0m 48ms/step - accuracy: 0.9222 - loss: 0.2025 - val_accuracy: 0.9193 - val_loss: 0.2243\n",
      "Epoch 36/50\n",
      "\u001b[1m375/375\u001b[0m \u001b[32m━━━━━━━━━━━━━━━━━━━━\u001b[0m\u001b[37m\u001b[0m \u001b[1m18s\u001b[0m 47ms/step - accuracy: 0.9220 - loss: 0.2021 - val_accuracy: 0.9229 - val_loss: 0.2229\n",
      "Epoch 37/50\n",
      "\u001b[1m375/375\u001b[0m \u001b[32m━━━━━━━━━━━━━━━━━━━━\u001b[0m\u001b[37m\u001b[0m \u001b[1m21s\u001b[0m 47ms/step - accuracy: 0.9215 - loss: 0.2044 - val_accuracy: 0.9187 - val_loss: 0.2259\n",
      "Epoch 38/50\n",
      "\u001b[1m375/375\u001b[0m \u001b[32m━━━━━━━━━━━━━━━━━━━━\u001b[0m\u001b[37m\u001b[0m \u001b[1m18s\u001b[0m 47ms/step - accuracy: 0.9248 - loss: 0.1986 - val_accuracy: 0.9255 - val_loss: 0.2162\n",
      "Epoch 39/50\n",
      "\u001b[1m375/375\u001b[0m \u001b[32m━━━━━━━━━━━━━━━━━━━━\u001b[0m\u001b[37m\u001b[0m \u001b[1m17s\u001b[0m 45ms/step - accuracy: 0.9249 - loss: 0.1974 - val_accuracy: 0.9222 - val_loss: 0.2184\n",
      "Epoch 40/50\n",
      "\u001b[1m375/375\u001b[0m \u001b[32m━━━━━━━━━━━━━━━━━━━━\u001b[0m\u001b[37m\u001b[0m \u001b[1m18s\u001b[0m 48ms/step - accuracy: 0.9263 - loss: 0.1922 - val_accuracy: 0.9222 - val_loss: 0.2235\n",
      "Epoch 41/50\n",
      "\u001b[1m375/375\u001b[0m \u001b[32m━━━━━━━━━━━━━━━━━━━━\u001b[0m\u001b[37m\u001b[0m \u001b[1m18s\u001b[0m 47ms/step - accuracy: 0.9258 - loss: 0.1983 - val_accuracy: 0.9222 - val_loss: 0.2174\n",
      "Epoch 42/50\n",
      "\u001b[1m375/375\u001b[0m \u001b[32m━━━━━━━━━━━━━━━━━━━━\u001b[0m\u001b[37m\u001b[0m \u001b[1m18s\u001b[0m 47ms/step - accuracy: 0.9254 - loss: 0.1971 - val_accuracy: 0.9193 - val_loss: 0.2320\n",
      "Epoch 43/50\n",
      "\u001b[1m375/375\u001b[0m \u001b[32m━━━━━━━━━━━━━━━━━━━━\u001b[0m\u001b[37m\u001b[0m \u001b[1m18s\u001b[0m 47ms/step - accuracy: 0.9244 - loss: 0.1965 - val_accuracy: 0.9223 - val_loss: 0.2224\n",
      "Epoch 44/50\n",
      "\u001b[1m375/375\u001b[0m \u001b[32m━━━━━━━━━━━━━━━━━━━━\u001b[0m\u001b[37m\u001b[0m \u001b[1m18s\u001b[0m 47ms/step - accuracy: 0.9266 - loss: 0.1897 - val_accuracy: 0.9238 - val_loss: 0.2197\n",
      "Epoch 45/50\n",
      "\u001b[1m375/375\u001b[0m \u001b[32m━━━━━━━━━━━━━━━━━━━━\u001b[0m\u001b[37m\u001b[0m \u001b[1m17s\u001b[0m 46ms/step - accuracy: 0.9270 - loss: 0.1913 - val_accuracy: 0.9212 - val_loss: 0.2233\n",
      "Epoch 46/50\n",
      "\u001b[1m375/375\u001b[0m \u001b[32m━━━━━━━━━━━━━━━━━━━━\u001b[0m\u001b[37m\u001b[0m \u001b[1m17s\u001b[0m 45ms/step - accuracy: 0.9277 - loss: 0.1912 - val_accuracy: 0.9214 - val_loss: 0.2238\n",
      "Epoch 47/50\n",
      "\u001b[1m375/375\u001b[0m \u001b[32m━━━━━━━━━━━━━━━━━━━━\u001b[0m\u001b[37m\u001b[0m \u001b[1m18s\u001b[0m 48ms/step - accuracy: 0.9280 - loss: 0.1923 - val_accuracy: 0.9209 - val_loss: 0.2198\n",
      "Epoch 48/50\n",
      "\u001b[1m375/375\u001b[0m \u001b[32m━━━━━━━━━━━━━━━━━━━━\u001b[0m\u001b[37m\u001b[0m \u001b[1m17s\u001b[0m 45ms/step - accuracy: 0.9274 - loss: 0.1903 - val_accuracy: 0.9229 - val_loss: 0.2189\n",
      "Epoch 49/50\n",
      "\u001b[1m375/375\u001b[0m \u001b[32m━━━━━━━━━━━━━━━━━━━━\u001b[0m\u001b[37m\u001b[0m \u001b[1m18s\u001b[0m 47ms/step - accuracy: 0.9289 - loss: 0.1838 - val_accuracy: 0.9237 - val_loss: 0.2182\n",
      "Epoch 50/50\n",
      "\u001b[1m375/375\u001b[0m \u001b[32m━━━━━━━━━━━━━━━━━━━━\u001b[0m\u001b[37m\u001b[0m \u001b[1m17s\u001b[0m 45ms/step - accuracy: 0.9287 - loss: 0.1855 - val_accuracy: 0.9226 - val_loss: 0.2207\n"
     ]
    }
   ],
   "source": [
    "train_model = model.fit(X_train, y_train,\n",
    "                  batch_size=BATCH_SIZE,\n",
    "                  epochs=NO_EPOCHS,\n",
    "                  verbose=1,\n",
    "                  validation_data=(X_val, y_val))"
   ]
  },
  {
   "cell_type": "markdown",
   "id": "9e7996fa",
   "metadata": {},
   "source": [
    "### Plotting the Accuracy and Loss of Train and Validation Datasets of the optimized Model"
   ]
  },
  {
   "cell_type": "code",
   "execution_count": 29,
   "id": "283dd96f",
   "metadata": {},
   "outputs": [
    {
     "name": "stderr",
     "output_type": "stream",
     "text": [
      "c:\\Users\\Swarnadwip_Sarkar\\anaconda3\\envs\\ML\\lib\\site-packages\\plotly\\tools.py:453: DeprecationWarning:\n",
      "\n",
      "plotly.tools.make_subplots is deprecated, please use plotly.subplots.make_subplots instead\n",
      "\n"
     ]
    },
    {
     "data": {
      "application/vnd.plotly.v1+json": {
       "config": {
        "linkText": "Export to plot.ly",
        "plotlyServerURL": "https://plot.ly",
        "showLink": false
       },
       "data": [
        {
         "marker": {
          "color": "Green"
         },
         "mode": "markers+lines",
         "name": "Training accuracy",
         "text": [
          "1",
          "2",
          "3",
          "4",
          "5",
          "6",
          "7",
          "8",
          "9",
          "10",
          "11",
          "12",
          "13",
          "14",
          "15",
          "16",
          "17",
          "18",
          "19",
          "20",
          "21",
          "22",
          "23",
          "24",
          "25",
          "26",
          "27",
          "28",
          "29",
          "30",
          "31",
          "32",
          "33",
          "34",
          "35",
          "36",
          "37",
          "38",
          "39",
          "40",
          "41",
          "42",
          "43",
          "44",
          "45",
          "46",
          "47",
          "48",
          "49",
          "50"
         ],
         "type": "scatter",
         "x": [
          1,
          2,
          3,
          4,
          5,
          6,
          7,
          8,
          9,
          10,
          11,
          12,
          13,
          14,
          15,
          16,
          17,
          18,
          19,
          20,
          21,
          22,
          23,
          24,
          25,
          26,
          27,
          28,
          29,
          30,
          31,
          32,
          33,
          34,
          35,
          36,
          37,
          38,
          39,
          40,
          41,
          42,
          43,
          44,
          45,
          46,
          47,
          48,
          49,
          50
         ],
         "xaxis": "x",
         "y": [
          0.7280416488647461,
          0.8275625109672546,
          0.8515416383743286,
          0.8664791584014893,
          0.8745833039283752,
          0.8820416927337646,
          0.8882291913032532,
          0.8923749923706055,
          0.8932499885559082,
          0.8958125114440918,
          0.8991249799728394,
          0.9005625247955322,
          0.903041660785675,
          0.9039999842643738,
          0.90645831823349,
          0.9051874876022339,
          0.9089791774749756,
          0.9101874828338623,
          0.9101874828338623,
          0.9123958349227905,
          0.913770854473114,
          0.9138333201408386,
          0.9158750176429749,
          0.9161458611488342,
          0.9167291522026062,
          0.9167291522026062,
          0.9163958430290222,
          0.917104184627533,
          0.9173750281333923,
          0.9208958148956299,
          0.9205416440963745,
          0.9211666584014893,
          0.92208331823349,
          0.9219791889190674,
          0.922249972820282,
          0.922041654586792,
          0.921541690826416,
          0.9248124957084656,
          0.924875020980835,
          0.9263333082199097,
          0.9257500171661377,
          0.9253749847412109,
          0.9243958592414856,
          0.9266250133514404,
          0.9269791841506958,
          0.9277083277702332,
          0.9280416369438171,
          0.9274374842643738,
          0.9289166927337646,
          0.9286875128746033
         ],
         "yaxis": "y"
        },
        {
         "marker": {
          "color": "Red"
         },
         "mode": "markers+lines",
         "name": "Validation accuracy",
         "text": [
          "1",
          "2",
          "3",
          "4",
          "5",
          "6",
          "7",
          "8",
          "9",
          "10",
          "11",
          "12",
          "13",
          "14",
          "15",
          "16",
          "17",
          "18",
          "19",
          "20",
          "21",
          "22",
          "23",
          "24",
          "25",
          "26",
          "27",
          "28",
          "29",
          "30",
          "31",
          "32",
          "33",
          "34",
          "35",
          "36",
          "37",
          "38",
          "39",
          "40",
          "41",
          "42",
          "43",
          "44",
          "45",
          "46",
          "47",
          "48",
          "49",
          "50"
         ],
         "type": "scatter",
         "x": [
          1,
          2,
          3,
          4,
          5,
          6,
          7,
          8,
          9,
          10,
          11,
          12,
          13,
          14,
          15,
          16,
          17,
          18,
          19,
          20,
          21,
          22,
          23,
          24,
          25,
          26,
          27,
          28,
          29,
          30,
          31,
          32,
          33,
          34,
          35,
          36,
          37,
          38,
          39,
          40,
          41,
          42,
          43,
          44,
          45,
          46,
          47,
          48,
          49,
          50
         ],
         "xaxis": "x",
         "y": [
          0.8360000252723694,
          0.8672500252723694,
          0.8864166736602783,
          0.8922500014305115,
          0.8927500247955322,
          0.9004166722297668,
          0.9049166440963745,
          0.9066666960716248,
          0.9100000262260437,
          0.9085833430290222,
          0.9117500185966492,
          0.9139999747276306,
          0.909583330154419,
          0.9134166836738586,
          0.9135833382606506,
          0.9159166812896729,
          0.9155833125114441,
          0.9137499928474426,
          0.9165833592414856,
          0.9182500243186951,
          0.918666660785675,
          0.9197499752044678,
          0.9194166660308838,
          0.918666660785675,
          0.921833336353302,
          0.918916642665863,
          0.9172499775886536,
          0.9212499856948853,
          0.9211666584014893,
          0.9175833463668823,
          0.9197499752044678,
          0.9209166765213013,
          0.9233333468437195,
          0.9204999804496765,
          0.9193333387374878,
          0.9229166507720947,
          0.918749988079071,
          0.9254999756813049,
          0.922249972820282,
          0.922166645526886,
          0.922249972820282,
          0.9192500114440918,
          0.9223333597183228,
          0.9238333106040955,
          0.9211666584014893,
          0.9214166402816772,
          0.9209166765213013,
          0.9229166507720947,
          0.9237499833106995,
          0.9225833415985107
         ],
         "yaxis": "y"
        },
        {
         "marker": {
          "color": "Blue"
         },
         "mode": "markers+lines",
         "name": "Training loss",
         "text": [
          "1",
          "2",
          "3",
          "4",
          "5",
          "6",
          "7",
          "8",
          "9",
          "10",
          "11",
          "12",
          "13",
          "14",
          "15",
          "16",
          "17",
          "18",
          "19",
          "20",
          "21",
          "22",
          "23",
          "24",
          "25",
          "26",
          "27",
          "28",
          "29",
          "30",
          "31",
          "32",
          "33",
          "34",
          "35",
          "36",
          "37",
          "38",
          "39",
          "40",
          "41",
          "42",
          "43",
          "44",
          "45",
          "46",
          "47",
          "48",
          "49",
          "50"
         ],
         "type": "scatter",
         "x": [
          1,
          2,
          3,
          4,
          5,
          6,
          7,
          8,
          9,
          10,
          11,
          12,
          13,
          14,
          15,
          16,
          17,
          18,
          19,
          20,
          21,
          22,
          23,
          24,
          25,
          26,
          27,
          28,
          29,
          30,
          31,
          32,
          33,
          34,
          35,
          36,
          37,
          38,
          39,
          40,
          41,
          42,
          43,
          44,
          45,
          46,
          47,
          48,
          49,
          50
         ],
         "xaxis": "x2",
         "y": [
          0.730198323726654,
          0.4670204222202301,
          0.4042178690433502,
          0.3650906980037689,
          0.3394416570663452,
          0.3226163387298584,
          0.30833274126052856,
          0.2965386211872101,
          0.28969839215278625,
          0.2808387279510498,
          0.27291396260261536,
          0.26942119002342224,
          0.26328346133232117,
          0.2577470541000366,
          0.2512419521808624,
          0.250453382730484,
          0.24305607378482819,
          0.23957258462905884,
          0.23810815811157227,
          0.23428617417812347,
          0.23230741918087006,
          0.22748281061649323,
          0.22275733947753906,
          0.22311946749687195,
          0.22529439628124237,
          0.21784710884094238,
          0.2175959050655365,
          0.21695008873939514,
          0.2155935913324356,
          0.20842882990837097,
          0.21110956370830536,
          0.20968960225582123,
          0.20779451727867126,
          0.20585854351520538,
          0.20250549912452698,
          0.202062726020813,
          0.20443810522556305,
          0.19862887263298035,
          0.19742505252361298,
          0.1922289878129959,
          0.19827909767627716,
          0.19706813991069794,
          0.19646742939949036,
          0.18973703682422638,
          0.19129742681980133,
          0.19123610854148865,
          0.1922880858182907,
          0.19026954472064972,
          0.18381211161613464,
          0.18551082909107208
         ],
         "yaxis": "y2"
        },
        {
         "marker": {
          "color": "Magenta"
         },
         "mode": "markers+lines",
         "name": "Validation loss",
         "text": [
          "1",
          "2",
          "3",
          "4",
          "5",
          "6",
          "7",
          "8",
          "9",
          "10",
          "11",
          "12",
          "13",
          "14",
          "15",
          "16",
          "17",
          "18",
          "19",
          "20",
          "21",
          "22",
          "23",
          "24",
          "25",
          "26",
          "27",
          "28",
          "29",
          "30",
          "31",
          "32",
          "33",
          "34",
          "35",
          "36",
          "37",
          "38",
          "39",
          "40",
          "41",
          "42",
          "43",
          "44",
          "45",
          "46",
          "47",
          "48",
          "49",
          "50"
         ],
         "type": "scatter",
         "x": [
          1,
          2,
          3,
          4,
          5,
          6,
          7,
          8,
          9,
          10,
          11,
          12,
          13,
          14,
          15,
          16,
          17,
          18,
          19,
          20,
          21,
          22,
          23,
          24,
          25,
          26,
          27,
          28,
          29,
          30,
          31,
          32,
          33,
          34,
          35,
          36,
          37,
          38,
          39,
          40,
          41,
          42,
          43,
          44,
          45,
          46,
          47,
          48,
          49,
          50
         ],
         "xaxis": "x2",
         "y": [
          0.4465835690498352,
          0.35569462180137634,
          0.3171764016151428,
          0.3066779673099518,
          0.2908004820346832,
          0.2685677409172058,
          0.2632472813129425,
          0.25952863693237305,
          0.24996910989284515,
          0.2554522752761841,
          0.24595189094543457,
          0.24305759370326996,
          0.2454289197921753,
          0.2387954443693161,
          0.23657482862472534,
          0.23565690219402313,
          0.23257771134376526,
          0.23492030799388885,
          0.23009423911571503,
          0.22946858406066895,
          0.23193593323230743,
          0.22836901247501373,
          0.22475457191467285,
          0.22581157088279724,
          0.22287583351135254,
          0.22709490358829498,
          0.2287560999393463,
          0.21983622014522552,
          0.21952462196350098,
          0.22977374494075775,
          0.2250177562236786,
          0.22363203763961792,
          0.21943281590938568,
          0.22627146542072296,
          0.22425559163093567,
          0.2228562980890274,
          0.22592873871326447,
          0.21618682146072388,
          0.2183900624513626,
          0.22351568937301636,
          0.21741902828216553,
          0.23196004331111908,
          0.2223881036043167,
          0.2197297364473343,
          0.22329917550086975,
          0.22379089891910553,
          0.21979205310344696,
          0.21894103288650513,
          0.21818575263023376,
          0.22066527605056763
         ],
         "yaxis": "y2"
        }
       ],
       "layout": {
        "annotations": [
         {
          "font": {
           "size": 16
          },
          "showarrow": false,
          "text": "Training and validation accuracy",
          "x": 0.225,
          "xanchor": "center",
          "xref": "paper",
          "y": 1,
          "yanchor": "bottom",
          "yref": "paper"
         },
         {
          "font": {
           "size": 16
          },
          "showarrow": false,
          "text": "Training and validation loss",
          "x": 0.775,
          "xanchor": "center",
          "xref": "paper",
          "y": 1,
          "yanchor": "bottom",
          "yref": "paper"
         }
        ],
        "template": {
         "data": {
          "bar": [
           {
            "error_x": {
             "color": "#2a3f5f"
            },
            "error_y": {
             "color": "#2a3f5f"
            },
            "marker": {
             "line": {
              "color": "#E5ECF6",
              "width": 0.5
             },
             "pattern": {
              "fillmode": "overlay",
              "size": 10,
              "solidity": 0.2
             }
            },
            "type": "bar"
           }
          ],
          "barpolar": [
           {
            "marker": {
             "line": {
              "color": "#E5ECF6",
              "width": 0.5
             },
             "pattern": {
              "fillmode": "overlay",
              "size": 10,
              "solidity": 0.2
             }
            },
            "type": "barpolar"
           }
          ],
          "carpet": [
           {
            "aaxis": {
             "endlinecolor": "#2a3f5f",
             "gridcolor": "white",
             "linecolor": "white",
             "minorgridcolor": "white",
             "startlinecolor": "#2a3f5f"
            },
            "baxis": {
             "endlinecolor": "#2a3f5f",
             "gridcolor": "white",
             "linecolor": "white",
             "minorgridcolor": "white",
             "startlinecolor": "#2a3f5f"
            },
            "type": "carpet"
           }
          ],
          "choropleth": [
           {
            "colorbar": {
             "outlinewidth": 0,
             "ticks": ""
            },
            "type": "choropleth"
           }
          ],
          "contour": [
           {
            "colorbar": {
             "outlinewidth": 0,
             "ticks": ""
            },
            "colorscale": [
             [
              0,
              "#0d0887"
             ],
             [
              0.1111111111111111,
              "#46039f"
             ],
             [
              0.2222222222222222,
              "#7201a8"
             ],
             [
              0.3333333333333333,
              "#9c179e"
             ],
             [
              0.4444444444444444,
              "#bd3786"
             ],
             [
              0.5555555555555556,
              "#d8576b"
             ],
             [
              0.6666666666666666,
              "#ed7953"
             ],
             [
              0.7777777777777778,
              "#fb9f3a"
             ],
             [
              0.8888888888888888,
              "#fdca26"
             ],
             [
              1,
              "#f0f921"
             ]
            ],
            "type": "contour"
           }
          ],
          "contourcarpet": [
           {
            "colorbar": {
             "outlinewidth": 0,
             "ticks": ""
            },
            "type": "contourcarpet"
           }
          ],
          "heatmap": [
           {
            "colorbar": {
             "outlinewidth": 0,
             "ticks": ""
            },
            "colorscale": [
             [
              0,
              "#0d0887"
             ],
             [
              0.1111111111111111,
              "#46039f"
             ],
             [
              0.2222222222222222,
              "#7201a8"
             ],
             [
              0.3333333333333333,
              "#9c179e"
             ],
             [
              0.4444444444444444,
              "#bd3786"
             ],
             [
              0.5555555555555556,
              "#d8576b"
             ],
             [
              0.6666666666666666,
              "#ed7953"
             ],
             [
              0.7777777777777778,
              "#fb9f3a"
             ],
             [
              0.8888888888888888,
              "#fdca26"
             ],
             [
              1,
              "#f0f921"
             ]
            ],
            "type": "heatmap"
           }
          ],
          "histogram": [
           {
            "marker": {
             "pattern": {
              "fillmode": "overlay",
              "size": 10,
              "solidity": 0.2
             }
            },
            "type": "histogram"
           }
          ],
          "histogram2d": [
           {
            "colorbar": {
             "outlinewidth": 0,
             "ticks": ""
            },
            "colorscale": [
             [
              0,
              "#0d0887"
             ],
             [
              0.1111111111111111,
              "#46039f"
             ],
             [
              0.2222222222222222,
              "#7201a8"
             ],
             [
              0.3333333333333333,
              "#9c179e"
             ],
             [
              0.4444444444444444,
              "#bd3786"
             ],
             [
              0.5555555555555556,
              "#d8576b"
             ],
             [
              0.6666666666666666,
              "#ed7953"
             ],
             [
              0.7777777777777778,
              "#fb9f3a"
             ],
             [
              0.8888888888888888,
              "#fdca26"
             ],
             [
              1,
              "#f0f921"
             ]
            ],
            "type": "histogram2d"
           }
          ],
          "histogram2dcontour": [
           {
            "colorbar": {
             "outlinewidth": 0,
             "ticks": ""
            },
            "colorscale": [
             [
              0,
              "#0d0887"
             ],
             [
              0.1111111111111111,
              "#46039f"
             ],
             [
              0.2222222222222222,
              "#7201a8"
             ],
             [
              0.3333333333333333,
              "#9c179e"
             ],
             [
              0.4444444444444444,
              "#bd3786"
             ],
             [
              0.5555555555555556,
              "#d8576b"
             ],
             [
              0.6666666666666666,
              "#ed7953"
             ],
             [
              0.7777777777777778,
              "#fb9f3a"
             ],
             [
              0.8888888888888888,
              "#fdca26"
             ],
             [
              1,
              "#f0f921"
             ]
            ],
            "type": "histogram2dcontour"
           }
          ],
          "mesh3d": [
           {
            "colorbar": {
             "outlinewidth": 0,
             "ticks": ""
            },
            "type": "mesh3d"
           }
          ],
          "parcoords": [
           {
            "line": {
             "colorbar": {
              "outlinewidth": 0,
              "ticks": ""
             }
            },
            "type": "parcoords"
           }
          ],
          "pie": [
           {
            "automargin": true,
            "type": "pie"
           }
          ],
          "scatter": [
           {
            "fillpattern": {
             "fillmode": "overlay",
             "size": 10,
             "solidity": 0.2
            },
            "type": "scatter"
           }
          ],
          "scatter3d": [
           {
            "line": {
             "colorbar": {
              "outlinewidth": 0,
              "ticks": ""
             }
            },
            "marker": {
             "colorbar": {
              "outlinewidth": 0,
              "ticks": ""
             }
            },
            "type": "scatter3d"
           }
          ],
          "scattercarpet": [
           {
            "marker": {
             "colorbar": {
              "outlinewidth": 0,
              "ticks": ""
             }
            },
            "type": "scattercarpet"
           }
          ],
          "scattergeo": [
           {
            "marker": {
             "colorbar": {
              "outlinewidth": 0,
              "ticks": ""
             }
            },
            "type": "scattergeo"
           }
          ],
          "scattergl": [
           {
            "marker": {
             "colorbar": {
              "outlinewidth": 0,
              "ticks": ""
             }
            },
            "type": "scattergl"
           }
          ],
          "scattermap": [
           {
            "marker": {
             "colorbar": {
              "outlinewidth": 0,
              "ticks": ""
             }
            },
            "type": "scattermap"
           }
          ],
          "scattermapbox": [
           {
            "marker": {
             "colorbar": {
              "outlinewidth": 0,
              "ticks": ""
             }
            },
            "type": "scattermapbox"
           }
          ],
          "scatterpolar": [
           {
            "marker": {
             "colorbar": {
              "outlinewidth": 0,
              "ticks": ""
             }
            },
            "type": "scatterpolar"
           }
          ],
          "scatterpolargl": [
           {
            "marker": {
             "colorbar": {
              "outlinewidth": 0,
              "ticks": ""
             }
            },
            "type": "scatterpolargl"
           }
          ],
          "scatterternary": [
           {
            "marker": {
             "colorbar": {
              "outlinewidth": 0,
              "ticks": ""
             }
            },
            "type": "scatterternary"
           }
          ],
          "surface": [
           {
            "colorbar": {
             "outlinewidth": 0,
             "ticks": ""
            },
            "colorscale": [
             [
              0,
              "#0d0887"
             ],
             [
              0.1111111111111111,
              "#46039f"
             ],
             [
              0.2222222222222222,
              "#7201a8"
             ],
             [
              0.3333333333333333,
              "#9c179e"
             ],
             [
              0.4444444444444444,
              "#bd3786"
             ],
             [
              0.5555555555555556,
              "#d8576b"
             ],
             [
              0.6666666666666666,
              "#ed7953"
             ],
             [
              0.7777777777777778,
              "#fb9f3a"
             ],
             [
              0.8888888888888888,
              "#fdca26"
             ],
             [
              1,
              "#f0f921"
             ]
            ],
            "type": "surface"
           }
          ],
          "table": [
           {
            "cells": {
             "fill": {
              "color": "#EBF0F8"
             },
             "line": {
              "color": "white"
             }
            },
            "header": {
             "fill": {
              "color": "#C8D4E3"
             },
             "line": {
              "color": "white"
             }
            },
            "type": "table"
           }
          ]
         },
         "layout": {
          "annotationdefaults": {
           "arrowcolor": "#2a3f5f",
           "arrowhead": 0,
           "arrowwidth": 1
          },
          "autotypenumbers": "strict",
          "coloraxis": {
           "colorbar": {
            "outlinewidth": 0,
            "ticks": ""
           }
          },
          "colorscale": {
           "diverging": [
            [
             0,
             "#8e0152"
            ],
            [
             0.1,
             "#c51b7d"
            ],
            [
             0.2,
             "#de77ae"
            ],
            [
             0.3,
             "#f1b6da"
            ],
            [
             0.4,
             "#fde0ef"
            ],
            [
             0.5,
             "#f7f7f7"
            ],
            [
             0.6,
             "#e6f5d0"
            ],
            [
             0.7,
             "#b8e186"
            ],
            [
             0.8,
             "#7fbc41"
            ],
            [
             0.9,
             "#4d9221"
            ],
            [
             1,
             "#276419"
            ]
           ],
           "sequential": [
            [
             0,
             "#0d0887"
            ],
            [
             0.1111111111111111,
             "#46039f"
            ],
            [
             0.2222222222222222,
             "#7201a8"
            ],
            [
             0.3333333333333333,
             "#9c179e"
            ],
            [
             0.4444444444444444,
             "#bd3786"
            ],
            [
             0.5555555555555556,
             "#d8576b"
            ],
            [
             0.6666666666666666,
             "#ed7953"
            ],
            [
             0.7777777777777778,
             "#fb9f3a"
            ],
            [
             0.8888888888888888,
             "#fdca26"
            ],
            [
             1,
             "#f0f921"
            ]
           ],
           "sequentialminus": [
            [
             0,
             "#0d0887"
            ],
            [
             0.1111111111111111,
             "#46039f"
            ],
            [
             0.2222222222222222,
             "#7201a8"
            ],
            [
             0.3333333333333333,
             "#9c179e"
            ],
            [
             0.4444444444444444,
             "#bd3786"
            ],
            [
             0.5555555555555556,
             "#d8576b"
            ],
            [
             0.6666666666666666,
             "#ed7953"
            ],
            [
             0.7777777777777778,
             "#fb9f3a"
            ],
            [
             0.8888888888888888,
             "#fdca26"
            ],
            [
             1,
             "#f0f921"
            ]
           ]
          },
          "colorway": [
           "#636efa",
           "#EF553B",
           "#00cc96",
           "#ab63fa",
           "#FFA15A",
           "#19d3f3",
           "#FF6692",
           "#B6E880",
           "#FF97FF",
           "#FECB52"
          ],
          "font": {
           "color": "#2a3f5f"
          },
          "geo": {
           "bgcolor": "white",
           "lakecolor": "white",
           "landcolor": "#E5ECF6",
           "showlakes": true,
           "showland": true,
           "subunitcolor": "white"
          },
          "hoverlabel": {
           "align": "left"
          },
          "hovermode": "closest",
          "mapbox": {
           "style": "light"
          },
          "paper_bgcolor": "white",
          "plot_bgcolor": "#E5ECF6",
          "polar": {
           "angularaxis": {
            "gridcolor": "white",
            "linecolor": "white",
            "ticks": ""
           },
           "bgcolor": "#E5ECF6",
           "radialaxis": {
            "gridcolor": "white",
            "linecolor": "white",
            "ticks": ""
           }
          },
          "scene": {
           "xaxis": {
            "backgroundcolor": "#E5ECF6",
            "gridcolor": "white",
            "gridwidth": 2,
            "linecolor": "white",
            "showbackground": true,
            "ticks": "",
            "zerolinecolor": "white"
           },
           "yaxis": {
            "backgroundcolor": "#E5ECF6",
            "gridcolor": "white",
            "gridwidth": 2,
            "linecolor": "white",
            "showbackground": true,
            "ticks": "",
            "zerolinecolor": "white"
           },
           "zaxis": {
            "backgroundcolor": "#E5ECF6",
            "gridcolor": "white",
            "gridwidth": 2,
            "linecolor": "white",
            "showbackground": true,
            "ticks": "",
            "zerolinecolor": "white"
           }
          },
          "shapedefaults": {
           "line": {
            "color": "#2a3f5f"
           }
          },
          "ternary": {
           "aaxis": {
            "gridcolor": "white",
            "linecolor": "white",
            "ticks": ""
           },
           "baxis": {
            "gridcolor": "white",
            "linecolor": "white",
            "ticks": ""
           },
           "bgcolor": "#E5ECF6",
           "caxis": {
            "gridcolor": "white",
            "linecolor": "white",
            "ticks": ""
           }
          },
          "title": {
           "x": 0.05
          },
          "xaxis": {
           "automargin": true,
           "gridcolor": "white",
           "linecolor": "white",
           "ticks": "",
           "title": {
            "standoff": 15
           },
           "zerolinecolor": "white",
           "zerolinewidth": 2
          },
          "yaxis": {
           "automargin": true,
           "gridcolor": "white",
           "linecolor": "white",
           "ticks": "",
           "title": {
            "standoff": 15
           },
           "zerolinecolor": "white",
           "zerolinewidth": 2
          }
         }
        },
        "xaxis": {
         "anchor": "y",
         "domain": [
          0,
          0.45
         ],
         "title": {
          "text": "Epoch"
         }
        },
        "xaxis2": {
         "anchor": "y2",
         "domain": [
          0.55,
          1
         ],
         "title": {
          "text": "Epoch"
         }
        },
        "yaxis": {
         "anchor": "x",
         "domain": [
          0,
          1
         ],
         "range": [
          0,
          1
         ],
         "title": {
          "text": "Accuracy"
         }
        },
        "yaxis2": {
         "anchor": "x2",
         "domain": [
          0,
          1
         ],
         "range": [
          0,
          1
         ],
         "title": {
          "text": "Loss"
         }
        }
       }
      },
      "text/html": [
       "<div>            <script src=\"https://cdnjs.cloudflare.com/ajax/libs/mathjax/2.7.5/MathJax.js?config=TeX-AMS-MML_SVG\"></script><script type=\"text/javascript\">if (window.MathJax && window.MathJax.Hub && window.MathJax.Hub.Config) {window.MathJax.Hub.Config({SVG: {font: \"STIX-Web\"}});}</script>                <script type=\"text/javascript\">window.PlotlyConfig = {MathJaxConfig: 'local'};</script>\n",
       "        <script charset=\"utf-8\" src=\"https://cdn.plot.ly/plotly-3.1.1.min.js\" integrity=\"sha256-HUEFyfiTnZJxCxur99FjbKYTvKSzwDaD3/x5TqHpFu4=\" crossorigin=\"anonymous\"></script>                <div id=\"36db6c2b-7764-4cdd-a15c-39679c99a45b\" class=\"plotly-graph-div\" style=\"height:525px; width:100%;\"></div>            <script type=\"text/javascript\">                window.PLOTLYENV=window.PLOTLYENV || {};                                if (document.getElementById(\"36db6c2b-7764-4cdd-a15c-39679c99a45b\")) {                    Plotly.newPlot(                        \"36db6c2b-7764-4cdd-a15c-39679c99a45b\",                        [{\"marker\":{\"color\":\"Green\"},\"mode\":\"markers+lines\",\"name\":\"Training accuracy\",\"text\":[\"1\",\"2\",\"3\",\"4\",\"5\",\"6\",\"7\",\"8\",\"9\",\"10\",\"11\",\"12\",\"13\",\"14\",\"15\",\"16\",\"17\",\"18\",\"19\",\"20\",\"21\",\"22\",\"23\",\"24\",\"25\",\"26\",\"27\",\"28\",\"29\",\"30\",\"31\",\"32\",\"33\",\"34\",\"35\",\"36\",\"37\",\"38\",\"39\",\"40\",\"41\",\"42\",\"43\",\"44\",\"45\",\"46\",\"47\",\"48\",\"49\",\"50\"],\"x\":[1,2,3,4,5,6,7,8,9,10,11,12,13,14,15,16,17,18,19,20,21,22,23,24,25,26,27,28,29,30,31,32,33,34,35,36,37,38,39,40,41,42,43,44,45,46,47,48,49,50],\"xaxis\":\"x\",\"y\":[0.7280416488647461,0.8275625109672546,0.8515416383743286,0.8664791584014893,0.8745833039283752,0.8820416927337646,0.8882291913032532,0.8923749923706055,0.8932499885559082,0.8958125114440918,0.8991249799728394,0.9005625247955322,0.903041660785675,0.9039999842643738,0.90645831823349,0.9051874876022339,0.9089791774749756,0.9101874828338623,0.9101874828338623,0.9123958349227905,0.913770854473114,0.9138333201408386,0.9158750176429749,0.9161458611488342,0.9167291522026062,0.9167291522026062,0.9163958430290222,0.917104184627533,0.9173750281333923,0.9208958148956299,0.9205416440963745,0.9211666584014893,0.92208331823349,0.9219791889190674,0.922249972820282,0.922041654586792,0.921541690826416,0.9248124957084656,0.924875020980835,0.9263333082199097,0.9257500171661377,0.9253749847412109,0.9243958592414856,0.9266250133514404,0.9269791841506958,0.9277083277702332,0.9280416369438171,0.9274374842643738,0.9289166927337646,0.9286875128746033],\"yaxis\":\"y\",\"type\":\"scatter\"},{\"marker\":{\"color\":\"Red\"},\"mode\":\"markers+lines\",\"name\":\"Validation accuracy\",\"text\":[\"1\",\"2\",\"3\",\"4\",\"5\",\"6\",\"7\",\"8\",\"9\",\"10\",\"11\",\"12\",\"13\",\"14\",\"15\",\"16\",\"17\",\"18\",\"19\",\"20\",\"21\",\"22\",\"23\",\"24\",\"25\",\"26\",\"27\",\"28\",\"29\",\"30\",\"31\",\"32\",\"33\",\"34\",\"35\",\"36\",\"37\",\"38\",\"39\",\"40\",\"41\",\"42\",\"43\",\"44\",\"45\",\"46\",\"47\",\"48\",\"49\",\"50\"],\"x\":[1,2,3,4,5,6,7,8,9,10,11,12,13,14,15,16,17,18,19,20,21,22,23,24,25,26,27,28,29,30,31,32,33,34,35,36,37,38,39,40,41,42,43,44,45,46,47,48,49,50],\"xaxis\":\"x\",\"y\":[0.8360000252723694,0.8672500252723694,0.8864166736602783,0.8922500014305115,0.8927500247955322,0.9004166722297668,0.9049166440963745,0.9066666960716248,0.9100000262260437,0.9085833430290222,0.9117500185966492,0.9139999747276306,0.909583330154419,0.9134166836738586,0.9135833382606506,0.9159166812896729,0.9155833125114441,0.9137499928474426,0.9165833592414856,0.9182500243186951,0.918666660785675,0.9197499752044678,0.9194166660308838,0.918666660785675,0.921833336353302,0.918916642665863,0.9172499775886536,0.9212499856948853,0.9211666584014893,0.9175833463668823,0.9197499752044678,0.9209166765213013,0.9233333468437195,0.9204999804496765,0.9193333387374878,0.9229166507720947,0.918749988079071,0.9254999756813049,0.922249972820282,0.922166645526886,0.922249972820282,0.9192500114440918,0.9223333597183228,0.9238333106040955,0.9211666584014893,0.9214166402816772,0.9209166765213013,0.9229166507720947,0.9237499833106995,0.9225833415985107],\"yaxis\":\"y\",\"type\":\"scatter\"},{\"marker\":{\"color\":\"Blue\"},\"mode\":\"markers+lines\",\"name\":\"Training loss\",\"text\":[\"1\",\"2\",\"3\",\"4\",\"5\",\"6\",\"7\",\"8\",\"9\",\"10\",\"11\",\"12\",\"13\",\"14\",\"15\",\"16\",\"17\",\"18\",\"19\",\"20\",\"21\",\"22\",\"23\",\"24\",\"25\",\"26\",\"27\",\"28\",\"29\",\"30\",\"31\",\"32\",\"33\",\"34\",\"35\",\"36\",\"37\",\"38\",\"39\",\"40\",\"41\",\"42\",\"43\",\"44\",\"45\",\"46\",\"47\",\"48\",\"49\",\"50\"],\"x\":[1,2,3,4,5,6,7,8,9,10,11,12,13,14,15,16,17,18,19,20,21,22,23,24,25,26,27,28,29,30,31,32,33,34,35,36,37,38,39,40,41,42,43,44,45,46,47,48,49,50],\"xaxis\":\"x2\",\"y\":[0.730198323726654,0.4670204222202301,0.4042178690433502,0.3650906980037689,0.3394416570663452,0.3226163387298584,0.30833274126052856,0.2965386211872101,0.28969839215278625,0.2808387279510498,0.27291396260261536,0.26942119002342224,0.26328346133232117,0.2577470541000366,0.2512419521808624,0.250453382730484,0.24305607378482819,0.23957258462905884,0.23810815811157227,0.23428617417812347,0.23230741918087006,0.22748281061649323,0.22275733947753906,0.22311946749687195,0.22529439628124237,0.21784710884094238,0.2175959050655365,0.21695008873939514,0.2155935913324356,0.20842882990837097,0.21110956370830536,0.20968960225582123,0.20779451727867126,0.20585854351520538,0.20250549912452698,0.202062726020813,0.20443810522556305,0.19862887263298035,0.19742505252361298,0.1922289878129959,0.19827909767627716,0.19706813991069794,0.19646742939949036,0.18973703682422638,0.19129742681980133,0.19123610854148865,0.1922880858182907,0.19026954472064972,0.18381211161613464,0.18551082909107208],\"yaxis\":\"y2\",\"type\":\"scatter\"},{\"marker\":{\"color\":\"Magenta\"},\"mode\":\"markers+lines\",\"name\":\"Validation loss\",\"text\":[\"1\",\"2\",\"3\",\"4\",\"5\",\"6\",\"7\",\"8\",\"9\",\"10\",\"11\",\"12\",\"13\",\"14\",\"15\",\"16\",\"17\",\"18\",\"19\",\"20\",\"21\",\"22\",\"23\",\"24\",\"25\",\"26\",\"27\",\"28\",\"29\",\"30\",\"31\",\"32\",\"33\",\"34\",\"35\",\"36\",\"37\",\"38\",\"39\",\"40\",\"41\",\"42\",\"43\",\"44\",\"45\",\"46\",\"47\",\"48\",\"49\",\"50\"],\"x\":[1,2,3,4,5,6,7,8,9,10,11,12,13,14,15,16,17,18,19,20,21,22,23,24,25,26,27,28,29,30,31,32,33,34,35,36,37,38,39,40,41,42,43,44,45,46,47,48,49,50],\"xaxis\":\"x2\",\"y\":[0.4465835690498352,0.35569462180137634,0.3171764016151428,0.3066779673099518,0.2908004820346832,0.2685677409172058,0.2632472813129425,0.25952863693237305,0.24996910989284515,0.2554522752761841,0.24595189094543457,0.24305759370326996,0.2454289197921753,0.2387954443693161,0.23657482862472534,0.23565690219402313,0.23257771134376526,0.23492030799388885,0.23009423911571503,0.22946858406066895,0.23193593323230743,0.22836901247501373,0.22475457191467285,0.22581157088279724,0.22287583351135254,0.22709490358829498,0.2287560999393463,0.21983622014522552,0.21952462196350098,0.22977374494075775,0.2250177562236786,0.22363203763961792,0.21943281590938568,0.22627146542072296,0.22425559163093567,0.2228562980890274,0.22592873871326447,0.21618682146072388,0.2183900624513626,0.22351568937301636,0.21741902828216553,0.23196004331111908,0.2223881036043167,0.2197297364473343,0.22329917550086975,0.22379089891910553,0.21979205310344696,0.21894103288650513,0.21818575263023376,0.22066527605056763],\"yaxis\":\"y2\",\"type\":\"scatter\"}],                        {\"annotations\":[{\"font\":{\"size\":16},\"showarrow\":false,\"text\":\"Training and validation accuracy\",\"x\":0.225,\"xanchor\":\"center\",\"xref\":\"paper\",\"y\":1.0,\"yanchor\":\"bottom\",\"yref\":\"paper\"},{\"font\":{\"size\":16},\"showarrow\":false,\"text\":\"Training and validation loss\",\"x\":0.775,\"xanchor\":\"center\",\"xref\":\"paper\",\"y\":1.0,\"yanchor\":\"bottom\",\"yref\":\"paper\"}],\"template\":{\"data\":{\"barpolar\":[{\"marker\":{\"line\":{\"color\":\"#E5ECF6\",\"width\":0.5},\"pattern\":{\"fillmode\":\"overlay\",\"size\":10,\"solidity\":0.2}},\"type\":\"barpolar\"}],\"bar\":[{\"error_x\":{\"color\":\"#2a3f5f\"},\"error_y\":{\"color\":\"#2a3f5f\"},\"marker\":{\"line\":{\"color\":\"#E5ECF6\",\"width\":0.5},\"pattern\":{\"fillmode\":\"overlay\",\"size\":10,\"solidity\":0.2}},\"type\":\"bar\"}],\"carpet\":[{\"aaxis\":{\"endlinecolor\":\"#2a3f5f\",\"gridcolor\":\"white\",\"linecolor\":\"white\",\"minorgridcolor\":\"white\",\"startlinecolor\":\"#2a3f5f\"},\"baxis\":{\"endlinecolor\":\"#2a3f5f\",\"gridcolor\":\"white\",\"linecolor\":\"white\",\"minorgridcolor\":\"white\",\"startlinecolor\":\"#2a3f5f\"},\"type\":\"carpet\"}],\"choropleth\":[{\"colorbar\":{\"outlinewidth\":0,\"ticks\":\"\"},\"type\":\"choropleth\"}],\"contourcarpet\":[{\"colorbar\":{\"outlinewidth\":0,\"ticks\":\"\"},\"type\":\"contourcarpet\"}],\"contour\":[{\"colorbar\":{\"outlinewidth\":0,\"ticks\":\"\"},\"colorscale\":[[0.0,\"#0d0887\"],[0.1111111111111111,\"#46039f\"],[0.2222222222222222,\"#7201a8\"],[0.3333333333333333,\"#9c179e\"],[0.4444444444444444,\"#bd3786\"],[0.5555555555555556,\"#d8576b\"],[0.6666666666666666,\"#ed7953\"],[0.7777777777777778,\"#fb9f3a\"],[0.8888888888888888,\"#fdca26\"],[1.0,\"#f0f921\"]],\"type\":\"contour\"}],\"heatmap\":[{\"colorbar\":{\"outlinewidth\":0,\"ticks\":\"\"},\"colorscale\":[[0.0,\"#0d0887\"],[0.1111111111111111,\"#46039f\"],[0.2222222222222222,\"#7201a8\"],[0.3333333333333333,\"#9c179e\"],[0.4444444444444444,\"#bd3786\"],[0.5555555555555556,\"#d8576b\"],[0.6666666666666666,\"#ed7953\"],[0.7777777777777778,\"#fb9f3a\"],[0.8888888888888888,\"#fdca26\"],[1.0,\"#f0f921\"]],\"type\":\"heatmap\"}],\"histogram2dcontour\":[{\"colorbar\":{\"outlinewidth\":0,\"ticks\":\"\"},\"colorscale\":[[0.0,\"#0d0887\"],[0.1111111111111111,\"#46039f\"],[0.2222222222222222,\"#7201a8\"],[0.3333333333333333,\"#9c179e\"],[0.4444444444444444,\"#bd3786\"],[0.5555555555555556,\"#d8576b\"],[0.6666666666666666,\"#ed7953\"],[0.7777777777777778,\"#fb9f3a\"],[0.8888888888888888,\"#fdca26\"],[1.0,\"#f0f921\"]],\"type\":\"histogram2dcontour\"}],\"histogram2d\":[{\"colorbar\":{\"outlinewidth\":0,\"ticks\":\"\"},\"colorscale\":[[0.0,\"#0d0887\"],[0.1111111111111111,\"#46039f\"],[0.2222222222222222,\"#7201a8\"],[0.3333333333333333,\"#9c179e\"],[0.4444444444444444,\"#bd3786\"],[0.5555555555555556,\"#d8576b\"],[0.6666666666666666,\"#ed7953\"],[0.7777777777777778,\"#fb9f3a\"],[0.8888888888888888,\"#fdca26\"],[1.0,\"#f0f921\"]],\"type\":\"histogram2d\"}],\"histogram\":[{\"marker\":{\"pattern\":{\"fillmode\":\"overlay\",\"size\":10,\"solidity\":0.2}},\"type\":\"histogram\"}],\"mesh3d\":[{\"colorbar\":{\"outlinewidth\":0,\"ticks\":\"\"},\"type\":\"mesh3d\"}],\"parcoords\":[{\"line\":{\"colorbar\":{\"outlinewidth\":0,\"ticks\":\"\"}},\"type\":\"parcoords\"}],\"pie\":[{\"automargin\":true,\"type\":\"pie\"}],\"scatter3d\":[{\"line\":{\"colorbar\":{\"outlinewidth\":0,\"ticks\":\"\"}},\"marker\":{\"colorbar\":{\"outlinewidth\":0,\"ticks\":\"\"}},\"type\":\"scatter3d\"}],\"scattercarpet\":[{\"marker\":{\"colorbar\":{\"outlinewidth\":0,\"ticks\":\"\"}},\"type\":\"scattercarpet\"}],\"scattergeo\":[{\"marker\":{\"colorbar\":{\"outlinewidth\":0,\"ticks\":\"\"}},\"type\":\"scattergeo\"}],\"scattergl\":[{\"marker\":{\"colorbar\":{\"outlinewidth\":0,\"ticks\":\"\"}},\"type\":\"scattergl\"}],\"scattermapbox\":[{\"marker\":{\"colorbar\":{\"outlinewidth\":0,\"ticks\":\"\"}},\"type\":\"scattermapbox\"}],\"scattermap\":[{\"marker\":{\"colorbar\":{\"outlinewidth\":0,\"ticks\":\"\"}},\"type\":\"scattermap\"}],\"scatterpolargl\":[{\"marker\":{\"colorbar\":{\"outlinewidth\":0,\"ticks\":\"\"}},\"type\":\"scatterpolargl\"}],\"scatterpolar\":[{\"marker\":{\"colorbar\":{\"outlinewidth\":0,\"ticks\":\"\"}},\"type\":\"scatterpolar\"}],\"scatter\":[{\"fillpattern\":{\"fillmode\":\"overlay\",\"size\":10,\"solidity\":0.2},\"type\":\"scatter\"}],\"scatterternary\":[{\"marker\":{\"colorbar\":{\"outlinewidth\":0,\"ticks\":\"\"}},\"type\":\"scatterternary\"}],\"surface\":[{\"colorbar\":{\"outlinewidth\":0,\"ticks\":\"\"},\"colorscale\":[[0.0,\"#0d0887\"],[0.1111111111111111,\"#46039f\"],[0.2222222222222222,\"#7201a8\"],[0.3333333333333333,\"#9c179e\"],[0.4444444444444444,\"#bd3786\"],[0.5555555555555556,\"#d8576b\"],[0.6666666666666666,\"#ed7953\"],[0.7777777777777778,\"#fb9f3a\"],[0.8888888888888888,\"#fdca26\"],[1.0,\"#f0f921\"]],\"type\":\"surface\"}],\"table\":[{\"cells\":{\"fill\":{\"color\":\"#EBF0F8\"},\"line\":{\"color\":\"white\"}},\"header\":{\"fill\":{\"color\":\"#C8D4E3\"},\"line\":{\"color\":\"white\"}},\"type\":\"table\"}]},\"layout\":{\"annotationdefaults\":{\"arrowcolor\":\"#2a3f5f\",\"arrowhead\":0,\"arrowwidth\":1},\"autotypenumbers\":\"strict\",\"coloraxis\":{\"colorbar\":{\"outlinewidth\":0,\"ticks\":\"\"}},\"colorscale\":{\"diverging\":[[0,\"#8e0152\"],[0.1,\"#c51b7d\"],[0.2,\"#de77ae\"],[0.3,\"#f1b6da\"],[0.4,\"#fde0ef\"],[0.5,\"#f7f7f7\"],[0.6,\"#e6f5d0\"],[0.7,\"#b8e186\"],[0.8,\"#7fbc41\"],[0.9,\"#4d9221\"],[1,\"#276419\"]],\"sequential\":[[0.0,\"#0d0887\"],[0.1111111111111111,\"#46039f\"],[0.2222222222222222,\"#7201a8\"],[0.3333333333333333,\"#9c179e\"],[0.4444444444444444,\"#bd3786\"],[0.5555555555555556,\"#d8576b\"],[0.6666666666666666,\"#ed7953\"],[0.7777777777777778,\"#fb9f3a\"],[0.8888888888888888,\"#fdca26\"],[1.0,\"#f0f921\"]],\"sequentialminus\":[[0.0,\"#0d0887\"],[0.1111111111111111,\"#46039f\"],[0.2222222222222222,\"#7201a8\"],[0.3333333333333333,\"#9c179e\"],[0.4444444444444444,\"#bd3786\"],[0.5555555555555556,\"#d8576b\"],[0.6666666666666666,\"#ed7953\"],[0.7777777777777778,\"#fb9f3a\"],[0.8888888888888888,\"#fdca26\"],[1.0,\"#f0f921\"]]},\"colorway\":[\"#636efa\",\"#EF553B\",\"#00cc96\",\"#ab63fa\",\"#FFA15A\",\"#19d3f3\",\"#FF6692\",\"#B6E880\",\"#FF97FF\",\"#FECB52\"],\"font\":{\"color\":\"#2a3f5f\"},\"geo\":{\"bgcolor\":\"white\",\"lakecolor\":\"white\",\"landcolor\":\"#E5ECF6\",\"showlakes\":true,\"showland\":true,\"subunitcolor\":\"white\"},\"hoverlabel\":{\"align\":\"left\"},\"hovermode\":\"closest\",\"mapbox\":{\"style\":\"light\"},\"paper_bgcolor\":\"white\",\"plot_bgcolor\":\"#E5ECF6\",\"polar\":{\"angularaxis\":{\"gridcolor\":\"white\",\"linecolor\":\"white\",\"ticks\":\"\"},\"bgcolor\":\"#E5ECF6\",\"radialaxis\":{\"gridcolor\":\"white\",\"linecolor\":\"white\",\"ticks\":\"\"}},\"scene\":{\"xaxis\":{\"backgroundcolor\":\"#E5ECF6\",\"gridcolor\":\"white\",\"gridwidth\":2,\"linecolor\":\"white\",\"showbackground\":true,\"ticks\":\"\",\"zerolinecolor\":\"white\"},\"yaxis\":{\"backgroundcolor\":\"#E5ECF6\",\"gridcolor\":\"white\",\"gridwidth\":2,\"linecolor\":\"white\",\"showbackground\":true,\"ticks\":\"\",\"zerolinecolor\":\"white\"},\"zaxis\":{\"backgroundcolor\":\"#E5ECF6\",\"gridcolor\":\"white\",\"gridwidth\":2,\"linecolor\":\"white\",\"showbackground\":true,\"ticks\":\"\",\"zerolinecolor\":\"white\"}},\"shapedefaults\":{\"line\":{\"color\":\"#2a3f5f\"}},\"ternary\":{\"aaxis\":{\"gridcolor\":\"white\",\"linecolor\":\"white\",\"ticks\":\"\"},\"baxis\":{\"gridcolor\":\"white\",\"linecolor\":\"white\",\"ticks\":\"\"},\"bgcolor\":\"#E5ECF6\",\"caxis\":{\"gridcolor\":\"white\",\"linecolor\":\"white\",\"ticks\":\"\"}},\"title\":{\"x\":0.05},\"xaxis\":{\"automargin\":true,\"gridcolor\":\"white\",\"linecolor\":\"white\",\"ticks\":\"\",\"title\":{\"standoff\":15},\"zerolinecolor\":\"white\",\"zerolinewidth\":2},\"yaxis\":{\"automargin\":true,\"gridcolor\":\"white\",\"linecolor\":\"white\",\"ticks\":\"\",\"title\":{\"standoff\":15},\"zerolinecolor\":\"white\",\"zerolinewidth\":2}}},\"xaxis\":{\"anchor\":\"y\",\"domain\":[0.0,0.45],\"title\":{\"text\":\"Epoch\"}},\"yaxis\":{\"anchor\":\"x\",\"domain\":[0.0,1.0],\"range\":[0,1],\"title\":{\"text\":\"Accuracy\"}},\"xaxis2\":{\"anchor\":\"y2\",\"domain\":[0.55,1.0],\"title\":{\"text\":\"Epoch\"}},\"yaxis2\":{\"anchor\":\"x2\",\"domain\":[0.0,1.0],\"range\":[0,1],\"title\":{\"text\":\"Loss\"}}},                        {\"responsive\": true}                    ).then(function(){\n",
       "                            \n",
       "var gd = document.getElementById('36db6c2b-7764-4cdd-a15c-39679c99a45b');\n",
       "var x = new MutationObserver(function (mutations, observer) {{\n",
       "        var display = window.getComputedStyle(gd).display;\n",
       "        if (!display || display === 'none') {{\n",
       "            console.log([gd, 'removed!']);\n",
       "            Plotly.purge(gd);\n",
       "            observer.disconnect();\n",
       "        }}\n",
       "}});\n",
       "\n",
       "// Listen for the removal of the full notebook cells\n",
       "var notebookContainer = gd.closest('#notebook-container');\n",
       "if (notebookContainer) {{\n",
       "    x.observe(notebookContainer, {childList: true});\n",
       "}}\n",
       "\n",
       "// Listen for the clearing of the current output cell\n",
       "var outputEl = gd.closest('.output');\n",
       "if (outputEl) {{\n",
       "    x.observe(outputEl, {childList: true});\n",
       "}}\n",
       "\n",
       "                        })                };            </script>        </div>"
      ]
     },
     "metadata": {},
     "output_type": "display_data"
    }
   ],
   "source": [
    "plot_accuracy_and_loss(train_model)"
   ]
  },
  {
   "cell_type": "markdown",
   "id": "603d2c04",
   "metadata": {},
   "source": [
    "### Optimized Test Loss and Accuracy"
   ]
  },
  {
   "cell_type": "code",
   "execution_count": 30,
   "id": "58a0a384",
   "metadata": {},
   "outputs": [
    {
     "name": "stdout",
     "output_type": "stream",
     "text": [
      "Test loss: 0.2108679860830307\n",
      "Test accuracy: 0.9254999756813049\n"
     ]
    }
   ],
   "source": [
    "score = model.evaluate(X_test, y_test, verbose=0)\n",
    "print('Test loss:', score[0])\n",
    "print('Test accuracy:', score[1])"
   ]
  },
  {
   "cell_type": "markdown",
   "id": "fb425f01",
   "metadata": {},
   "source": [
    "## Prediction"
   ]
  },
  {
   "cell_type": "code",
   "execution_count": 31,
   "id": "110712c7",
   "metadata": {},
   "outputs": [
    {
     "name": "stdout",
     "output_type": "stream",
     "text": [
      "\u001b[1m313/313\u001b[0m \u001b[32m━━━━━━━━━━━━━━━━━━━━\u001b[0m\u001b[37m\u001b[0m \u001b[1m3s\u001b[0m 9ms/step\n"
     ]
    }
   ],
   "source": [
    "# Get the predictions for the test data\n",
    "y_pred_prob = model.predict(X_test)          # get predicted probabilities\n",
    "predicted_classes = y_pred_prob.argmax(axis=1)  # convert to class indices\n",
    "\n",
    "# Get the true labels\n",
    "y_true = test_data.iloc[:, 0].values        # first column as numpy array\n"
   ]
  },
  {
   "cell_type": "code",
   "execution_count": 32,
   "id": "075ac354",
   "metadata": {},
   "outputs": [],
   "source": [
    "p = predicted_classes[:10000]\n",
    "y = y_true[:10000]\n",
    "correct = np.nonzero(p==y)[0]\n",
    "incorrect = np.nonzero(p!=y)[0]"
   ]
  },
  {
   "cell_type": "code",
   "execution_count": 33,
   "id": "2d589b16",
   "metadata": {},
   "outputs": [
    {
     "name": "stdout",
     "output_type": "stream",
     "text": [
      "Correct predicted classes: 9255\n",
      "Incorrect predicted classes: 745\n"
     ]
    }
   ],
   "source": [
    "print(\"Correct predicted classes:\",correct.shape[0])\n",
    "print(\"Incorrect predicted classes:\",incorrect.shape[0])"
   ]
  },
  {
   "cell_type": "code",
   "execution_count": 34,
   "id": "54d81f91",
   "metadata": {},
   "outputs": [
    {
     "name": "stdout",
     "output_type": "stream",
     "text": [
      "                         precision    recall  f1-score   support\n",
      "\n",
      "Class 0 (T-shirt/top) :       0.87      0.88      0.88      1000\n",
      "    Class 1 (Trouser) :       0.99      0.98      0.99      1000\n",
      "   Class 2 (Pullover) :       0.92      0.87      0.89      1000\n",
      "      Class 3 (Dress) :       0.91      0.95      0.93      1000\n",
      "       Class 4 (Coat) :       0.91      0.86      0.89      1000\n",
      "     Class 5 (Sandal) :       0.99      0.98      0.98      1000\n",
      "      Class 6 (Shirt) :       0.77      0.81      0.78      1000\n",
      "    Class 7 (Sneaker) :       0.95      0.98      0.96      1000\n",
      "        Class 8 (Bag) :       0.99      0.99      0.99      1000\n",
      " Class 9 (Ankle Boot) :       0.97      0.96      0.97      1000\n",
      "\n",
      "               accuracy                           0.93     10000\n",
      "              macro avg       0.93      0.93      0.93     10000\n",
      "           weighted avg       0.93      0.93      0.93     10000\n",
      "\n"
     ]
    }
   ],
   "source": [
    "target_names = [\"Class {} ({}) :\".format(i,labels[i]) for i in range(NUM_CLASSES)]\n",
    "print(classification_report(y_true, predicted_classes, target_names=target_names))"
   ]
  },
  {
   "cell_type": "code",
   "execution_count": 35,
   "id": "75682187",
   "metadata": {},
   "outputs": [
    {
     "data": {
      "image/png": "[encoded data removed]",
      "text/plain": [
       "<Figure size 1500x1500 with 16 Axes>"
      ]
     },
     "metadata": {},
     "output_type": "display_data"
    }
   ],
   "source": [
    "def plot_images(data_index,cmap=\"Blues\"):\n",
    "    # Plot the sample images now\n",
    "    f, ax = plt.subplots(4,4, figsize=(15,15))\n",
    "\n",
    "    for i, indx in enumerate(data_index[:16]):\n",
    "        ax[i//4, i%4].imshow(X_test[indx].reshape(IMG_ROWS,IMG_COLS), cmap=cmap)\n",
    "        ax[i//4, i%4].axis('off')\n",
    "        ax[i//4, i%4].set_title(\"True:{}  Pred:{}\".format(labels[y_true[indx]],labels[predicted_classes[indx]]))\n",
    "    plt.show()    \n",
    "    \n",
    "plot_images(correct, \"Greens\")"
   ]
  },
  {
   "cell_type": "code",
   "execution_count": 36,
   "id": "3af6fe7a",
   "metadata": {},
   "outputs": [
    {
     "data": {
      "image/png": "[encoded data removed]",
      "text/plain": [
       "<Figure size 1500x1500 with 16 Axes>"
      ]
     },
     "metadata": {},
     "output_type": "display_data"
    }
   ],
   "source": [
    "plot_images(incorrect, \"Reds\")"
   ]
  },
  {
   "cell_type": "markdown",
   "id": "c78fc461",
   "metadata": {},
   "source": [
    "## Saving the Model"
   ]
  },
  {
   "cell_type": "code",
   "execution_count": 37,
   "id": "3307d2bd",
   "metadata": {},
   "outputs": [],
   "source": [
    "model.save(\"trained_model.keras\")"
   ]
  }
 ],
 "metadata": {
  "kernelspec": {
   "display_name": "ML",
   "language": "python",
   "name": "python3"
  },
  "language_info": {
   "codemirror_mode": {
    "name": "ipython",
    "version": 3
   },
   "file_extension": ".py",
   "mimetype": "text/x-python",
   "name": "python",
   "nbconvert_exporter": "python",
   "pygments_lexer": "ipython3",
   "version": "3.10.18"
  }
 },
 "nbformat": 4,
 "nbformat_minor": 5
}
