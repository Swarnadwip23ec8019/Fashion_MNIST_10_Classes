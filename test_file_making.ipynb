{
 "cells": [
  {
   "cell_type": "code",
   "execution_count": 12,
   "id": "12550338",
   "metadata": {},
   "outputs": [],
   "source": [
    "import idx2numpy\n",
    "from PIL import Image\n",
    "import os"
   ]
  },
  {
   "cell_type": "code",
   "execution_count": 13,
   "id": "9d07713d",
   "metadata": {},
   "outputs": [],
   "source": [
    "# -----------------------------\n",
    "# Paths to .ubyte files\n",
    "# -----------------------------\n",
    "base_path = \"./fashionmnist/\"  # folder where your .ubyte files are located\n",
    "\n",
    "train_images_path = os.path.join(base_path, \"train-images-idx3-ubyte\")\n",
    "train_labels_path = os.path.join(base_path, \"train-labels-idx1-ubyte\")\n",
    "test_images_path  = os.path.join(base_path, \"t10k-images-idx3-ubyte\")\n",
    "test_labels_path  = os.path.join(base_path, \"t10k-labels-idx1-ubyte\")"
   ]
  },
  {
   "cell_type": "code",
   "execution_count": 14,
   "id": "f256cf8a",
   "metadata": {},
   "outputs": [
    {
     "name": "stdout",
     "output_type": "stream",
     "text": [
      "Loading .ubyte files...\n"
     ]
    }
   ],
   "source": [
    "# -----------------------------\n",
    "# Load the ubyte files\n",
    "# -----------------------------\n",
    "print(\"Loading .ubyte files...\")\n",
    "X_train = idx2numpy.convert_from_file(train_images_path)\n",
    "y_train = idx2numpy.convert_from_file(train_labels_path)\n",
    "X_test = idx2numpy.convert_from_file(test_images_path)\n",
    "y_test = idx2numpy.convert_from_file(test_labels_path)"
   ]
  },
  {
   "cell_type": "code",
   "execution_count": 15,
   "id": "c7680f26",
   "metadata": {},
   "outputs": [
    {
     "name": "stdout",
     "output_type": "stream",
     "text": [
      "Train shape: (60000, 28, 28)\n",
      "Test shape: (10000, 28, 28)\n"
     ]
    }
   ],
   "source": [
    "print(\"Train shape:\", X_train.shape)\n",
    "print(\"Test shape:\", X_test.shape)"
   ]
  },
  {
   "cell_type": "code",
   "execution_count": 16,
   "id": "ce3957c0",
   "metadata": {},
   "outputs": [],
   "source": [
    "# -----------------------------\n",
    "# Label dictionary (Fashion MNIST)\n",
    "# -----------------------------\n",
    "labels = {\n",
    "    0: \"T-shirt_top\",\n",
    "    1: \"Trouser\",\n",
    "    2: \"Pullover\",\n",
    "    3: \"Dress\",\n",
    "    4: \"Coat\",\n",
    "    5: \"Sandal\",\n",
    "    6: \"Shirt\",\n",
    "    7: \"Sneaker\",\n",
    "    8: \"Bag\",\n",
    "    9: \"Ankle_boot\"\n",
    "}\n"
   ]
  },
  {
   "cell_type": "code",
   "execution_count": 17,
   "id": "3ac9c130",
   "metadata": {},
   "outputs": [],
   "source": [
    "# -----------------------------\n",
    "# Output Folder Structure\n",
    "# -----------------------------\n",
    "# Example: ./converted_data/test/Ankle_boot/  -> all test images of that class\n",
    "parent_output_dir = \"./converted_test_data\"  # parent folder\n",
    "train_output_dir = os.path.join(parent_output_dir, \"train\")\n",
    "test_output_dir  = os.path.join(parent_output_dir, \"test\")"
   ]
  },
  {
   "cell_type": "code",
   "execution_count": 18,
   "id": "0233f313",
   "metadata": {},
   "outputs": [],
   "source": [
    "# Create folders for each class\n",
    "for split_dir in [train_output_dir, test_output_dir]:\n",
    "    for label_name in labels.values():\n",
    "        os.makedirs(os.path.join(split_dir, label_name), exist_ok=True)"
   ]
  },
  {
   "cell_type": "code",
   "execution_count": 19,
   "id": "f8912b03",
   "metadata": {},
   "outputs": [],
   "source": [
    "# -----------------------------\n",
    "# Function to Save Images\n",
    "# -----------------------------\n",
    "def save_images(X, y, output_dir, split_name, limit=None):\n",
    "    total = len(X) if limit is None else min(limit, len(X))\n",
    "    print(f\"Saving {total} images to '{split_name}' folder...\")\n",
    "\n",
    "    for i in range(total):\n",
    "        label_index = y[i]\n",
    "        label_name = labels[label_index]\n",
    "        img = Image.fromarray(X[i])\n",
    "        img_path = os.path.join(output_dir, label_name, f\"{split_name}_{i}_label_{label_name}.png\")\n",
    "        img.save(img_path)\n",
    "\n",
    "    print(f\"✅ {split_name.capitalize()} images saved successfully at: {output_dir}\")"
   ]
  },
  {
   "cell_type": "code",
   "execution_count": 20,
   "id": "752c1749",
   "metadata": {},
   "outputs": [
    {
     "name": "stdout",
     "output_type": "stream",
     "text": [
      "Saving 60000 images to 'train' folder...\n",
      "✅ Train images saved successfully at: ./converted_test_data\\train\n",
      "Saving 10000 images to 'test' folder...\n",
      "✅ Test images saved successfully at: ./converted_test_data\\test\n"
     ]
    }
   ],
   "source": [
    "# -----------------------------\n",
    "# Save train & test images\n",
    "# -----------------------------\n",
    "save_images(X_train, y_train, train_output_dir, \"train\", limit=None)\n",
    "save_images(X_test, y_test, test_output_dir, \"test\", limit=None)"
   ]
  }
 ],
 "metadata": {
  "kernelspec": {
   "display_name": "ML",
   "language": "python",
   "name": "python3"
  },
  "language_info": {
   "codemirror_mode": {
    "name": "ipython",
    "version": 3
   },
   "file_extension": ".py",
   "mimetype": "text/x-python",
   "name": "python",
   "nbconvert_exporter": "python",
   "pygments_lexer": "ipython3",
   "version": "3.10.18"
  }
 },
 "nbformat": 4,
 "nbformat_minor": 5
}
